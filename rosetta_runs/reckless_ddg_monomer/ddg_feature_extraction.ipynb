{
 "cells": [
  {
   "cell_type": "code",
   "execution_count": 13,
   "metadata": {
    "collapsed": false
   },
   "outputs": [
    {
     "data": {
      "text/plain": [
       "Index([u'ddG:', u'description', u'total', u'fa_atr', u'fa_rep', u'fa_sol',\n",
       "       u'fa_intra_rep', u'fa_elec', u'pro_close', u'hbond_sr_bb',\n",
       "       u'hbond_lr_bb', u'hbond_bb_sc', u'hbond_sc', u'dslf_fa13', u'rama',\n",
       "       u'omega', u'fa_dun', u'p_aa_pp', u'yhh_planarity', u'ref'],\n",
       "      dtype='object')"
      ]
     },
     "execution_count": 13,
     "metadata": {},
     "output_type": "execute_result"
    }
   ],
   "source": [
    "import pandas \n",
    "\n",
    "df = pandas.read_csv( 'ddg_predictions.out', sep='\\s+' )\n",
    "df = df[ ( df.description != 'description' ) ] \n",
    "df.index = df.description\n",
    "\n",
    "df.columns"
   ]
  },
  {
   "cell_type": "code",
   "execution_count": 16,
   "metadata": {
    "collapsed": true
   },
   "outputs": [],
   "source": [
    "features = [ \n",
    "    u'total', u'fa_atr', u'fa_rep', u'fa_sol',\n",
    "    u'fa_intra_rep', u'fa_elec', u'pro_close', u'hbond_bb_sc', u'hbond_sc', u'rama',\n",
    "    u'omega', u'fa_dun', u'p_aa_pp', u'yhh_planarity' \n",
    "]"
   ]
  },
  {
   "cell_type": "code",
   "execution_count": 19,
   "metadata": {
    "collapsed": true
   },
   "outputs": [],
   "source": [
    "df[ features ].to_csv( 'ddg_feature_set.csv' ) "
   ]
  },
  {
   "cell_type": "code",
   "execution_count": 20,
   "metadata": {
    "collapsed": false
   },
   "outputs": [
    {
     "name": "stdout",
     "output_type": "stream",
     "text": [
      "{'extra_link_args': ['-Wl,-framework', '-Wl,Accelerate'], 'extra_compile_args': ['-msse3', '-I/System/Library/Frameworks/vecLib.framework/Headers'], 'define_macros': [('NO_ATLAS_INFO', 3), ('HAVE_CBLAS', None)]}\n",
      "{'extra_link_args': ['-Wl,-framework', '-Wl,Accelerate'], 'extra_compile_args': ['-msse3'], 'define_macros': [('NO_ATLAS_INFO', 3), ('HAVE_CBLAS', None)]}\n"
     ]
    },
    {
     "name": "stderr",
     "output_type": "stream",
     "text": [
      "/usr/local/bin/anaconda/lib/python2.7/site-packages/numpy-1.10.1-py2.7-macosx-10.5-x86_64.egg/numpy/distutils/system_info.py:635: UserWarning: Specified path  is invalid.\n",
      "  warnings.warn('Specified path %s is invalid.' % d)\n"
     ]
    }
   ],
   "source": [
    "from numpy.distutils.system_info import get_info\n",
    "print(get_info('blas_opt'))\n",
    "print(get_info('lapack_opt'))"
   ]
  },
  {
   "cell_type": "code",
   "execution_count": null,
   "metadata": {
    "collapsed": true
   },
   "outputs": [],
   "source": []
  }
 ],
 "metadata": {
  "kernelspec": {
   "display_name": "Python 2",
   "language": "python",
   "name": "python2"
  },
  "language_info": {
   "codemirror_mode": {
    "name": "ipython",
    "version": 2
   },
   "file_extension": ".py",
   "mimetype": "text/x-python",
   "name": "python",
   "nbconvert_exporter": "python",
   "pygments_lexer": "ipython2",
   "version": "2.7.11"
  }
 },
 "nbformat": 4,
 "nbformat_minor": 0
}
