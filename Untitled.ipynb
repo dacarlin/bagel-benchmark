{
 "cells": [
  {
   "cell_type": "markdown",
   "metadata": {},
   "source": [
    "# Constrained statistical learning plus experimental data predicts the functional effect of mutations in a model enzyme \n",
    "\n",
    "## Prep input files \n",
    "\n",
    "First, we'll make models of all of the enzymes using Rosetta. All we need is a wild type PDB structure, `bglb.pdb`, and a list of mutations that we have kinetic data for, `mutant_list`. "
   ]
  },
  {
   "cell_type": "code",
   "execution_count": 1,
   "metadata": {
    "collapsed": false
   },
   "outputs": [
    {
     "name": "stdout",
     "output_type": "stream",
     "text": [
      "bglb.pdb  logs\t       pNPG.conf.pdb\tprotocol   sub.sh\r\n",
      "flags\t  mutant_list  pNPG.enzdes.cst\tREADME.md  training_sets\r\n",
      "list\t  out\t       pNPG.params\tresults    Untitled.ipynb\r\n"
     ]
    }
   ],
   "source": [
    "! ls "
   ]
  },
  {
   "cell_type": "markdown",
   "metadata": {},
   "source": [
    "### Using MutateResidue mover "
   ]
  },
  {
   "cell_type": "code",
   "execution_count": null,
   "metadata": {
    "collapsed": false
   },
   "outputs": [],
   "source": [
    "# this one for MutateResidue \n",
    "\n",
    "from Bio.SeqUtils import IUPACData\n",
    "nstruct = 100\n",
    "\n",
    "with open( 'mutant_list' ) as fn:\n",
    "    mutants = [ i.strip() for i in fn.readlines() if len( i ) > 1 ] \n",
    "    print len( mutants ), 'mutants'\n",
    "\n",
    "nstruct = 100\n",
    "\n",
    "runs = [\n",
    "    # '-s input_pdb/{}.pdb -parser:script_vars target={} -suffix _{} \\n'.format( mutant, mutant[1:-1], i ) )\n",
    "    '-parser:script_vars target={} new_res={} -suffix _{}_{:04d}\\n'.format( m[1:-1], IUPACData.protein_letters_1to3[ m[-1] ].upper(), m, i )\n",
    "    for i in range( nstruct )\n",
    "    for m in mutants \n",
    "]\n",
    "\n",
    "with open( 'list', 'w' ) as fn:\n",
    "    fn.write( ''.join( runs ) )\n",
    "    \n",
    "! wc -l list \n",
    "! head -2 list "
   ]
  },
  {
   "cell_type": "markdown",
   "metadata": {},
   "source": [
    "## Run the simulations on Cabernet with SLURM "
   ]
  },
  {
   "cell_type": "code",
   "execution_count": null,
   "metadata": {
    "collapsed": false,
    "scrolled": true
   },
   "outputs": [],
   "source": [
    "%%bash\n",
    "# run the simulations on Cabernet w/ SLURM \n",
    " \n",
    "runs=$( wc -l list | cut -d' ' -f1 )\n",
    "echo $runs runs \n",
    "echo sbatch -p gc128 --array=1-$runs sub.sh\n",
    "#sbatch -p gc128 --array=1-$runs sub.sh"
   ]
  },
  {
   "cell_type": "markdown",
   "metadata": {},
   "source": [
    "## Collect data from the modeling simulations and combine with experimental data  "
   ]
  },
  {
   "cell_type": "code",
   "execution_count": null,
   "metadata": {
    "collapsed": false,
    "scrolled": false
   },
   "outputs": [],
   "source": [
    "from glob import glob \n",
    "import pandas\n",
    "\n",
    "sfs = [ pandas.read_csv( i, sep='\\s+' ) for i in glob( 'out/*sc' ) ]\n",
    "sf = pandas.concat( sfs )\n",
    "sf['name'] = sf.description.str.split( '_' ).str[ 1 ]\n",
    "sf.to_csv( 'scorefile.csv' )"
   ]
  },
  {
   "cell_type": "code",
   "execution_count": 9,
   "metadata": {
    "collapsed": false
   },
   "outputs": [
    {
     "name": "stdout",
     "output_type": "stream",
     "text": [
      "16183 scorefile.csv\r\n"
     ]
    }
   ],
   "source": [
    "! wc -l scorefile.csv"
   ]
  },
  {
   "cell_type": "code",
   "execution_count": 8,
   "metadata": {
    "collapsed": false
   },
   "outputs": [
    {
     "name": "stdout",
     "output_type": "stream",
     "text": [
      "1660 models in scorefile\n"
     ]
    }
   ],
   "source": [
    "sf = pandas.read_csv( 'scorefile.csv', index_col='description' )\n",
    "\n",
    "def low_10( df ):\n",
    "    return df.sort( 'total_score' ).head( 10 ).mean()\n",
    "\n",
    "grouped = sf.groupby( 'name' )\n",
    "low10 = grouped.apply( low_10 )\n",
    "low10.index = low10.name \n",
    "\n",
    "print len( low10 ), 'models in scorefile'"
   ]
  },
  {
   "cell_type": "code",
   "execution_count": 10,
   "metadata": {
    "collapsed": false,
    "scrolled": false
   },
   "outputs": [
    {
     "name": "stdout",
     "output_type": "stream",
     "text": [
      "76 kcat\n",
      "76 km\n",
      "87 kcat/km\n"
     ]
    }
   ],
   "source": [
    "from numpy import log, inf, nan\n",
    "\n",
    "# experimental data \n",
    "experimental = pandas.read_csv( '../bagel-data/clean_data/clean_for_pandas.csv', index_col='name' )\n",
    "\n",
    "# log and relative to wt \n",
    "wt = experimental.loc[ 'BglB' ]\n",
    "experimental.drop( [ 'BglB' ] )\n",
    "log_diff = log( experimental / wt )\n",
    "\n",
    "print len( log_diff.kcat.dropna() ), 'kcat'\n",
    "print len( log_diff.km.dropna() ), 'km'\n",
    "print len( log_diff.kcatkm.dropna() ), 'kcat/km'"
   ]
  },
  {
   "cell_type": "code",
   "execution_count": 11,
   "metadata": {
    "collapsed": false
   },
   "outputs": [
    {
     "name": "stdout",
     "output_type": "stream",
     "text": [
      "1660 joined total\n"
     ]
    }
   ],
   "source": [
    "# join with models \n",
    "joined = low10.join( log_diff )\n",
    "print len( joined ), 'joined total'\n",
    "\n",
    "# make a list of what we don't have data for \n",
    "# predict that list "
   ]
  },
  {
   "cell_type": "markdown",
   "metadata": {},
   "source": [
    "So now we have 10 models (the lowest 10 by total_energy out of 100 simulations) of each protein, joined with experimental data. We don't have all pieces of experimental data for each protein, so there are some NaNs in the above dataframe, which scikit-learn doesn't deal very well with. We will clean up the data. "
   ]
  },
  {
   "cell_type": "code",
   "execution_count": 13,
   "metadata": {
    "collapsed": false
   },
   "outputs": [],
   "source": [
    "constants = [ 'kcat', 'km', 'kcatkm' ]\n",
    "\n",
    "# clean up data for sklearn\n",
    "x_cols = [ u'total_score', u'fa_rep', u'hbond_sc', u'tot_pstat_pm',\n",
    "       u'tot_nlpstat_pm', u'tot_burunsat_pm', u'tot_hbond_pm',\n",
    "       u'tot_NLconts_pm', u'tot_nlsurfaceE_pm', u'tot_total_charge',\n",
    "       u'tot_total_pos_charges', u'tot_total_neg_charges', u'tot_seq_recovery',\n",
    "       u'SR_1_total_score', u'SR_1_fa_rep', u'SR_1_hbond_sc',\n",
    "       u'SR_1_hbond_pm', u'SR_1_burunsat_pm',\n",
    "       u'SR_1_pstat_pm', u'SR_1_nlpstat_pm', u'SR_2_total_score',\n",
    "       u'SR_2_fa_rep', u'SR_2_hbond_sc', u'SR_2_all_cst', u'SR_2_hbond_pm',\n",
    "       u'SR_2_burunsat_pm', u'SR_2_pstat_pm', u'SR_2_nlpstat_pm',\n",
    "       u'SR_3_total_score', u'SR_3_fa_rep', u'SR_3_hbond_sc', \n",
    "       u'SR_3_hbond_pm', u'SR_3_burunsat_pm', u'SR_3_pstat_pm',\n",
    "       u'SR_3_nlpstat_pm', u'SR_4_total_score', u'SR_4_fa_rep',\n",
    "       u'SR_4_hbond_sc', u'SR_4_hbond_pm',\n",
    "       u'SR_4_burunsat_pm', u'SR_4_pstat_pm', u'SR_4_nlpstat_pm',\n",
    "       u'SR_5_total_score', u'SR_5_fa_rep', u'SR_5_hbond_sc', u'SR_5_all_cst',\n",
    "       u'SR_5_interf_E_1_2', u'SR_5_dsasa_1_2', u'SR_5_hbond_pm',\n",
    "       u'SR_5_burunsat_pm', ]\n",
    "\n",
    "for constant in constants:\n",
    "    work = joined[ x_cols + [ constant ] ]\n",
    "    work = work.replace( [ inf, -inf ], nan )\n",
    "    work = work.dropna()\n",
    "    work.to_csv( 'training_sets/{}.csv'.format( constant ) )\n",
    "    # now we have 3 clean CSVs, one for each constant"
   ]
  },
  {
   "cell_type": "markdown",
   "metadata": {},
   "source": [
    "This completes our cleaning up the data to use in machine learning. In the next steps, we will evaluate the performance of machine learning algorithms in predicting the functional effect of each mutation, in terms of its effect on kcat, km, and kcat/km. \n",
    "\n",
    "## Elastic net regression gives PCC values of 0.7-0.8 "
   ]
  },
  {
   "cell_type": "code",
   "execution_count": 18,
   "metadata": {
    "collapsed": false,
    "scrolled": false
   },
   "outputs": [
    {
     "name": "stdout",
     "output_type": "stream",
     "text": [
      "680 models for constant kcat\n",
      "Constant kcat\n",
      "PCC=0.47\n"
     ]
    },
    {
     "data": {
      "image/png": "[encoded data removed]",
      "text/plain": [
       "<matplotlib.figure.Figure at 0x7f5d16456a50>"
      ]
     },
     "metadata": {},
     "output_type": "display_data"
    },
    {
     "name": "stdout",
     "output_type": "stream",
     "text": [
      "700 models for constant km\n",
      "Constant km\n",
      "PCC=0.61\n"
     ]
    },
    {
     "data": {
      "image/png": "[encoded data removed]",
      "text/plain": [
       "<matplotlib.figure.Figure at 0x7f5d162823d0>"
      ]
     },
     "metadata": {},
     "output_type": "display_data"
    },
    {
     "name": "stdout",
     "output_type": "stream",
     "text": [
      "770 models for constant kcatkm\n",
      "Constant kcatkm\n",
      "PCC=0.74\n"
     ]
    },
    {
     "data": {
      "image/png": "[encoded data removed]",
      "text/plain": [
       "<matplotlib.figure.Figure at 0x7f5d16456a50>"
      ]
     },
     "metadata": {},
     "output_type": "display_data"
    }
   ],
   "source": [
    "%matplotlib inline\n",
    "import matplotlib.pyplot as plt\n",
    "\n",
    "from sklearn.linear_model import ElasticNetCV\n",
    "from sklearn.ensemble import BaggingRegressor\n",
    "from sklearn.cross_validation import StratifiedKFold\n",
    "from scipy.stats.stats import pearsonr\n",
    "\n",
    "constants = [ 'kcat', 'km', 'kcatkm' ]\n",
    "for constant in constants:\n",
    "    df = pandas.read_csv( 'training_sets/{}.csv'.format( constant ), index_col='name' )\n",
    "    print len( df ), 'models for constant', constant\n",
    "    y = df[ constant ]\n",
    "    X = df.drop( constant, axis=1 )\n",
    "        \n",
    "    import matplotlib.pyplot as plt \n",
    "    %matplotlib inline\n",
    "\n",
    "    skf = StratifiedKFold( y, 10 )\n",
    "    net = ElasticNetCV( l1_ratio=[.1, .5, .7, .9, .95, .99, 1], cv=skf )\n",
    "    bag = BaggingRegressor( net, n_estimators=10, n_jobs=10 )\n",
    "    bag.fit( X, y )\n",
    "\n",
    "    #weights = pandas.DataFrame( zip( X.columns, bag.estimators_[0].best_estimator_.coef_ ), columns=['feature', 'weight'] )\n",
    "    preds = bag.predict( X )\n",
    "\n",
    "    #print weights[ ( weights.weight > 0 )].sort( 'weight', ascending=False )\n",
    "    print 'Constant', constant\n",
    "    print 'PCC={:2.2f}'.format( pearsonr( preds, y )[0] )\n",
    "\n",
    "    plt.figure( figsize=(4,4) )\n",
    "    plt.scatter( preds, y, marker='.', color='k' )\n",
    "    plt.xlabel( 'Predicted' )\n",
    "    plt.ylabel( 'Actual' )\n",
    "    plt.show()"
   ]
  }
 ],
 "metadata": {
  "kernelspec": {
   "display_name": "Python 2",
   "language": "python",
   "name": "python2"
  },
  "language_info": {
   "codemirror_mode": {
    "name": "ipython",
    "version": 2
   },
   "file_extension": ".py",
   "mimetype": "text/x-python",
   "name": "python",
   "nbconvert_exporter": "python",
   "pygments_lexer": "ipython2",
   "version": "2.7.10"
  }
 },
 "nbformat": 4,
 "nbformat_minor": 0
}
