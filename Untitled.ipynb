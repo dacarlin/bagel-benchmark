{
 "cells": [
  {
   "cell_type": "markdown",
   "metadata": {},
   "source": [
    "# How to train a constrained statistical learning algorithm on experimental enzyme kinetic data to predict the functional effect of mutations \n",
    "\n",
    "First, we'll make models of all of the enzymes using Rosetta. All we need is a wild type PDB structure, `bglb.pdb`, and a list of mutations that we have kinetic data for, `we_have_in_house.txt`. "
   ]
  },
  {
   "cell_type": "code",
   "execution_count": 12,
   "metadata": {
    "collapsed": false
   },
   "outputs": [
    {
     "name": "stdout",
     "output_type": "stream",
     "text": [
      "bglb.pdb\t       list\t      pNPG.enzdes.cst  run_me.bash\r\n",
      "flags\t\t       log.txt\t      pNPG.params      sub.sh\r\n",
      "input_data_kcat.csv    make_list.py   protocol\t       Untitled.ipynb\r\n",
      "input_data_kcatkm.csv  out\t      repack.xml       we_have_in_house.txt\r\n",
      "input_data_km.csv      pNPG.conf.pdb  repack_xml_out\r\n"
     ]
    }
   ],
   "source": [
    "! ls"
   ]
  },
  {
   "cell_type": "code",
   "execution_count": 13,
   "metadata": {
    "collapsed": true
   },
   "outputs": [],
   "source": [
    "from Bio.SeqUtils import IUPACData\n",
    "nstruct = 100\n",
    "\n",
    "with open( 'we_have_in_house.txt' ) as fn:\n",
    "    mutants = [ i.strip() for i in fn.readlines() if len( i ) > 1 ] \n",
    "\n",
    "with open( 'list', 'w' ) as fn:\n",
    "    for i in range( nstruct ):\n",
    "        for mutant in mutants:\n",
    "            target = int( mutant[ 1:-1 ] ) \n",
    "            new_res = IUPACData.protein_letters_1to3[ mutant[ -1 ] ].upper() \n",
    "            fn.write( '-suffix _{3}_{2} -parser:script_vars target={0} new_res={1}\\n'.format( target, new_res, i, mutant ) )"
   ]
  },
  {
   "cell_type": "code",
   "execution_count": 14,
   "metadata": {
    "collapsed": false
   },
   "outputs": [
    {
     "name": "stdout",
     "output_type": "stream",
     "text": [
      "-suffix _E406A_99 -parser:script_vars target=406 new_res=ALA\r\n",
      "-suffix _E406D_99 -parser:script_vars target=406 new_res=ASP\r\n",
      "-suffix _W407A_99 -parser:script_vars target=407 new_res=ALA\r\n",
      "-suffix _W407G_99 -parser:script_vars target=407 new_res=GLY\r\n",
      "-suffix _W407Q_99 -parser:script_vars target=407 new_res=GLN\r\n",
      "-suffix _W407R_99 -parser:script_vars target=407 new_res=ARG\r\n",
      "-suffix _W409A_99 -parser:script_vars target=409 new_res=ALA\r\n",
      "-suffix _K413A_99 -parser:script_vars target=413 new_res=ALA\r\n",
      "-suffix _F415A_99 -parser:script_vars target=415 new_res=ALA\r\n",
      "-suffix _E423S_99 -parser:script_vars target=423 new_res=SER\r\n"
     ]
    }
   ],
   "source": [
    "! tail list"
   ]
  },
  {
   "cell_type": "code",
   "execution_count": 15,
   "metadata": {
    "collapsed": false,
    "scrolled": true
   },
   "outputs": [
    {
     "name": "stdout",
     "output_type": "stream",
     "text": [
      "sbatch --array=1-13300 sub.sh\n"
     ]
    }
   ],
   "source": [
    "%%bash\n",
    "# run the simulations on Cabernet w/ SLURM \n",
    " \n",
    "runs=$( wc -l list | cut -d' ' -f1 )\n",
    "echo sbatch --array=1-$runs sub.sh"
   ]
  },
  {
   "cell_type": "code",
   "execution_count": 20,
   "metadata": {
    "collapsed": false,
    "scrolled": true
   },
   "outputs": [
    {
     "name": "stdout",
     "output_type": "stream",
     "text": [
      "             JOBID PARTITION     NAME     USER ST       TIME  NODES NODELIST(REASON)\r\n"
     ]
    }
   ],
   "source": [
    "! squeue -u carlin | head "
   ]
  },
  {
   "cell_type": "code",
   "execution_count": 18,
   "metadata": {
    "collapsed": true
   },
   "outputs": [],
   "source": [
    "! tail log.txt"
   ]
  },
  {
   "cell_type": "code",
   "execution_count": 27,
   "metadata": {
    "collapsed": false,
    "scrolled": false
   },
   "outputs": [],
   "source": [
    "from glob import glob \n",
    "import pandas\n",
    "\n",
    "dfs = [ pandas.read_csv( i, sep='\\s+' ) for i in glob( 'out/*sc' ) ]\n",
    "df = pandas.concat( dfs )\n",
    "\n",
    "def low_10( df ):\n",
    "    return df.sort( 'total_score' ).head( 10 )\n",
    "\n",
    "names = [ i.split('_')[1] for i in df.description ] #extract mutant names from strings\n",
    "df['name'] = names\n",
    "\n",
    "df = df.groupby( 'name' ).apply( low_10 )\n",
    "df.index = df.name # reindex with mutant names "
   ]
  },
  {
   "cell_type": "code",
   "execution_count": 28,
   "metadata": {
    "collapsed": false
   },
   "outputs": [
    {
     "data": {
      "text/html": [
       "<div>\n",
       "<table border=\"1\" class=\"dataframe\">\n",
       "  <thead>\n",
       "    <tr style=\"text-align: right;\">\n",
       "      <th></th>\n",
       "      <th>total_score</th>\n",
       "      <th>fa_rep</th>\n",
       "      <th>hbond_sc</th>\n",
       "      <th>all_cst</th>\n",
       "      <th>tot_pstat_pm</th>\n",
       "      <th>tot_nlpstat_pm</th>\n",
       "      <th>tot_burunsat_pm</th>\n",
       "      <th>tot_hbond_pm</th>\n",
       "      <th>tot_NLconts_pm</th>\n",
       "      <th>tot_nlsurfaceE_pm</th>\n",
       "      <th>...</th>\n",
       "      <th>SR_4_nlpstat_pm</th>\n",
       "      <th>SR_5</th>\n",
       "      <th>SR_5_total_score</th>\n",
       "      <th>SR_5_fa_rep</th>\n",
       "      <th>SR_5_hbond_sc</th>\n",
       "      <th>SR_5_all_cst</th>\n",
       "      <th>SR_5_interf_E_1_2</th>\n",
       "      <th>SR_5_dsasa_1_2</th>\n",
       "      <th>SR_5_hbond_pm</th>\n",
       "      <th>SR_5_burunsat_pm</th>\n",
       "    </tr>\n",
       "  </thead>\n",
       "  <tbody>\n",
       "    <tr>\n",
       "      <th>count</th>\n",
       "      <td>1139.000000</td>\n",
       "      <td>1139.000000</td>\n",
       "      <td>1139.000000</td>\n",
       "      <td>1139.000000</td>\n",
       "      <td>1139.000000</td>\n",
       "      <td>1139.000000</td>\n",
       "      <td>1139.000000</td>\n",
       "      <td>1139.000000</td>\n",
       "      <td>1139.000000</td>\n",
       "      <td>1139.000000</td>\n",
       "      <td>...</td>\n",
       "      <td>1139.000000</td>\n",
       "      <td>1139</td>\n",
       "      <td>1139.000000</td>\n",
       "      <td>1139.000000</td>\n",
       "      <td>1139.000000</td>\n",
       "      <td>1139.000000</td>\n",
       "      <td>1139.000000</td>\n",
       "      <td>1139.000000</td>\n",
       "      <td>1139.000000</td>\n",
       "      <td>1139.000000</td>\n",
       "    </tr>\n",
       "    <tr>\n",
       "      <th>mean</th>\n",
       "      <td>-580.192300</td>\n",
       "      <td>247.622730</td>\n",
       "      <td>-64.925593</td>\n",
       "      <td>1.206594</td>\n",
       "      <td>0.690342</td>\n",
       "      <td>0.685110</td>\n",
       "      <td>156.414399</td>\n",
       "      <td>433.755926</td>\n",
       "      <td>146.261633</td>\n",
       "      <td>1.172555</td>\n",
       "      <td>...</td>\n",
       "      <td>0.835900</td>\n",
       "      <td>446</td>\n",
       "      <td>-2.884153</td>\n",
       "      <td>2.446980</td>\n",
       "      <td>-2.723723</td>\n",
       "      <td>0.603266</td>\n",
       "      <td>-5.768402</td>\n",
       "      <td>0.910799</td>\n",
       "      <td>6.861282</td>\n",
       "      <td>0.967515</td>\n",
       "    </tr>\n",
       "    <tr>\n",
       "      <th>std</th>\n",
       "      <td>104.687369</td>\n",
       "      <td>99.801658</td>\n",
       "      <td>1.336105</td>\n",
       "      <td>0.761467</td>\n",
       "      <td>0.010801</td>\n",
       "      <td>0.008543</td>\n",
       "      <td>2.436614</td>\n",
       "      <td>1.539220</td>\n",
       "      <td>1.426597</td>\n",
       "      <td>0.141203</td>\n",
       "      <td>...</td>\n",
       "      <td>0.101001</td>\n",
       "      <td>0</td>\n",
       "      <td>1.142378</td>\n",
       "      <td>0.809524</td>\n",
       "      <td>0.306035</td>\n",
       "      <td>0.381021</td>\n",
       "      <td>2.284674</td>\n",
       "      <td>0.014079</td>\n",
       "      <td>0.516922</td>\n",
       "      <td>0.177361</td>\n",
       "    </tr>\n",
       "    <tr>\n",
       "      <th>min</th>\n",
       "      <td>-656.030000</td>\n",
       "      <td>232.610000</td>\n",
       "      <td>-69.680000</td>\n",
       "      <td>0.000000</td>\n",
       "      <td>0.660000</td>\n",
       "      <td>0.660000</td>\n",
       "      <td>149.000000</td>\n",
       "      <td>426.000000</td>\n",
       "      <td>140.000000</td>\n",
       "      <td>0.800000</td>\n",
       "      <td>...</td>\n",
       "      <td>0.370000</td>\n",
       "      <td>446</td>\n",
       "      <td>-5.490000</td>\n",
       "      <td>0.890000</td>\n",
       "      <td>-3.610000</td>\n",
       "      <td>0.000000</td>\n",
       "      <td>-10.980000</td>\n",
       "      <td>0.850000</td>\n",
       "      <td>5.000000</td>\n",
       "      <td>0.000000</td>\n",
       "    </tr>\n",
       "    <tr>\n",
       "      <th>25%</th>\n",
       "      <td>-590.350000</td>\n",
       "      <td>236.360000</td>\n",
       "      <td>-65.490000</td>\n",
       "      <td>0.670000</td>\n",
       "      <td>0.680000</td>\n",
       "      <td>0.680000</td>\n",
       "      <td>155.000000</td>\n",
       "      <td>433.000000</td>\n",
       "      <td>146.000000</td>\n",
       "      <td>1.180000</td>\n",
       "      <td>...</td>\n",
       "      <td>0.790000</td>\n",
       "      <td>446</td>\n",
       "      <td>-3.625000</td>\n",
       "      <td>1.890000</td>\n",
       "      <td>-2.910000</td>\n",
       "      <td>0.335000</td>\n",
       "      <td>-7.245000</td>\n",
       "      <td>0.910000</td>\n",
       "      <td>7.000000</td>\n",
       "      <td>1.000000</td>\n",
       "    </tr>\n",
       "    <tr>\n",
       "      <th>50%</th>\n",
       "      <td>-586.500000</td>\n",
       "      <td>237.980000</td>\n",
       "      <td>-64.830000</td>\n",
       "      <td>1.160000</td>\n",
       "      <td>0.690000</td>\n",
       "      <td>0.690000</td>\n",
       "      <td>156.000000</td>\n",
       "      <td>434.000000</td>\n",
       "      <td>146.000000</td>\n",
       "      <td>1.180000</td>\n",
       "      <td>...</td>\n",
       "      <td>0.860000</td>\n",
       "      <td>446</td>\n",
       "      <td>-2.810000</td>\n",
       "      <td>2.450000</td>\n",
       "      <td>-2.710000</td>\n",
       "      <td>0.580000</td>\n",
       "      <td>-5.610000</td>\n",
       "      <td>0.910000</td>\n",
       "      <td>7.000000</td>\n",
       "      <td>1.000000</td>\n",
       "    </tr>\n",
       "    <tr>\n",
       "      <th>75%</th>\n",
       "      <td>-583.705000</td>\n",
       "      <td>239.710000</td>\n",
       "      <td>-64.240000</td>\n",
       "      <td>1.760000</td>\n",
       "      <td>0.700000</td>\n",
       "      <td>0.690000</td>\n",
       "      <td>158.000000</td>\n",
       "      <td>435.000000</td>\n",
       "      <td>147.000000</td>\n",
       "      <td>1.180000</td>\n",
       "      <td>...</td>\n",
       "      <td>0.910000</td>\n",
       "      <td>446</td>\n",
       "      <td>-2.130000</td>\n",
       "      <td>3.090000</td>\n",
       "      <td>-2.550000</td>\n",
       "      <td>0.880000</td>\n",
       "      <td>-4.260000</td>\n",
       "      <td>0.920000</td>\n",
       "      <td>7.000000</td>\n",
       "      <td>1.000000</td>\n",
       "    </tr>\n",
       "    <tr>\n",
       "      <th>max</th>\n",
       "      <td>577.110000</td>\n",
       "      <td>1364.490000</td>\n",
       "      <td>-61.280000</td>\n",
       "      <td>3.240000</td>\n",
       "      <td>0.720000</td>\n",
       "      <td>0.720000</td>\n",
       "      <td>167.000000</td>\n",
       "      <td>438.000000</td>\n",
       "      <td>150.000000</td>\n",
       "      <td>1.660000</td>\n",
       "      <td>...</td>\n",
       "      <td>0.990000</td>\n",
       "      <td>446</td>\n",
       "      <td>0.560000</td>\n",
       "      <td>4.530000</td>\n",
       "      <td>-1.750000</td>\n",
       "      <td>1.620000</td>\n",
       "      <td>1.130000</td>\n",
       "      <td>0.970000</td>\n",
       "      <td>8.000000</td>\n",
       "      <td>1.000000</td>\n",
       "    </tr>\n",
       "  </tbody>\n",
       "</table>\n",
       "<p>8 rows × 59 columns</p>\n",
       "</div>"
      ],
      "text/plain": [
       "       total_score       fa_rep     hbond_sc      all_cst  tot_pstat_pm  \\\n",
       "count  1139.000000  1139.000000  1139.000000  1139.000000   1139.000000   \n",
       "mean   -580.192300   247.622730   -64.925593     1.206594      0.690342   \n",
       "std     104.687369    99.801658     1.336105     0.761467      0.010801   \n",
       "min    -656.030000   232.610000   -69.680000     0.000000      0.660000   \n",
       "25%    -590.350000   236.360000   -65.490000     0.670000      0.680000   \n",
       "50%    -586.500000   237.980000   -64.830000     1.160000      0.690000   \n",
       "75%    -583.705000   239.710000   -64.240000     1.760000      0.700000   \n",
       "max     577.110000  1364.490000   -61.280000     3.240000      0.720000   \n",
       "\n",
       "       tot_nlpstat_pm  tot_burunsat_pm  tot_hbond_pm  tot_NLconts_pm  \\\n",
       "count     1139.000000      1139.000000   1139.000000     1139.000000   \n",
       "mean         0.685110       156.414399    433.755926      146.261633   \n",
       "std          0.008543         2.436614      1.539220        1.426597   \n",
       "min          0.660000       149.000000    426.000000      140.000000   \n",
       "25%          0.680000       155.000000    433.000000      146.000000   \n",
       "50%          0.690000       156.000000    434.000000      146.000000   \n",
       "75%          0.690000       158.000000    435.000000      147.000000   \n",
       "max          0.720000       167.000000    438.000000      150.000000   \n",
       "\n",
       "       tot_nlsurfaceE_pm        ...         SR_4_nlpstat_pm  SR_5  \\\n",
       "count        1139.000000        ...             1139.000000  1139   \n",
       "mean            1.172555        ...                0.835900   446   \n",
       "std             0.141203        ...                0.101001     0   \n",
       "min             0.800000        ...                0.370000   446   \n",
       "25%             1.180000        ...                0.790000   446   \n",
       "50%             1.180000        ...                0.860000   446   \n",
       "75%             1.180000        ...                0.910000   446   \n",
       "max             1.660000        ...                0.990000   446   \n",
       "\n",
       "       SR_5_total_score  SR_5_fa_rep  SR_5_hbond_sc  SR_5_all_cst  \\\n",
       "count       1139.000000  1139.000000    1139.000000   1139.000000   \n",
       "mean          -2.884153     2.446980      -2.723723      0.603266   \n",
       "std            1.142378     0.809524       0.306035      0.381021   \n",
       "min           -5.490000     0.890000      -3.610000      0.000000   \n",
       "25%           -3.625000     1.890000      -2.910000      0.335000   \n",
       "50%           -2.810000     2.450000      -2.710000      0.580000   \n",
       "75%           -2.130000     3.090000      -2.550000      0.880000   \n",
       "max            0.560000     4.530000      -1.750000      1.620000   \n",
       "\n",
       "       SR_5_interf_E_1_2  SR_5_dsasa_1_2  SR_5_hbond_pm  SR_5_burunsat_pm  \n",
       "count        1139.000000     1139.000000    1139.000000       1139.000000  \n",
       "mean           -5.768402        0.910799       6.861282          0.967515  \n",
       "std             2.284674        0.014079       0.516922          0.177361  \n",
       "min           -10.980000        0.850000       5.000000          0.000000  \n",
       "25%            -7.245000        0.910000       7.000000          1.000000  \n",
       "50%            -5.610000        0.910000       7.000000          1.000000  \n",
       "75%            -4.260000        0.920000       7.000000          1.000000  \n",
       "max             1.130000        0.970000       8.000000          1.000000  \n",
       "\n",
       "[8 rows x 59 columns]"
      ]
     },
     "execution_count": 28,
     "metadata": {},
     "output_type": "execute_result"
    }
   ],
   "source": [
    "df.describe()"
   ]
  },
  {
   "cell_type": "code",
   "execution_count": 29,
   "metadata": {
    "collapsed": false,
    "scrolled": false
   },
   "outputs": [
    {
     "name": "stdout",
     "output_type": "stream",
     "text": [
      "100 experimental data\n",
      "1139 joined total\n",
      "                  feature    weight\n",
      "38          SR_4_hbond_pm -3.834250\n",
      "39       SR_4_burunsat_pm -2.305977\n",
      "16          SR_1_hbond_pm -1.596536\n",
      "13       SR_1_total_score -1.283272\n",
      "10  tot_total_pos_charges -1.044526\n",
      "28       SR_3_total_score -0.588258\n",
      "46      SR_5_interf_E_1_2 -0.556702\n",
      "21            SR_2_fa_rep -0.487033\n",
      "31          SR_3_hbond_pm -0.401143\n",
      "11  tot_total_neg_charges -0.273415\n",
      "27        SR_2_nlpstat_pm -0.000000\n",
      "Constant kcat\n",
      "PCC=0.72\n"
     ]
    },
    {
     "data": {
      "image/png": "[encoded data removed]",
      "text/plain": [
       "<matplotlib.figure.Figure at 0x7f584a872590>"
      ]
     },
     "metadata": {},
     "output_type": "display_data"
    },
    {
     "name": "stdout",
     "output_type": "stream",
     "text": [
      "              feature    weight\n",
      "21        SR_2_fa_rep -1.388980\n",
      "43        SR_5_fa_rep -1.381461\n",
      "35   SR_4_total_score -0.548015\n",
      "13   SR_1_total_score -0.475677\n",
      "37      SR_4_hbond_sc -0.470778\n",
      "8   tot_nlsurfaceE_pm -0.334323\n",
      "49   SR_5_burunsat_pm -0.316335\n",
      "48      SR_5_hbond_pm -0.298682\n",
      "2            hbond_sc -0.230988\n",
      "33      SR_3_pstat_pm -0.172448\n",
      "6        tot_hbond_pm -0.157807\n",
      "Constant km\n",
      "PCC=0.66\n"
     ]
    },
    {
     "data": {
      "image/png": "[encoded data removed]",
      "text/plain": [
       "<matplotlib.figure.Figure at 0x7f584a872310>"
      ]
     },
     "metadata": {},
     "output_type": "display_data"
    },
    {
     "name": "stdout",
     "output_type": "stream",
     "text": [
      "                  feature    weight\n",
      "39       SR_4_burunsat_pm -2.985165\n",
      "16          SR_1_hbond_pm -2.900394\n",
      "10  tot_total_pos_charges -2.089755\n",
      "41        SR_4_nlpstat_pm -2.011594\n",
      "46      SR_5_interf_E_1_2 -1.554209\n",
      "13       SR_1_total_score -0.970230\n",
      "20       SR_2_total_score -0.415940\n",
      "11  tot_total_neg_charges -0.377008\n",
      "38          SR_4_hbond_pm -0.312588\n",
      "28       SR_3_total_score -0.246832\n",
      "31          SR_3_hbond_pm -0.070877\n",
      "Constant kcatkm\n",
      "PCC=0.82\n"
     ]
    },
    {
     "data": {
      "image/png": "[encoded data removed]",
      "text/plain": [
       "<matplotlib.figure.Figure at 0x7f584a872750>"
      ]
     },
     "metadata": {},
     "output_type": "display_data"
    }
   ],
   "source": [
    "%matplotlib inline\n",
    "import matplotlib.pyplot as plt\n",
    "from numpy import log, nan, inf\n",
    "from sklearn.linear_model import ElasticNetCV\n",
    "from sklearn.ensemble import BaggingRegressor\n",
    "from sklearn.grid_search import GridSearchCV\n",
    "from scipy.stats.stats import pearsonr\n",
    "\n",
    "# experimental data \n",
    "experimental = pandas.read_csv( '../bagel-data/clean_data/clean_for_pandas.csv', index_col='name' )\n",
    "\n",
    "# log and relative to wt \n",
    "wt = experimental.loc[ 'BglB' ]\n",
    "experimental.drop( [ 'BglB' ], inplace=True )\n",
    "log_diff = log( experimental / wt )\n",
    "print len( log_diff ), 'experimental data'\n",
    "\n",
    "# join with models \n",
    "joined = df.join( log_diff )\n",
    "print len( joined ), 'joined total'\n",
    "\n",
    "# make a list of what we don't have data for \n",
    "# predict that list \n",
    "\n",
    "# clean up data for sklearn\n",
    "x_cols = [ u'total_score', u'fa_rep', u'hbond_sc', u'tot_pstat_pm',\n",
    "       u'tot_nlpstat_pm', u'tot_burunsat_pm', u'tot_hbond_pm',\n",
    "       u'tot_NLconts_pm', u'tot_nlsurfaceE_pm', u'tot_total_charge',\n",
    "       u'tot_total_pos_charges', u'tot_total_neg_charges', u'tot_seq_recovery',\n",
    "       u'SR_1_total_score', u'SR_1_fa_rep', u'SR_1_hbond_sc',\n",
    "       u'SR_1_hbond_pm', u'SR_1_burunsat_pm',\n",
    "       u'SR_1_pstat_pm', u'SR_1_nlpstat_pm', u'SR_2_total_score',\n",
    "       u'SR_2_fa_rep', u'SR_2_hbond_sc', u'SR_2_all_cst', u'SR_2_hbond_pm',\n",
    "       u'SR_2_burunsat_pm', u'SR_2_pstat_pm', u'SR_2_nlpstat_pm',\n",
    "       u'SR_3_total_score', u'SR_3_fa_rep', u'SR_3_hbond_sc', \n",
    "       u'SR_3_hbond_pm', u'SR_3_burunsat_pm', u'SR_3_pstat_pm',\n",
    "       u'SR_3_nlpstat_pm', u'SR_4_total_score', u'SR_4_fa_rep',\n",
    "       u'SR_4_hbond_sc', u'SR_4_hbond_pm',\n",
    "       u'SR_4_burunsat_pm', u'SR_4_pstat_pm', u'SR_4_nlpstat_pm',\n",
    "       u'SR_5_total_score', u'SR_5_fa_rep', u'SR_5_hbond_sc', u'SR_5_all_cst',\n",
    "       u'SR_5_interf_E_1_2', u'SR_5_dsasa_1_2', u'SR_5_hbond_pm',\n",
    "       u'SR_5_burunsat_pm', ]\n",
    "\n",
    "for constant in [ 'kcat', 'km', 'kcatkm' ]:\n",
    "    work = joined[ x_cols + [ constant ] ]\n",
    "    work = work.replace( [ inf, -inf ], nan )\n",
    "    work = work.dropna()\n",
    "    \n",
    "    y = work[ constant ]\n",
    "    X = work.drop( constant, axis=1 )\n",
    "    \n",
    "    params = { \n",
    "        'l1_ratio': [.1, .5, .7, .9, .95, .99, 1] \n",
    "    }\n",
    "    \n",
    "    net = ElasticNetCV( cv=10 )\n",
    "    grid = GridSearchCV( net, params )\n",
    "    bag = BaggingRegressor( grid, n_estimators=1 )\n",
    "    bag.fit( X, y )\n",
    "\n",
    "    # ask for top 10 feature weights  \n",
    "    weights = pandas.DataFrame( zip( X.columns, bag.estimators_[0].best_estimator_.coef_ ), columns=['feature', 'weight'] )\n",
    "    print weights.sort( 'weight' )[0:11]\n",
    "\n",
    "    # predictions and calculate Pearson's R\n",
    "    preds = bag.predict( X )\n",
    "    print 'Constant', constant\n",
    "    print 'PCC={:2.2f}'.format( pearsonr( preds, y )[0] )\n",
    "\n",
    "    # plot results \n",
    "    plt.figure( figsize=(4,4) )\n",
    "    plt.scatter( preds, y, alpha=0.3, marker='.', color='k' )\n",
    "    plt.xlabel( 'Predicted' )\n",
    "    plt.ylabel( 'Actual' )\n",
    "    plt.show()"
   ]
  },
  {
   "cell_type": "code",
   "execution_count": null,
   "metadata": {
    "collapsed": true
   },
   "outputs": [],
   "source": []
  }
 ],
 "metadata": {
  "kernelspec": {
   "display_name": "Python 2",
   "language": "python",
   "name": "python2"
  },
  "language_info": {
   "codemirror_mode": {
    "name": "ipython",
    "version": 2
   },
   "file_extension": ".py",
   "mimetype": "text/x-python",
   "name": "python",
   "nbconvert_exporter": "python",
   "pygments_lexer": "ipython2",
   "version": "2.7.10"
  }
 },
 "nbformat": 4,
 "nbformat_minor": 0
}
