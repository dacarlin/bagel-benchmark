{
 "cells": [
  {
   "cell_type": "markdown",
   "metadata": {},
   "source": [
    "# How to train a constrained statistical learning algorithm on experimental enzyme kinetic data to predict the functional effect of mutations \n",
    "\n",
    "## Prep input files \n",
    "\n",
    "First, we'll make models of all of the enzymes using Rosetta. All we need is a wild type PDB structure, `bglb.pdb`, and a list of mutations that we have kinetic data for, `mutant_list`. "
   ]
  },
  {
   "cell_type": "code",
   "execution_count": 73,
   "metadata": {
    "collapsed": false
   },
   "outputs": [
    {
     "name": "stdout",
     "output_type": "stream",
     "text": [
      "bglb.pdb   log.txt\t  pNPG.enzdes.cst  repack.xml\r\n",
      "flags\t   mutant_list\t  pNPG.params\t   sub.sh\r\n",
      "input_pdb  out\t\t  protocol\t   training_sets\r\n",
      "list\t   pNPG.conf.pdb  README.md\t   Untitled.ipynb\r\n"
     ]
    }
   ],
   "source": [
    "! ls"
   ]
  },
  {
   "cell_type": "markdown",
   "metadata": {},
   "source": [
    "First, we have to munge a bunch of PDBs. Here's a go at this! Seems like a very stupid way to go about it."
   ]
  },
  {
   "cell_type": "code",
   "execution_count": 74,
   "metadata": {
    "collapsed": false
   },
   "outputs": [
    {
     "name": "stdout",
     "output_type": "stream",
     "text": [
      "156 mutants\n"
     ]
    }
   ],
   "source": [
    "from Bio.SeqUtils import IUPACData\n",
    "nstruct = 100\n",
    "\n",
    "with open( 'mutant_list' ) as fn:\n",
    "    mutants = [ i.strip() for i in fn.readlines() if len( i ) > 1 ] \n",
    "    print len( mutants ), 'mutants'\n",
    "\n",
    "with open( 'bglb.pdb', 'r' ) as wt:\n",
    "    lines = wt.readlines()\n",
    "    \n",
    "for mutant in mutants:\n",
    "    new3 = IUPACData.protein_letters_1to3[ mutant[ -1 ] ].upper()\n",
    "    pos = mutant[ 1:-1 ]\n",
    "    with open( 'input_pdb/{}.pdb'.format( mutant ), 'w' ) as fn:\n",
    "        for line in lines:\n",
    "            spl = line.split() \n",
    "            if spl[0] == 'REMARK':\n",
    "                if spl[11] == pos:\n",
    "                    pass # don't write this remark line\n",
    "                else:\n",
    "                    fn.write( line ) \n",
    "            elif spl[0] == 'ATOM':\n",
    "                if spl[5] == pos: \n",
    "                    if spl[2] in [ 'N', 'C', 'CA', 'O' ]: # backbone atom \n",
    "                        new_line = line[:17] + new3 + line[20:] \n",
    "                        fn.write( new_line ) \n",
    "                    else: # not a backbone atom \n",
    "                        pass # don't write anything \n",
    "                else: #not a pos we care about \n",
    "                    fn.write( line ) # print out untouched \n",
    "            elif spl[0] == 'HETATM':\n",
    "                fn.write( line ) # write all HETATM lines \n",
    "            else:\n",
    "                print 'Error'"
   ]
  },
  {
   "cell_type": "code",
   "execution_count": 75,
   "metadata": {
    "collapsed": false
   },
   "outputs": [],
   "source": [
    "nstruct = 100\n",
    "\n",
    "with open( 'list', 'w' ) as fn:\n",
    "    for i in range( nstruct ):\n",
    "        for mutant in mutants:\n",
    "            fn.write( '-s input_pdb/{}.pdb -parser:script_vars target={} -suffix _{} \\n'.format( mutant, mutant[1:-1], i ) )"
   ]
  },
  {
   "cell_type": "code",
   "execution_count": 77,
   "metadata": {
    "collapsed": false
   },
   "outputs": [
    {
     "name": "stdout",
     "output_type": "stream",
     "text": [
      "-s input_pdb/Y166E.pdb -parser:script_vars target=166 -suffix _99 \r\n",
      "-s input_pdb/Y166F.pdb -parser:script_vars target=166 -suffix _99 \r\n",
      "-s input_pdb/Y166P.pdb -parser:script_vars target=166 -suffix _99 \r\n",
      "-s input_pdb/Y18A.pdb -parser:script_vars target=18 -suffix _99 \r\n",
      "-s input_pdb/Y294A.pdb -parser:script_vars target=294 -suffix _99 \r\n",
      "-s input_pdb/Y294F.pdb -parser:script_vars target=294 -suffix _99 \r\n",
      "-s input_pdb/Y294H.pdb -parser:script_vars target=294 -suffix _99 \r\n",
      "-s input_pdb/Y294L.pdb -parser:script_vars target=294 -suffix _99 \r\n",
      "-s input_pdb/Y295A.pdb -parser:script_vars target=295 -suffix _99 \r\n",
      "-s input_pdb/Y295G.pdb -parser:script_vars target=295 -suffix _99 \r\n"
     ]
    }
   ],
   "source": [
    "! tail list"
   ]
  },
  {
   "cell_type": "markdown",
   "metadata": {},
   "source": [
    "## Run the simulations on Cabernet with SLURM "
   ]
  },
  {
   "cell_type": "code",
   "execution_count": 78,
   "metadata": {
    "collapsed": false,
    "scrolled": true
   },
   "outputs": [
    {
     "name": "stdout",
     "output_type": "stream",
     "text": [
      "15600 runs\n",
      "Submitted batch job 616572\n"
     ]
    }
   ],
   "source": [
    "%%bash\n",
    "# run the simulations on Cabernet w/ SLURM \n",
    " \n",
    "runs=$( wc -l list | cut -d' ' -f1 )\n",
    "echo $runs runs \n",
    "sbatch --array=1-$runs sub.sh"
   ]
  },
  {
   "cell_type": "code",
   "execution_count": 79,
   "metadata": {
    "collapsed": false,
    "scrolled": false
   },
   "outputs": [
    {
     "name": "stdout",
     "output_type": "stream",
     "text": [
      "             JOBID PARTITION     NAME     USER ST       TIME  NODES NODELIST(REASON)\r\n",
      " 616572_[102-15600        gc     bglb   carlin PD       0:00      1 (None)\r\n",
      "          616572_1        gc     bglb   carlin  R       0:02      1 c0-11.hpc.genomecenter.ucdavis.edu\r\n",
      "          616572_2        gc     bglb   carlin  R       0:02      1 c0-11.hpc.genomecenter.ucdavis.edu\r\n",
      "          616572_3        gc     bglb   carlin  R       0:02      1 c0-11.hpc.genomecenter.ucdavis.edu\r\n",
      "          616572_4        gc     bglb   carlin  R       0:02      1 c0-11.hpc.genomecenter.ucdavis.edu\r\n",
      "          616572_5        gc     bglb   carlin  R       0:02      1 c0-11.hpc.genomecenter.ucdavis.edu\r\n",
      "          616572_6        gc     bglb   carlin  R       0:02      1 c0-11.hpc.genomecenter.ucdavis.edu\r\n",
      "          616572_7        gc     bglb   carlin  R       0:02      1 c0-11.hpc.genomecenter.ucdavis.edu\r\n",
      "          616572_8        gc     bglb   carlin  R       0:02      1 c0-11.hpc.genomecenter.ucdavis.edu\r\n"
     ]
    }
   ],
   "source": [
    "! squeue -u carlin | head "
   ]
  },
  {
   "cell_type": "code",
   "execution_count": 80,
   "metadata": {
    "collapsed": false
   },
   "outputs": [
    {
     "name": "stdout",
     "output_type": "stream",
     "text": [
      "wc: out/*sc: No such file or directory\r\n"
     ]
    }
   ],
   "source": [
    "! wc -l out/*sc"
   ]
  },
  {
   "cell_type": "markdown",
   "metadata": {},
   "source": [
    "## Results "
   ]
  },
  {
   "cell_type": "code",
   "execution_count": 62,
   "metadata": {
    "collapsed": false,
    "scrolled": false
   },
   "outputs": [
    {
     "name": "stdout",
     "output_type": "stream",
     "text": [
      "Scorefile is 1187 lines long\n",
      "\"Low_10\" is 1153 lines long\n"
     ]
    }
   ],
   "source": [
    "from glob import glob \n",
    "import pandas\n",
    "\n",
    "sfs = [ pandas.read_csv( i, sep='\\s+' ) for i in glob( 'out/*sc' ) ]\n",
    "sf = pandas.concat( sfs )\n",
    "sf['name'] = sf.description.str.split( '_' ).str[0]\n",
    "sf.head()\n",
    "print 'Scorefile is', len( sf ), 'lines long'\n",
    "\n",
    "def low_10( df ):\n",
    "    return df.sort( 'total_score' ).head( 10 )\n",
    "\n",
    "grouped = sf.groupby( 'name' ).apply( low_10 )\n",
    "print '\"Low_10\" is', len( grouped ), 'lines long'"
   ]
  },
  {
   "cell_type": "code",
   "execution_count": 53,
   "metadata": {
    "collapsed": false,
    "scrolled": false
   },
   "outputs": [
    {
     "name": "stdout",
     "output_type": "stream",
     "text": [
      "101 mutants with experimental data\n",
      "76 kcat\n",
      "76 km\n",
      "87 kcat/km\n"
     ]
    }
   ],
   "source": [
    "from numpy import log, inf, nan\n",
    "\n",
    "# experimental data \n",
    "experimental = pandas.read_csv( '../bagel-data/clean_data/clean_for_pandas.csv', index_col='name' )\n",
    "\n",
    "# log and relative to wt \n",
    "wt = experimental.loc[ 'BglB' ]\n",
    "experimental.drop( [ 'BglB' ] )\n",
    "log_diff = log( experimental / wt )\n",
    "print len( log_diff ), 'mutants with experimental data'\n",
    "print len( log_diff.kcat.dropna() ), 'kcat'\n",
    "print len( log_diff.km.dropna() ), 'km'\n",
    "print len( log_diff.kcatkm.dropna() ), 'kcat/km'"
   ]
  },
  {
   "cell_type": "code",
   "execution_count": 54,
   "metadata": {
    "collapsed": false
   },
   "outputs": [
    {
     "name": "stdout",
     "output_type": "stream",
     "text": [
      "744 joined total\n"
     ]
    }
   ],
   "source": [
    "# join with models \n",
    "joined = grouped.join( log_diff )\n",
    "print len( joined ), 'joined total'\n",
    "\n",
    "# make a list of what we don't have data for \n",
    "# predict that list "
   ]
  },
  {
   "cell_type": "markdown",
   "metadata": {},
   "source": [
    "So now we have 10 models (the lowest 10 by total_energy out of 100 simulations) of each protein, joined with experimental data. We don't have all pieces of experimental data for each protein, so there are some NaNs in the above dataframe, which scikit-learn doesn't deal very well with. We will clean up the data. "
   ]
  },
  {
   "cell_type": "code",
   "execution_count": 55,
   "metadata": {
    "collapsed": false
   },
   "outputs": [
    {
     "name": "stdout",
     "output_type": "stream",
     "text": [
      "mkdir: cannot create directory ‘training_sets’: File exists\r\n"
     ]
    }
   ],
   "source": [
    "constants = [ 'kcat', 'km', 'kcatkm' ]\n",
    "\n",
    "# clean up data for sklearn\n",
    "x_cols = [ u'total_score', u'fa_rep', u'hbond_sc', u'tot_pstat_pm',\n",
    "       u'tot_nlpstat_pm', u'tot_burunsat_pm', u'tot_hbond_pm',\n",
    "       u'tot_NLconts_pm', u'tot_nlsurfaceE_pm', u'tot_total_charge',\n",
    "       u'tot_total_pos_charges', u'tot_total_neg_charges', u'tot_seq_recovery',\n",
    "       u'SR_1_total_score', u'SR_1_fa_rep', u'SR_1_hbond_sc',\n",
    "       u'SR_1_hbond_pm', u'SR_1_burunsat_pm',\n",
    "       u'SR_1_pstat_pm', u'SR_1_nlpstat_pm', u'SR_2_total_score',\n",
    "       u'SR_2_fa_rep', u'SR_2_hbond_sc', u'SR_2_all_cst', u'SR_2_hbond_pm',\n",
    "       u'SR_2_burunsat_pm', u'SR_2_pstat_pm', u'SR_2_nlpstat_pm',\n",
    "       u'SR_3_total_score', u'SR_3_fa_rep', u'SR_3_hbond_sc', \n",
    "       u'SR_3_hbond_pm', u'SR_3_burunsat_pm', u'SR_3_pstat_pm',\n",
    "       u'SR_3_nlpstat_pm', u'SR_4_total_score', u'SR_4_fa_rep',\n",
    "       u'SR_4_hbond_sc', u'SR_4_hbond_pm',\n",
    "       u'SR_4_burunsat_pm', u'SR_4_pstat_pm', u'SR_4_nlpstat_pm',\n",
    "       u'SR_5_total_score', u'SR_5_fa_rep', u'SR_5_hbond_sc', u'SR_5_all_cst',\n",
    "       u'SR_5_interf_E_1_2', u'SR_5_dsasa_1_2', u'SR_5_hbond_pm',\n",
    "       u'SR_5_burunsat_pm', ]\n",
    "\n",
    "! mkdir training_sets \n",
    "\n",
    "for constant in constants:\n",
    "    work = joined[ x_cols + [ constant ] ]\n",
    "    work = work.replace( [ inf, -inf ], nan )\n",
    "    work = work.dropna()\n",
    "    work.to_csv( 'training_sets/{}.csv'.format( constant ) )\n",
    "    # now we have 3 clean CSVs, one for each constant"
   ]
  },
  {
   "cell_type": "code",
   "execution_count": 59,
   "metadata": {
    "collapsed": false,
    "scrolled": false
   },
   "outputs": [
    {
     "name": "stdout",
     "output_type": "stream",
     "text": [
      "            feature    weight\n",
      "49    SR_5_hbond_pm  0.640650\n",
      "44      SR_5_fa_rep  0.444983\n",
      "8    tot_NLconts_pm  0.246792\n",
      "6   tot_burunsat_pm  0.143628\n",
      "1       total_score  0.029272\n",
      "3          hbond_sc  0.014065\n",
      "Constant kcat\n",
      "PCC=0.62\n"
     ]
    },
    {
     "data": {
      "image/png": "[encoded data removed]",
      "text/plain": [
       "<matplotlib.figure.Figure at 0x7f0b0f9453d0>"
      ]
     },
     "metadata": {},
     "output_type": "display_data"
    },
    {
     "name": "stdout",
     "output_type": "stream",
     "text": [
      "              feature    weight\n",
      "40   SR_4_burunsat_pm  0.729854\n",
      "47  SR_5_interf_E_1_2  0.392761\n",
      "37        SR_4_fa_rep  0.293042\n",
      "17      SR_1_hbond_pm  0.057450\n",
      "32      SR_3_hbond_pm  0.012599\n",
      "1         total_score  0.012143\n",
      "0          Unnamed: 1  0.000861\n",
      "Constant km\n",
      "PCC=0.64\n"
     ]
    },
    {
     "data": {
      "image/png": "[encoded data removed]",
      "text/plain": [
       "<matplotlib.figure.Figure at 0x7f0b1c72e690>"
      ]
     },
     "metadata": {},
     "output_type": "display_data"
    },
    {
     "name": "stdout",
     "output_type": "stream",
     "text": [
      "             feature    weight\n",
      "38     SR_4_hbond_sc  9.086137\n",
      "49     SR_5_hbond_pm  2.401585\n",
      "44       SR_5_fa_rep  1.419525\n",
      "14  SR_1_total_score  1.025523\n",
      "36  SR_4_total_score  0.869413\n",
      "6    tot_burunsat_pm  0.485193\n",
      "7       tot_hbond_pm  0.379297\n",
      "46      SR_5_all_cst  0.293323\n",
      "3           hbond_sc  0.231482\n",
      "21  SR_2_total_score  0.224642\n",
      "8     tot_NLconts_pm  0.223537\n",
      "2             fa_rep  0.053077\n",
      "29  SR_3_total_score  0.050302\n",
      "1        total_score  0.033533\n",
      "Constant kcatkm\n",
      "PCC=0.76\n"
     ]
    },
    {
     "data": {
      "image/png": "[encoded data removed]",
      "text/plain": [
       "<matplotlib.figure.Figure at 0x7f0b0730e2d0>"
      ]
     },
     "metadata": {},
     "output_type": "display_data"
    }
   ],
   "source": [
    "%matplotlib inline\n",
    "import matplotlib.pyplot as plt\n",
    "\n",
    "from sklearn.linear_model import ElasticNetCV\n",
    "from sklearn.ensemble import BaggingRegressor\n",
    "from sklearn.grid_search import GridSearchCV\n",
    "from scipy.stats.stats import pearsonr\n",
    "\n",
    "for constant in constants:\n",
    "    df = pandas.read_csv( 'training_sets/{}.csv'.format( constant ), index_col='name' )    \n",
    "    y = df[ constant ]\n",
    "    X = df.drop( constant, axis=1 )\n",
    "        \n",
    "    params = { 'l1_ratio': [ .1, .25, .5, .7, .9, .95, .99, 1, ] }\n",
    "    net = ElasticNetCV()\n",
    "    grid = GridSearchCV( net, params )\n",
    "    bag = BaggingRegressor( grid, n_estimators=1 )\n",
    "    bag.fit( X, y )\n",
    "\n",
    "    weights = pandas.DataFrame( zip( X.columns, bag.estimators_[0].best_estimator_.coef_ ), columns=['feature', 'weight'] )\n",
    "    preds = bag.predict( X )\n",
    "\n",
    "    print weights[ ( weights.weight > 0 )].sort( 'weight', ascending=False )\n",
    "    print 'Constant', constant\n",
    "    print 'PCC={:2.2f}'.format( pearsonr( preds, y )[0] )\n",
    "\n",
    "    plt.figure( figsize=(4,4) )\n",
    "    plt.scatter( preds, y, alpha=0.3, marker='.', color='k' )\n",
    "    plt.xlabel( 'Predicted' )\n",
    "    plt.ylabel( 'Actual' )\n",
    "    plt.show()"
   ]
  },
  {
   "cell_type": "markdown",
   "metadata": {},
   "source": [
    "## An attempt at running the machine learning in parallel \n",
    "\n",
    "Would be really cool to run the machine learning ensembles in parallel. Possible?"
   ]
  },
  {
   "cell_type": "code",
   "execution_count": 67,
   "metadata": {
    "collapsed": true
   },
   "outputs": [],
   "source": [
    "%matplotlib inline\n",
    "import os\n",
    "import ipyparallel as ipp\n",
    "\n",
    "rc = ipp.Client()\n",
    "ar = rc[:].apply_async(os.getpid)\n",
    "pid_map = ar.get_dict()\n",
    "dview = rc[:]\n",
    "\n",
    "@dview.parallel( block=True )\n",
    "def fit_elastic_net_model( iterable ):\n",
    "    import matplotlib.pyplot as plt\n",
    "    from numpy import log, nan, inf\n",
    "    from sklearn.linear_model import ElasticNetCV\n",
    "    from sklearn.ensemble import BaggingRegressor\n",
    "    from sklearn.grid_search import GridSearchCV\n",
    "    from scipy.stats.stats import pearsonr\n",
    "    import pandas \n",
    "    from glob import glob \n",
    "    import os\n",
    "\n",
    "    constant = iterable[0]\n",
    "    df = pandas.read_csv( 'xiaokang2/{}.csv'.format( constant ), index_col='name' )    \n",
    "    y = df[ constant ]\n",
    "    X = df.drop( constant, axis=1 )\n",
    "        \n",
    "    params = { 'l1_ratio': [ .1, .5, .7, .9, .95, .99, 1, ] }\n",
    "    net = ElasticNetCV( cv=10, max_iter=10000 )\n",
    "    grid = GridSearchCV( net, params )\n",
    "    bag = BaggingRegressor( grid, n_estimators=1, n_jobs=8 )\n",
    "    bag.fit( X, y )\n",
    "\n",
    "    # 10 feature weights  \n",
    "    weights = pandas.DataFrame( zip( X.columns, bag.estimators_[0].best_estimator_.coef_ ), columns=['feature', 'weight'] )\n",
    "    print weights[ ( weights.weight > 0 )].sort( 'weight', ascending=False )\n",
    "\n",
    "    # predictions and calculate Pearson's R\n",
    "    preds = bag.predict( X )\n",
    "    print 'Constant', constant\n",
    "    print 'PCC={:2.2f}'.format( pearsonr( preds, y )[0] )\n",
    "\n",
    "    # plot results \n",
    "#     plt.figure( figsize=(4,4) )\n",
    "#     plt.scatter( preds, y, alpha=0.3, marker='.', color='k' )\n",
    "#     plt.xlabel( 'Predicted' )\n",
    "#     plt.ylabel( 'Actual' )\n",
    "#     plt.show()\n",
    "    \n",
    "    return 'PCC={:2.2f}'.format( pearsonr( preds, y )[0] )\n"
   ]
  },
  {
   "cell_type": "code",
   "execution_count": 68,
   "metadata": {
    "collapsed": false,
    "scrolled": false
   },
   "outputs": [
    {
     "data": {
      "text/plain": [
       "['PCC=0.71', 'PCC=0.68', 'PCC=0.82']"
      ]
     },
     "execution_count": 68,
     "metadata": {},
     "output_type": "execute_result"
    }
   ],
   "source": [
    "fit_elastic_net_model( constants )"
   ]
  }
 ],
 "metadata": {
  "kernelspec": {
   "display_name": "Python 2",
   "language": "python",
   "name": "python2"
  },
  "language_info": {
   "codemirror_mode": {
    "name": "ipython",
    "version": 2
   },
   "file_extension": ".py",
   "mimetype": "text/x-python",
   "name": "python",
   "nbconvert_exporter": "python",
   "pygments_lexer": "ipython2",
   "version": "2.7.10"
  }
 },
 "nbformat": 4,
 "nbformat_minor": 0
}
