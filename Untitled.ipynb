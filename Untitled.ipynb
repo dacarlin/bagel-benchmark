{
 "cells": [
  {
   "cell_type": "code",
   "execution_count": 13,
   "metadata": {
    "collapsed": false
   },
   "outputs": [],
   "source": [
    "# yet another way of reading in mutant names \n",
    "# here we assume all data is safe \n",
    "\n",
    "from Bio.SeqUtils import IUPACData\n",
    "\n",
    "with open( 'core_list_out', 'w' ) as out:\n",
    "    with open( 'core_list' ) as fn:\n",
    "        for line in fn.readlines():\n",
    "            res3, pos = line.split()\n",
    "            res1 = IUPACData.protein_letters_3to1[ res3.capitalize() ] #Thr\n",
    "            for letter in IUPACData.protein_letters:\n",
    "                out.write( res1 + pos + letter + '\\n' )"
   ]
  },
  {
   "cell_type": "code",
   "execution_count": 14,
   "metadata": {
    "collapsed": false
   },
   "outputs": [
    {
     "name": "stdout",
     "output_type": "stream",
     "text": [
      "T13A\r\n",
      "T13C\r\n",
      "T13D\r\n",
      "T13E\r\n",
      "T13F\r\n",
      "T13G\r\n",
      "T13H\r\n",
      "T13I\r\n",
      "T13K\r\n",
      "T13L\r\n"
     ]
    }
   ],
   "source": [
    "! head core_list_out"
   ]
  },
  {
   "cell_type": "markdown",
   "metadata": {},
   "source": [
    "# Constrained statistical learning plus experimental data predicts the functional effect of mutations in a model enzyme \n",
    "\n",
    "\n",
    "\n",
    "## Rosetta models of each mutation in our data set \n",
    "\n",
    "First, we'll make models of all of the enzymes using Rosetta. All we need is a wild type PDB structure, `bglb.pdb`, and a list of mutations that we have kinetic data for, `mutant_list`. "
   ]
  },
  {
   "cell_type": "code",
   "execution_count": 15,
   "metadata": {
    "collapsed": false
   },
   "outputs": [
    {
     "name": "stdout",
     "output_type": "stream",
     "text": [
      "README.md       bglb.pdb        core_list_run   \u001b[31mflags\u001b[m\u001b[m           pNPG.conf.pdb   protocol\r\n",
      "Untitled.ipynb  core_list       \u001b[34mdata_sets\u001b[m\u001b[m       list            pNPG.enzdes.cst sub.sh\r\n",
      "all_mutants     core_list_out   \u001b[34mfeature_filter\u001b[m\u001b[m  mutant_list     pNPG.params     \u001b[34mtraining_sets\u001b[m\u001b[m\r\n"
     ]
    }
   ],
   "source": [
    "! ls "
   ]
  },
  {
   "cell_type": "code",
   "execution_count": 16,
   "metadata": {
    "collapsed": false
   },
   "outputs": [
    {
     "name": "stdout",
     "output_type": "stream",
     "text": [
      "1660 mutants\n",
      "  166000 list\n",
      "-parser:script_vars target=13 new_res=ALA -suffix _T13A_0000\n",
      "-parser:script_vars target=13 new_res=CYS -suffix _T13C_0000\n"
     ]
    }
   ],
   "source": [
    "# this one for MutateResidue \n",
    "\n",
    "from Bio.SeqUtils import IUPACData\n",
    "nstruct = 100\n",
    "\n",
    "with open( 'core_list_out' ) as fn:\n",
    "    mutants = [ i.strip() for i in fn.readlines() if len( i ) > 1 ] \n",
    "    print len( mutants ), 'mutants'\n",
    "\n",
    "nstruct = 100\n",
    "\n",
    "runs = [\n",
    "    '-parser:script_vars target={} new_res={} -suffix _{}_{:04d}\\n'.format( \n",
    "        m[1:-1], IUPACData.protein_letters_1to3[ m[-1] ].upper(), m, i )\n",
    "    for i in range( nstruct )\n",
    "    for m in mutants \n",
    "]\n",
    "\n",
    "with open( 'core_list_run', 'w' ) as fn:\n",
    "    fn.write( ''.join( runs ) )\n",
    "    \n",
    "! wc -l list \n",
    "! head -2 list "
   ]
  },
  {
   "cell_type": "code",
   "execution_count": 17,
   "metadata": {
    "collapsed": false,
    "scrolled": true
   },
   "outputs": [
    {
     "name": "stdout",
     "output_type": "stream",
     "text": [
      "sbatch -p gc128 --array=1-166000 sub.sh\n"
     ]
    }
   ],
   "source": [
    "%%bash\n",
    "# run the simulations on Cabernet w/ SLURM \n",
    " \n",
    "echo sbatch -p gc128 --array=1-166000 sub.sh"
   ]
  },
  {
   "cell_type": "markdown",
   "metadata": {},
   "source": [
    "## Predicting kinetic constants $k_{cat}$, $K_M$, and $k_{cat}/K_M$ from 50 enzyme design features "
   ]
  },
  {
   "cell_type": "code",
   "execution_count": 18,
   "metadata": {
    "collapsed": false,
    "scrolled": false
   },
   "outputs": [],
   "source": [
    "# sfs = [ pandas.read_csv( i, sep='\\s+' ) for i in glob( 'out/*sc' ) ]\n",
    "# sf = pandas.concat( sfs )\n",
    "# sf['name'] = sf.description.str.split( '_' ).str[ 1 ]\n",
    "# sf.to_csv( 'data_sets/scorefile.csv' )"
   ]
  },
  {
   "cell_type": "code",
   "execution_count": 19,
   "metadata": {
    "collapsed": false
   },
   "outputs": [
    {
     "name": "stdout",
     "output_type": "stream",
     "text": [
      "166 models in scorefile\n"
     ]
    }
   ],
   "source": [
    "from glob import glob \n",
    "import pandas\n",
    "\n",
    "sf = pandas.read_csv( 'data_sets/scorefile.csv', index_col='description' )\n",
    "sf.sample( 40 ) \n",
    "\n",
    "def low_10( df ):\n",
    "    return df.sort_values( by='total_score' ).head( 10 ).mean()\n",
    "\n",
    "grouped = sf.groupby( 'name' )\n",
    "low10 = grouped.apply( low_10 )\n",
    "#low10.index = low10.name \n",
    "\n",
    "print len( low10 ), 'models in scorefile'"
   ]
  },
  {
   "cell_type": "code",
   "execution_count": 20,
   "metadata": {
    "collapsed": false,
    "scrolled": false
   },
   "outputs": [
    {
     "name": "stdout",
     "output_type": "stream",
     "text": [
      "76 kcat\n",
      "76 km\n",
      "87 kcat/km\n"
     ]
    }
   ],
   "source": [
    "from numpy import log, inf, nan\n",
    "\n",
    "# experimental data \n",
    "experimental = pandas.read_csv( '../bagel-data/clean_data/plos2015.csv', index_col='name' )\n",
    "\n",
    "# log and relative to wt \n",
    "wt = experimental.loc[ 'BglB' ]\n",
    "experimental.drop( [ 'BglB' ] )\n",
    "log_diff = log( experimental / wt )\n",
    "\n",
    "print len( log_diff.kcat.dropna() ), 'kcat'\n",
    "print len( log_diff.km.dropna() ), 'km'\n",
    "print len( log_diff.kcatkm.dropna() ), 'kcat/km'"
   ]
  },
  {
   "cell_type": "code",
   "execution_count": 21,
   "metadata": {
    "collapsed": false
   },
   "outputs": [
    {
     "name": "stdout",
     "output_type": "stream",
     "text": [
      "166 joined total\n"
     ]
    }
   ],
   "source": [
    "# join with models \n",
    "# add additional features \n",
    "\n",
    "distances = pandas.read_csv( 'data_sets/distance_from_active_site.csv', index_col='name' ) \n",
    "\n",
    "joined = low10.join( log_diff )\n",
    "joined = joined.join( distances, rsuffix='dist_' )\n",
    "\n",
    "print len( joined ), 'joined total'\n",
    "\n",
    "# make a list of what we don't have data for \n",
    "# predict that list "
   ]
  },
  {
   "cell_type": "markdown",
   "metadata": {},
   "source": [
    "So now we have 10 models (the lowest 10 by total_energy out of 100 simulations) of each protein, joined with experimental data. We don't have all pieces of experimental data for each protein, so there are some NaNs in the above dataframe, which scikit-learn doesn't deal very well with. We will clean up the data. "
   ]
  },
  {
   "cell_type": "code",
   "execution_count": 22,
   "metadata": {
    "collapsed": false
   },
   "outputs": [],
   "source": [
    "from sklearn import preprocessing\n",
    "\n",
    "constants = [ 'kcat', 'km', 'kcatkm' ]\n",
    "\n",
    "# clean up data for sklearn\n",
    "x_cols = [ u'total_score', u'fa_rep', u'hbond_sc', u'tot_pstat_pm',\n",
    "       u'tot_nlpstat_pm', u'tot_burunsat_pm', u'tot_hbond_pm',\n",
    "       u'tot_NLconts_pm', u'tot_nlsurfaceE_pm', u'tot_total_charge',\n",
    "       u'tot_total_pos_charges', u'tot_total_neg_charges', u'tot_seq_recovery',\n",
    "       u'SR_1_total_score', u'SR_1_fa_rep', u'SR_1_hbond_sc',\n",
    "       u'SR_1_hbond_pm', u'SR_1_burunsat_pm',\n",
    "       u'SR_1_pstat_pm', u'SR_1_nlpstat_pm', u'SR_2_total_score',\n",
    "       u'SR_2_fa_rep', u'SR_2_hbond_sc', u'SR_2_all_cst', u'SR_2_hbond_pm',\n",
    "       u'SR_2_burunsat_pm', u'SR_2_pstat_pm', u'SR_2_nlpstat_pm',\n",
    "       u'SR_3_total_score', u'SR_3_fa_rep', u'SR_3_hbond_sc', \n",
    "       u'SR_3_hbond_pm', u'SR_3_burunsat_pm', u'SR_3_pstat_pm',\n",
    "       u'SR_3_nlpstat_pm', u'SR_4_total_score', u'SR_4_fa_rep',\n",
    "       u'SR_4_hbond_sc', u'SR_4_hbond_pm',\n",
    "       u'SR_4_burunsat_pm', u'SR_4_pstat_pm', u'SR_4_nlpstat_pm',\n",
    "       u'SR_5_total_score', u'SR_5_fa_rep', u'SR_5_hbond_sc', u'SR_5_all_cst',\n",
    "       u'SR_5_interf_E_1_2', u'SR_5_dsasa_1_2', u'SR_5_hbond_pm',\n",
    "       u'SR_5_burunsat_pm', 'distance' ]\n",
    "\n",
    "for constant in constants:\n",
    "    work = joined[ x_cols + [ constant ] ]\n",
    "    work = work.replace( [ inf, -inf ], nan ).dropna()\n",
    "    scaler = preprocessing.StandardScaler()\n",
    "    J = scaler.fit_transform( work ) \n",
    "    work = pandas.DataFrame( J, columns=work.columns )\n",
    "    work.to_csv( 'training_sets/{}.csv'.format( constant ) )"
   ]
  },
  {
   "cell_type": "markdown",
   "metadata": {},
   "source": [
    "This completes our cleaning up the data to use in machine learning. In the next steps, we will evaluate the performance of machine learning algorithms in predicting the functional effect of each mutation, in terms of its effect on kcat, km, and kcat/km. \n",
    "\n",
    "## Kinetic constants benchmark, first attempt (emulating PLOS paper)"
   ]
  },
  {
   "cell_type": "code",
   "execution_count": 31,
   "metadata": {
    "collapsed": false,
    "scrolled": false
   },
   "outputs": [
    {
     "data": {
      "image/png": "[encoded data removed]",
      "text/plain": [
       "<matplotlib.figure.Figure at 0x105155410>"
      ]
     },
     "metadata": {},
     "output_type": "display_data"
    }
   ],
   "source": [
    "%matplotlib inline\n",
    "import matplotlib.pyplot as plt\n",
    "\n",
    "from sklearn.linear_model import ElasticNetCV\n",
    "from sklearn.ensemble import BaggingRegressor\n",
    "from sklearn import preprocessing, cross_validation\n",
    "from scipy.stats.stats import pearsonr\n",
    "\n",
    "constants = [ 'kcat', 'km', 'kcatkm' ]\n",
    "\n",
    "plt.figure( figsize=( 9, 2.5 ) ) \n",
    "\n",
    "for i, constant in enumerate( constants ):\n",
    "    \n",
    "    J = pandas.read_csv( 'training_sets/{}.csv'.format( constant ), index_col=0 ).as_matrix()  \n",
    "    X = J[:, :-1]\n",
    "    y = J[:, -1:].ravel()\n",
    "    \n",
    "    l1_ratio = [ .1, .5, .7, .9, .95, .99, 1 ]\n",
    "    \n",
    "    net = ElasticNetCV( l1_ratio=l1_ratio, cv=10, max_iter=-1 ) \n",
    "    bag = BaggingRegressor( net, n_estimators=30, n_jobs=-1, oob_score=True )\n",
    "    bag.fit( X, y )\n",
    "    preds = bag.predict( X )\n",
    "\n",
    "    plt.subplot( 1, 3, i + 1 ) \n",
    "    plt.scatter( preds, y, marker='.', color='k' )\n",
    "    plt.xlabel( 'Predicted' ); plt.ylabel( 'Actual' )\n",
    "    r = pearsonr( preds, y )[0].round(2)\n",
    "    plt.title( '{} pcc={}'.format( constant, r ) ) "
   ]
  },
  {
   "cell_type": "markdown",
   "metadata": {
    "collapsed": true
   },
   "source": [
    "## Expression benchmark \n",
    "\n",
    "See if we can predict soluble expression given the set of 50 features output by Rosetta. "
   ]
  },
  {
   "cell_type": "code",
   "execution_count": 32,
   "metadata": {
    "collapsed": true
   },
   "outputs": [],
   "source": [
    "features = [ u'total_score', u'fa_rep', u'hbond_sc', \n",
    "       u'tot_pstat_pm', u'tot_nlpstat_pm', u'tot_burunsat_pm', u'tot_hbond_pm',\n",
    "       u'tot_NLconts_pm', u'tot_nlsurfaceE_pm', u'tot_total_charge',\n",
    "       u'tot_total_pos_charges', u'tot_total_neg_charges', u'tot_seq_recovery',\n",
    "       u'SR_1_total_score', u'SR_1_fa_rep', u'SR_1_hbond_sc',\n",
    "       u'SR_1_hbond_pm', u'SR_1_burunsat_pm',\n",
    "       u'SR_1_pstat_pm', u'SR_1_nlpstat_pm', u'SR_2_total_score',\n",
    "       u'SR_2_fa_rep', u'SR_2_hbond_sc', u'SR_2_all_cst', u'SR_2_hbond_pm',\n",
    "       u'SR_2_burunsat_pm', u'SR_2_pstat_pm', u'SR_2_nlpstat_pm', u'SR_3',\n",
    "       u'SR_3_total_score', u'SR_3_fa_rep', u'SR_3_hbond_sc', u'SR_3_all_cst',\n",
    "       u'SR_3_hbond_pm', u'SR_3_burunsat_pm', u'SR_3_pstat_pm',\n",
    "       u'SR_3_nlpstat_pm', u'SR_4', u'SR_4_total_score', u'SR_4_fa_rep',\n",
    "       u'SR_4_hbond_sc', u'SR_4_all_cst', u'SR_4_hbond_pm',\n",
    "       u'SR_4_burunsat_pm', u'SR_4_pstat_pm', u'SR_4_nlpstat_pm', u'SR_5',\n",
    "       u'SR_5_total_score', u'SR_5_fa_rep', u'SR_5_hbond_sc', u'SR_5_all_cst',\n",
    "       u'SR_5_interf_E_1_2', u'SR_5_dsasa_1_2', u'SR_5_hbond_pm',\n",
    "       u'SR_5_burunsat_pm', u'expression' ]"
   ]
  },
  {
   "cell_type": "code",
   "execution_count": 33,
   "metadata": {
    "collapsed": false
   },
   "outputs": [
    {
     "name": "stdout",
     "output_type": "stream",
     "text": [
      "model score (training) 0.74\n",
      "model score (test) 0.58\n"
     ]
    },
    {
     "data": {
      "image/png": "[encoded data removed]",
      "text/plain": [
       "<matplotlib.figure.Figure at 0x1055c1550>"
      ]
     },
     "metadata": {},
     "output_type": "display_data"
    }
   ],
   "source": [
    "# test-versus-train style \n",
    "\n",
    "import pandas \n",
    "from sklearn import svm\n",
    "from sklearn.ensemble import BaggingClassifier\n",
    "%matplotlib inline \n",
    "import matplotlib.pyplot as plt \n",
    "from sklearn.metrics import roc_curve\n",
    "\n",
    "def low10( df ):\n",
    "    return df.sort_values( by='total_score' ).head( 10 ).mean()\n",
    "\n",
    "thermo = pandas.read_csv( 'data_sets/expression_data.csv', index_col='name' ) \n",
    "blind_data = pandas.read_csv( 'data_sets/expression_spring_2016.csv', index_col='name' )\n",
    "sf = pandas.read_csv( 'data_sets/scorefile.csv' ) \n",
    "sf['name'] = sf.description.str.split( '_' ).str[ 1 ]\n",
    "\n",
    "grouped = sf.groupby( 'name' )\n",
    "low10 = grouped.apply( low10 )\n",
    "#low10.index = low10.name \n",
    "\n",
    "joined_blind = low10.join( blind_data ).dropna() \n",
    "\n",
    "x = low10.join( thermo ).dropna()\n",
    "x = x[ features ] \n",
    "\n",
    "y = x.expression.round()\n",
    "X = x.drop( u'expression', axis=1 )\n",
    "\n",
    "#y = x.expression * 2 # for multi-class\n",
    "\n",
    "little_x = joined_blind[ features ]  \n",
    "X_test = little_x.drop( 'expression', axis=1 ) \n",
    "y_test = joined_blind.expression.astype( bool ) \n",
    "\n",
    "clf = svm.SVC( kernel='linear', C=1 )\n",
    "clf.fit( X, y )\n",
    "\n",
    "#plot_decision_regions( X.as_matrix(), y.as_matrix(), classifier=clf )\n",
    "#plt.legend(loc='upper left')\n",
    "#plt.show()\n",
    "\n",
    "print 'model score (training)', clf.score( X, y ).round( 2 )  \n",
    "print 'model score (test)', clf.score( X_test, y_test ).round( 2 ) \n",
    "\n",
    "preds = clf.predict( X ) \n",
    "scores = clf.decision_function( X ) \n",
    "\n",
    "test_predictions = clf.predict( X_test ) \n",
    "test_scores = clf.decision_function( X_test ) \n",
    "\n",
    "fpr_train, tpr_train, __ = roc_curve( y, scores ) \n",
    "fpr_test, tpr_test, __ = roc_curve( y_test, test_scores ) \n",
    "\n",
    "plt.figure( figsize=(4,4) )\n",
    "plt.plot( fpr_train, tpr_train ) \n",
    "plt.plot( fpr_test, tpr_test, color='r' ) \n",
    "plt.plot([0, 1], [0, 1], 'k--')\n",
    "plt.xlim([-0.02, 1.02])\n",
    "plt.ylim([-0.02, 1.02])\n",
    "plt.xlabel('False Positive Rate')\n",
    "plt.ylabel('True Positive Rate')\n",
    "plt.title('SVM results')\n",
    "plt.legend( [ 'Training set (PLOS)', 'Test set (unpublished)' ], loc='lower right' )\n",
    "plt.show()"
   ]
  },
  {
   "cell_type": "code",
   "execution_count": null,
   "metadata": {
    "collapsed": false
   },
   "outputs": [],
   "source": [
    "# stratified cross-validation style \n",
    "\n",
    "%matplotlib inline \n",
    "import matplotlib.pyplot as plt \n",
    "from sklearn.metrics import roc_curve\n",
    "from sklearn import cross_validation, svm\n",
    "from sklearn.ensemble import BaggingClassifier\n",
    "import pandas \n",
    "\n",
    "def low10( df ):\n",
    "    return df.sort_values( by='total_score' ).head( 2 ) #.mean()\n",
    "\n",
    "thermo = pandas.read_csv( 'data_sets/expression_cat.csv', index_col='name' ) \n",
    "sf = pandas.read_csv( 'data_sets/scorefile.csv' ) \n",
    "sf['name'] = sf.description.str.split( '_' ).str[ 1 ]\n",
    "\n",
    "grouped = sf.groupby( 'name' )\n",
    "low10 = grouped.apply( low10 )\n",
    "low10.index = low10.name \n",
    "\n",
    "x = low10.join( thermo ).dropna()\n",
    "x = x[ features ] \n",
    "\n",
    "y = x.expression.round().as_matrix()\n",
    "X = x.drop( u'expression', axis=1 ).as_matrix()\n",
    "\n",
    "clf = svm.SVC( kernel='linear', C=1 )\n",
    "skf = cross_validation.StratifiedKFold( y, n_folds=10 )\n",
    "bag = BaggingClassifier( clf, n_estimators=1, n_jobs=-1 ) \n",
    "\n",
    "#print [ clf.fit( X[train], y[train] ).score( X[test], y[test] ) for train, test in skf ]\n",
    "#print cross_validation.cross_val_score( bag, X, y, cv=skf, n_jobs=-1)\n",
    "\n",
    "for train, test in skf: \n",
    "    bag.fit( X[train], y[train] ) \n",
    "\n",
    "# print 'model score (training)', clf.score( X, y ).round( 2 )  \n",
    "# print 'model score (test)', clf.score( X_test, y_test ).round( 2 ) \n",
    "\n",
    "# preds = clf.predict( X ) \n",
    "# scores = clf.decision_function( X ) \n",
    "\n",
    "# test_predictions = clf.predict( X_test ) \n",
    "# test_scores = clf.decision_function( X_test ) \n",
    "\n",
    "# fpr_train, tpr_train, __ = roc_curve( y, scores ) \n",
    "# fpr_test, tpr_test, __ = roc_curve( y_test, test_scores ) \n",
    "\n",
    "# plt.figure( figsize=(4,4) )\n",
    "# plt.plot( fpr_train, tpr_train ) \n",
    "# plt.plot( fpr_test, tpr_test, color='r' ) \n",
    "# plt.plot([0, 1], [0, 1], 'k--')\n",
    "# plt.xlim([-0.02, 1.02])\n",
    "# plt.ylim([-0.02, 1.02])\n",
    "# plt.xlabel('False Positive Rate')\n",
    "# plt.ylabel('True Positive Rate')\n",
    "# plt.title('SVM results')\n",
    "# plt.legend( [ 'Training set (PLOS)', 'Test set (unpublished)' ], loc='lower right' )\n",
    "# plt.show()"
   ]
  },
  {
   "cell_type": "code",
   "execution_count": 35,
   "metadata": {
    "collapsed": false
   },
   "outputs": [
    {
     "name": "stdout",
     "output_type": "stream",
     "text": [
      "model score 0.83\n"
     ]
    },
    {
     "data": {
      "image/png": "[encoded data removed]",
      "text/plain": [
       "<matplotlib.figure.Figure at 0x105155ad0>"
      ]
     },
     "metadata": {},
     "output_type": "display_data"
    }
   ],
   "source": [
    "# using ddg predictions as features instead of enzdes features \n",
    "\n",
    "import pandas \n",
    "from sklearn import svm\n",
    "from sklearn.ensemble import BaggingClassifier\n",
    "%matplotlib inline \n",
    "import matplotlib.pyplot as plt \n",
    "from sklearn.metrics import roc_curve\n",
    "\n",
    "def low10( df ):\n",
    "    return df.sort_values( by='total_score' ).head( 10 ) #.mean()\n",
    "\n",
    "expr = pandas.read_csv( 'data_sets/expression_cat.csv', index_col='name' ) \n",
    "sf = pandas.read_csv( '~/Documents/bagel-thermostability/protocols/ddg/ddg_preds.csv', index_col='description' ) \n",
    "\n",
    "ddg_features = [ u'total', u'fa_atr', u'fa_rep', u'fa_sol',\n",
    "       u'fa_intra_rep', u'fa_elec', u'pro_close', u'hbond_sr_bb',\n",
    "       u'hbond_lr_bb', u'hbond_bb_sc', u'hbond_sc', u'dslf_fa13',\n",
    "       u'coordinate_constraint', u'angle_constraint', u'dihedral_constraint',\n",
    "       u'rama', u'omega', u'fa_dun', u'p_aa_pp', u'ref', u'chainbreak',\n",
    "       u'res_type_constraint' ]\n",
    "\n",
    "x = expr.join( sf ).dropna() \n",
    "X = x[ ddg_features ] \n",
    "y = x.expression.round()\n",
    "\n",
    "clf = svm.SVC( kernel='linear', C=1 )\n",
    "clf.fit( X, y ) \n",
    "\n",
    "print 'model score', clf.score( X, y ).round( 2 )  \n",
    "\n",
    "preds = clf.predict( X ) \n",
    "scores = clf.decision_function( X ) \n",
    "\n",
    "fpr_train, tpr_train, __ = roc_curve( y, scores ) \n",
    "\n",
    "plt.figure( figsize=(4,4) )\n",
    "plt.plot( fpr_train, tpr_train ) \n",
    "plt.plot([0, 1], [0, 1], 'k--')\n",
    "plt.xlim([-0.02, 1.02])\n",
    "plt.ylim([-0.02, 1.02])\n",
    "plt.xlabel('False Positive Rate')\n",
    "plt.ylabel('True Positive Rate')\n",
    "plt.title('SVM results')\n",
    "plt.legend( [ 'ddg_monomer' ], loc='lower right' )\n",
    "plt.show()"
   ]
  },
  {
   "cell_type": "code",
   "execution_count": 36,
   "metadata": {
    "collapsed": false
   },
   "outputs": [
    {
     "name": "stdout",
     "output_type": "stream",
     "text": [
      "model score 0.69\n"
     ]
    },
    {
     "data": {
      "image/png": "[encoded data removed]",
      "text/plain": [
       "<matplotlib.figure.Figure at 0x104394ad0>"
      ]
     },
     "metadata": {},
     "output_type": "display_data"
    }
   ],
   "source": [
    "# bootstrapping SVM on all expression data we have \n",
    "\n",
    "import pandas \n",
    "from sklearn import svm\n",
    "from sklearn.ensemble import BaggingClassifier\n",
    "%matplotlib inline \n",
    "import matplotlib.pyplot as plt \n",
    "from sklearn.metrics import roc_curve\n",
    "\n",
    "def low10( df ):\n",
    "    return df.sort_values( by='total_score' ).head( 10 ) #.mean()\n",
    "\n",
    "thermo = pandas.read_csv( 'data_sets/expression_cat.csv', index_col='name' ) \n",
    "sf = pandas.read_csv( 'data_sets/scorefile.csv' ) \n",
    "sf['name'] = sf.description.str.split( '_' ).str[ 1 ]\n",
    "\n",
    "grouped = sf.groupby( 'name' )\n",
    "low10 = grouped.apply( low10 )\n",
    "low10.index = low10.name \n",
    "\n",
    "joined_blind = low10.join( blind_data ).dropna() \n",
    "\n",
    "x = low10.join( thermo ).dropna()\n",
    "x = x[ features ] \n",
    "\n",
    "y = x.expression.round()\n",
    "X = x.drop( u'expression', axis=1 )\n",
    "\n",
    "clf = svm.SVC( kernel='linear', C=1 )\n",
    "clf.fit( X, y ) \n",
    "\n",
    "print 'model score', clf.score( X, y ).round( 2 )  \n",
    "\n",
    "preds = clf.predict( X ) \n",
    "scores = clf.decision_function( X ) \n",
    "\n",
    "fpr_train, tpr_train, __ = roc_curve( y, scores ) \n",
    "\n",
    "plt.figure( figsize=(4,4) )\n",
    "plt.plot( fpr_train, tpr_train ) \n",
    "plt.plot([0, 1], [0, 1], 'k--')\n",
    "plt.xlim([-0.02, 1.02])\n",
    "plt.ylim([-0.02, 1.02])\n",
    "plt.xlabel('False Positive Rate')\n",
    "plt.ylabel('True Positive Rate')\n",
    "plt.title('SVM results')\n",
    "plt.legend( [ 'All expression data' ], loc='lower right' )\n",
    "plt.show()"
   ]
  },
  {
   "cell_type": "markdown",
   "metadata": {},
   "source": [
    "### Sampling all of the features 10 highest and 10 lowest rows to see if any of them improve EN performance "
   ]
  },
  {
   "cell_type": "code",
   "execution_count": 1,
   "metadata": {
    "collapsed": false
   },
   "outputs": [
    {
     "name": "stdout",
     "output_type": "stream",
     "text": [
      "kcat . . . . . . . . . . . . . . . . . . . . . . . . . . . . . . . . . . . . . . . . . . . . . . . . . . . . . . . . . . . . . . . . . . . . . . . . . . . . . . . . . . . . . . . . . . . . . . \n",
      "km . . . . . . . . . . . . . . . . . . . . . . . . . . . . . . . . . . . . . . . . . . . . . . . . . . . . . . . . . . . . . . . . . . . . . . . . . . . . . . . . . . . . . . . . . . . . . . \n",
      "kcatkm . . . . . . . . . . . . . . . . . . . . . . . . . . . . . . . . . . . . . . . . . . . . . . . . . . . . . . . . . . . . . . . . . . . . . . . . . . . . . . . . . . . . . . . . . . . . . . \n"
     ]
    }
   ],
   "source": [
    "# try sampling all the features to pick the lowest 10 models \n",
    "\n",
    "import pandas \n",
    "from numpy import inf, nan, log \n",
    "from sklearn import preprocessing \n",
    "\n",
    "def pick_n_models( df, feature, n, ascending=True ):\n",
    "    return df.sort_values( by=feature, ascending=ascending ).head( n ).mean()\n",
    "\n",
    "# Rosetta features for 17400 Bagel protein models \n",
    "sf = pandas.read_csv( 'data_sets/scorefile.csv' )\n",
    "grouped = sf.groupby( 'name' )\n",
    "\n",
    "# constants to be included \n",
    "constants = [ 'kcat', 'km', 'kcatkm' ]\n",
    "\n",
    "# features to be included \n",
    "features = [ u'total_score', u'fa_rep', u'hbond_sc', u'tot_pstat_pm',\n",
    "       u'tot_nlpstat_pm', u'tot_burunsat_pm', u'tot_hbond_pm',\n",
    "       u'tot_NLconts_pm', u'tot_nlsurfaceE_pm', u'tot_total_charge',\n",
    "       u'tot_total_pos_charges', u'tot_total_neg_charges', \n",
    "       u'SR_1_total_score', u'SR_1_fa_rep', u'SR_1_hbond_sc',\n",
    "       u'SR_1_hbond_pm', u'SR_1_burunsat_pm',\n",
    "       u'SR_1_pstat_pm', u'SR_1_nlpstat_pm', u'SR_2_total_score',\n",
    "       u'SR_2_fa_rep', u'SR_2_hbond_sc', u'SR_2_hbond_pm',\n",
    "       u'SR_2_burunsat_pm', u'SR_2_pstat_pm', u'SR_2_nlpstat_pm',\n",
    "       u'SR_3_total_score', u'SR_3_fa_rep', u'SR_3_hbond_sc', \n",
    "       u'SR_3_hbond_pm', u'SR_3_burunsat_pm', u'SR_3_pstat_pm',\n",
    "       u'SR_3_nlpstat_pm', u'SR_4_total_score', u'SR_4_fa_rep',\n",
    "       u'SR_4_hbond_sc', u'SR_4_hbond_pm',\n",
    "       u'SR_4_burunsat_pm', u'SR_4_pstat_pm', u'SR_4_nlpstat_pm',\n",
    "       u'SR_5_total_score', u'SR_5_fa_rep', u'SR_5_hbond_sc', \n",
    "       u'SR_5_interf_E_1_2', u'SR_5_dsasa_1_2', u'SR_5_hbond_pm',\n",
    "       u'SR_5_burunsat_pm', ] \n",
    "\n",
    "# experimental data, and also log compared to wild type \n",
    "dat = pandas.read_csv( '../bagel-data/clean_data/plos2015.csv', index_col='name' )\n",
    "wt = dat.loc[ 'BglB' ]\n",
    "dat.drop( [ 'BglB' ], inplace=True )\n",
    "dat = log( dat / wt )\n",
    "\n",
    "feature_sets = []\n",
    "\n",
    "for constant in constants:\n",
    "    \n",
    "    y = dat[ [ constant ] ] \n",
    "    print constant, \n",
    "    \n",
    "    for a in [ True, False ]:\n",
    "        \n",
    "        for feature in features:\n",
    "            \n",
    "            print '.', \n",
    "            X = grouped.apply( pick_n_models, feature, 10, a )[ features ]\n",
    "            J = X.join( y ).replace( [ inf, -inf ], nan ).dropna()\n",
    "            \n",
    "            scaler = preprocessing.StandardScaler()\n",
    "            J = scaler.fit_transform( J )\n",
    "\n",
    "            feature_sets.append( ( constant, a, feature, J ) )\n",
    "            \n",
    "    print '' "
   ]
  },
  {
   "cell_type": "code",
   "execution_count": 6,
   "metadata": {
    "collapsed": false,
    "scrolled": false
   },
   "outputs": [],
   "source": [
    "# try EN on all feature sets\n",
    "\n",
    "%matplotlib inline\n",
    "import matplotlib.pyplot as plt \n",
    "from sklearn import cross_validation, preprocessing\n",
    "from sklearn.linear_model import ElasticNetCV, SGDRegressor\n",
    "from sklearn.ensemble import BaggingRegressor\n",
    "from scipy.stats.stats import pearsonr\n",
    "from numpy import log, mean\n",
    "from glob import glob \n",
    "import pandas\n",
    "\n",
    "scores = []\n",
    "\n",
    "classifiers = [ \n",
    "    ( 'en', ElasticNetCV( selection='random', cv=10 ) ),  \n",
    "    ( 'sgd', SGDRegressor( penalty='elasticnet' ) ),  # stochastic gradient descent\n",
    "    ( 'en_with_l1_ratio', ElasticNetCV( l1_ratio=[.1, .5, .7, .9, .95, .99, 1], cv=10 ) )\n",
    "]\n",
    "\n",
    "# read in pickle \n",
    "for ( constant, a, feature, J ) in feature_sets:\n",
    "    \n",
    "    X = J[:, :-1]\n",
    "    y = J[:, -1:].ravel()\n",
    "    \n",
    "    for clf_short_name, clf in classifiers:\n",
    "\n",
    "        result = {\n",
    "            'classifier_short_name': clf_short_name,\n",
    "            'classifier': clf.fit( X, y ),\n",
    "            'y': y, \n",
    "            'predictions': clf.predict( X ), \n",
    "            'score': clf.score( X, y ),\n",
    "            'constant': constant, \n",
    "            'ascending': a, \n",
    "            'feature': feature, \n",
    "        }\n",
    "        \n",
    "        scores.append( result ) \n",
    "\n",
    "scores = pandas.DataFrame( scores )\n",
    "scores.to_pickle( 'scores.pkl' ) "
   ]
  },
  {
   "cell_type": "code",
   "execution_count": 13,
   "metadata": {
    "collapsed": false,
    "scrolled": false
   },
   "outputs": [],
   "source": [
    "\n",
    "def my_function( df ):\n",
    "    return df.sort_values( 'score', ascending=False ).head( 5 ) \n",
    "\n",
    "low5 = scores.groupby( 'constant' ).apply( my_function ) "
   ]
  },
  {
   "cell_type": "code",
   "execution_count": 25,
   "metadata": {
    "collapsed": false
   },
   "outputs": [
    {
     "data": {
      "text/html": [
       "<div>\n",
       "<table border=\"1\" class=\"dataframe\">\n",
       "  <thead>\n",
       "    <tr style=\"text-align: right;\">\n",
       "      <th></th>\n",
       "      <th></th>\n",
       "      <th>ascending</th>\n",
       "      <th>classifier</th>\n",
       "      <th>classifier_short_name</th>\n",
       "      <th>constant</th>\n",
       "      <th>feature</th>\n",
       "      <th>predictions</th>\n",
       "      <th>score</th>\n",
       "      <th>y</th>\n",
       "    </tr>\n",
       "    <tr>\n",
       "      <th>constant</th>\n",
       "      <th></th>\n",
       "      <th></th>\n",
       "      <th></th>\n",
       "      <th></th>\n",
       "      <th></th>\n",
       "      <th></th>\n",
       "      <th></th>\n",
       "      <th></th>\n",
       "      <th></th>\n",
       "    </tr>\n",
       "  </thead>\n",
       "  <tbody>\n",
       "    <tr>\n",
       "      <th rowspan=\"5\" valign=\"top\">kcat</th>\n",
       "      <th>58</th>\n",
       "      <td>True</td>\n",
       "      <td>SGDRegressor(alpha=0.0001, average=False, epsi...</td>\n",
       "      <td>sgd</td>\n",
       "      <td>kcat</td>\n",
       "      <td>SR_2_total_score</td>\n",
       "      <td>[0.339396603654, 0.273189044151, 0.71127188883...</td>\n",
       "      <td>0.510587</td>\n",
       "      <td>[0.930228452973, 0.567303558594, 0.59443494529...</td>\n",
       "    </tr>\n",
       "    <tr>\n",
       "      <th>241</th>\n",
       "      <td>False</td>\n",
       "      <td>SGDRegressor(alpha=0.0001, average=False, epsi...</td>\n",
       "      <td>sgd</td>\n",
       "      <td>kcat</td>\n",
       "      <td>SR_4_total_score</td>\n",
       "      <td>[0.391526672691, -0.119122260219, 0.0132122047...</td>\n",
       "      <td>0.505871</td>\n",
       "      <td>[0.930228452973, 0.567303558594, 0.59443494529...</td>\n",
       "    </tr>\n",
       "    <tr>\n",
       "      <th>151</th>\n",
       "      <td>False</td>\n",
       "      <td>SGDRegressor(alpha=0.0001, average=False, epsi...</td>\n",
       "      <td>sgd</td>\n",
       "      <td>kcat</td>\n",
       "      <td>tot_pstat_pm</td>\n",
       "      <td>[0.0481054664376, 0.191599285354, -0.027194967...</td>\n",
       "      <td>0.502539</td>\n",
       "      <td>[0.930228452973, 0.567303558594, 0.59443494529...</td>\n",
       "    </tr>\n",
       "    <tr>\n",
       "      <th>7</th>\n",
       "      <td>True</td>\n",
       "      <td>SGDRegressor(alpha=0.0001, average=False, epsi...</td>\n",
       "      <td>sgd</td>\n",
       "      <td>kcat</td>\n",
       "      <td>hbond_sc</td>\n",
       "      <td>[0.281992919642, 0.480733945371, -0.0870823546...</td>\n",
       "      <td>0.494969</td>\n",
       "      <td>[0.930228452973, 0.567303558594, 0.59443494529...</td>\n",
       "    </tr>\n",
       "    <tr>\n",
       "      <th>223</th>\n",
       "      <td>False</td>\n",
       "      <td>SGDRegressor(alpha=0.0001, average=False, epsi...</td>\n",
       "      <td>sgd</td>\n",
       "      <td>kcat</td>\n",
       "      <td>SR_3_fa_rep</td>\n",
       "      <td>[0.372606016379, 0.355986190849, 0.00622118198...</td>\n",
       "      <td>0.490423</td>\n",
       "      <td>[0.930228452973, 0.567303558594, 0.59443494529...</td>\n",
       "    </tr>\n",
       "  </tbody>\n",
       "</table>\n",
       "</div>"
      ],
      "text/plain": [
       "             ascending                                         classifier  \\\n",
       "constant                                                                    \n",
       "kcat     58       True  SGDRegressor(alpha=0.0001, average=False, epsi...   \n",
       "         241     False  SGDRegressor(alpha=0.0001, average=False, epsi...   \n",
       "         151     False  SGDRegressor(alpha=0.0001, average=False, epsi...   \n",
       "         7        True  SGDRegressor(alpha=0.0001, average=False, epsi...   \n",
       "         223     False  SGDRegressor(alpha=0.0001, average=False, epsi...   \n",
       "\n",
       "             classifier_short_name constant           feature  \\\n",
       "constant                                                        \n",
       "kcat     58                    sgd     kcat  SR_2_total_score   \n",
       "         241                   sgd     kcat  SR_4_total_score   \n",
       "         151                   sgd     kcat      tot_pstat_pm   \n",
       "         7                     sgd     kcat          hbond_sc   \n",
       "         223                   sgd     kcat       SR_3_fa_rep   \n",
       "\n",
       "                                                    predictions     score  \\\n",
       "constant                                                                    \n",
       "kcat     58   [0.339396603654, 0.273189044151, 0.71127188883...  0.510587   \n",
       "         241  [0.391526672691, -0.119122260219, 0.0132122047...  0.505871   \n",
       "         151  [0.0481054664376, 0.191599285354, -0.027194967...  0.502539   \n",
       "         7    [0.281992919642, 0.480733945371, -0.0870823546...  0.494969   \n",
       "         223  [0.372606016379, 0.355986190849, 0.00622118198...  0.490423   \n",
       "\n",
       "                                                              y  \n",
       "constant                                                         \n",
       "kcat     58   [0.930228452973, 0.567303558594, 0.59443494529...  \n",
       "         241  [0.930228452973, 0.567303558594, 0.59443494529...  \n",
       "         151  [0.930228452973, 0.567303558594, 0.59443494529...  \n",
       "         7    [0.930228452973, 0.567303558594, 0.59443494529...  \n",
       "         223  [0.930228452973, 0.567303558594, 0.59443494529...  "
      ]
     },
     "execution_count": 25,
     "metadata": {},
     "output_type": "execute_result"
    }
   ],
   "source": [
    "low5.head()"
   ]
  },
  {
   "cell_type": "code",
   "execution_count": 27,
   "metadata": {
    "collapsed": false,
    "scrolled": false
   },
   "outputs": [
    {
     "data": {
      "image/png": "[encoded data removed]",
      "text/plain": [
       "<matplotlib.figure.Figure at 0x10b3e92d0>"
      ]
     },
     "metadata": {},
     "output_type": "display_data"
    },
    {
     "data": {
      "image/png": "[encoded data removed]",
      "text/plain": [
       "<matplotlib.figure.Figure at 0x10b6f1ed0>"
      ]
     },
     "metadata": {},
     "output_type": "display_data"
    },
    {
     "data": {
      "image/png": "[encoded data removed]",
      "text/plain": [
       "<matplotlib.figure.Figure at 0x10b455590>"
      ]
     },
     "metadata": {},
     "output_type": "display_data"
    },
    {
     "data": {
      "image/png": "[encoded data removed]",
      "text/plain": [
       "<matplotlib.figure.Figure at 0x10bcd6310>"
      ]
     },
     "metadata": {},
     "output_type": "display_data"
    },
    {
     "data": {
      "image/png": "[encoded data removed]",
      "text/plain": [
       "<matplotlib.figure.Figure at 0x10bcd6710>"
      ]
     },
     "metadata": {},
     "output_type": "display_data"
    },
    {
     "data": {
      "image/png": "[encoded data removed]",
      "text/plain": [
       "<matplotlib.figure.Figure at 0x109cc0810>"
      ]
     },
     "metadata": {},
     "output_type": "display_data"
    },
    {
     "data": {
      "image/png": "[encoded data removed]",
      "text/plain": [
       "<matplotlib.figure.Figure at 0x10bb26dd0>"
      ]
     },
     "metadata": {},
     "output_type": "display_data"
    },
    {
     "data": {
      "image/png": "[encoded data removed]",
      "text/plain": [
       "<matplotlib.figure.Figure at 0x10c080050>"
      ]
     },
     "metadata": {},
     "output_type": "display_data"
    },
    {
     "data": {
      "image/png": "[encoded data removed]",
      "text/plain": [
       "<matplotlib.figure.Figure at 0x10be4c910>"
      ]
     },
     "metadata": {},
     "output_type": "display_data"
    },
    {
     "data": {
      "image/png": "[encoded data removed]",
      "text/plain": [
       "<matplotlib.figure.Figure at 0x10b5e9e90>"
      ]
     },
     "metadata": {},
     "output_type": "display_data"
    },
    {
     "data": {
      "image/png": "[encoded data removed]",
      "text/plain": [
       "<matplotlib.figure.Figure at 0x109fdc150>"
      ]
     },
     "metadata": {},
     "output_type": "display_data"
    },
    {
     "data": {
      "image/png": "[encoded data removed]",
      "text/plain": [
       "<matplotlib.figure.Figure at 0x10bb2ffd0>"
      ]
     },
     "metadata": {},
     "output_type": "display_data"
    },
    {
     "data": {
      "image/png": "[encoded data removed]",
      "text/plain": [
       "<matplotlib.figure.Figure at 0x107ae9c10>"
      ]
     },
     "metadata": {},
     "output_type": "display_data"
    },
    {
     "data": {
      "image/png": "[encoded data removed]",
      "text/plain": [
       "<matplotlib.figure.Figure at 0x10b83b710>"
      ]
     },
     "metadata": {},
     "output_type": "display_data"
    },
    {
     "data": {
      "image/png": "[encoded data removed]",
      "text/plain": [
       "<matplotlib.figure.Figure at 0x10b83b8d0>"
      ]
     },
     "metadata": {},
     "output_type": "display_data"
    }
   ],
   "source": [
    "for name, s in low5.iterrows():\n",
    "\n",
    "    pcc = pearsonr( s.y, s.predictions )[0].round( 2 )  \n",
    "    plt.figure( figsize=(3,3) ) \n",
    "    plt.title( '{} {} {}\\n{} PCC={}'.format( s.constant, s.feature, s.ascending, s.classifier_short_name, pcc ) )\n",
    "    plt.scatter( s.y, s.predictions, marker='.' ) \n",
    "    plt.show()\n"
   ]
  },
  {
   "cell_type": "markdown",
   "metadata": {},
   "source": [
    "## Additional features\n",
    "\n",
    "### Distance from active site "
   ]
  },
  {
   "cell_type": "code",
   "execution_count": 41,
   "metadata": {
    "collapsed": false,
    "scrolled": false
   },
   "outputs": [],
   "source": [
    "# add distance from active site as a feature for every possible mutation  \n",
    "\n",
    "from Bio.PDB.PDBParser import PDBParser \n",
    "from Bio.SeqUtils import IUPACData\n",
    "\n",
    "parser = PDBParser()\n",
    "structure = parser.get_structure( 'bglb', 'bglb.pdb' )\n",
    "\n",
    "ligand = structure[0]['X']\n",
    "for i in ligand:\n",
    "    ligand_centroid = i['C5'] \n",
    "\n",
    "chain_a = structure[0]['A']\n",
    "    \n",
    "l = []\n",
    "for i in range( 1, 445 ):\n",
    "    res = chain_a[ i ]\n",
    "    n = IUPACData.protein_letters_3to1[ res.get_resname().capitalize() ] \n",
    "    atom_1 = res['CA']\n",
    "    distance = atom_1 - ligand_centroid\n",
    "    for aa in IUPACData.protein_letters:\n",
    "        l.append( ( '{}{}{}'.format( n, i, aa.upper() ), distance ) ) \n",
    "    \n",
    "df = pandas.DataFrame( l, columns=[ 'name', 'distance' ] )  \n",
    "\n",
    "\n",
    "df.to_csv( 'data_sets/distance_from_active_site.csv' ) "
   ]
  },
  {
   "cell_type": "markdown",
   "metadata": {
    "collapsed": true
   },
   "source": [
    "## Stratch "
   ]
  }
 ],
 "metadata": {
  "kernelspec": {
   "display_name": "Python 2",
   "language": "python",
   "name": "python2"
  },
  "language_info": {
   "codemirror_mode": {
    "name": "ipython",
    "version": 2
   },
   "file_extension": ".py",
   "mimetype": "text/x-python",
   "name": "python",
   "nbconvert_exporter": "python",
   "pygments_lexer": "ipython2",
   "version": "2.7.11"
  }
 },
 "nbformat": 4,
 "nbformat_minor": 0
}
