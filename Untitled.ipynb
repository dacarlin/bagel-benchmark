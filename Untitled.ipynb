{
 "cells": [
  {
   "cell_type": "markdown",
   "metadata": {},
   "source": [
    "# How to train a constrained statistical learning algorithm on experimental enzyme kinetic data to predict the functional effect of mutations \n",
    "\n",
    "## Prep input files \n",
    "\n",
    "First, we'll make models of all of the enzymes using Rosetta. All we need is a wild type PDB structure, `bglb.pdb`, and a list of mutations that we have kinetic data for, `mutant_list`. "
   ]
  },
  {
   "cell_type": "code",
   "execution_count": 20,
   "metadata": {
    "collapsed": false
   },
   "outputs": [
    {
     "name": "stdout",
     "output_type": "stream",
     "text": [
      "/share/work/alex/bagel-benchmark\r\n"
     ]
    }
   ],
   "source": [
    "! pwd "
   ]
  },
  {
   "cell_type": "code",
   "execution_count": 21,
   "metadata": {
    "collapsed": false
   },
   "outputs": [
    {
     "name": "stdout",
     "output_type": "stream",
     "text": [
      "bglb.pdb   list\t\tout\t\t pNPG.params  repack.xml\n",
      "flags\t   log.txt\tpNPG.conf.pdb\t protocol     sub.sh\n",
      "input_pdb  mutant_list\tpNPG.enzdes.cst  README.md    Untitled.ipynb\n",
      "mkdir: cannot create directory ‘input_pdb’: File exists\n"
     ]
    }
   ],
   "source": [
    "! ls\n",
    "! mkdir input_pdb "
   ]
  },
  {
   "cell_type": "markdown",
   "metadata": {},
   "source": [
    "First, we have to munge a bunch of PDBs. Here's a go at this! Seems like a very stupid way to go about it."
   ]
  },
  {
   "cell_type": "code",
   "execution_count": 22,
   "metadata": {
    "collapsed": false
   },
   "outputs": [
    {
     "name": "stdout",
     "output_type": "stream",
     "text": [
      "156 mutants\n"
     ]
    }
   ],
   "source": [
    "from Bio.SeqUtils import IUPACData\n",
    "nstruct = 100\n",
    "\n",
    "with open( 'mutant_list' ) as fn:\n",
    "    mutants = [ i.strip() for i in fn.readlines() if len( i ) > 1 ] \n",
    "    print len( mutants ), 'mutants'\n",
    "\n",
    "with open( 'bglb.pdb', 'r' ) as wt:\n",
    "    lines = wt.readlines()\n",
    "    \n",
    "for mutant in mutants:\n",
    "    new3 = IUPACData.protein_letters_1to3[ mutant[ -1 ] ].upper()\n",
    "    pos = mutant[ 1:-1 ]\n",
    "    with open( 'input_pdb/{}.pdb'.format( mutant ), 'w' ) as fn:\n",
    "        for line in lines:\n",
    "            spl = line.split() \n",
    "            if spl[0] == 'REMARK':\n",
    "                if spl[11] == pos:\n",
    "                    pass # don't write this remark line\n",
    "                else:\n",
    "                    fn.write( line ) \n",
    "            elif spl[0] == 'ATOM':\n",
    "                if spl[5] == pos: \n",
    "                    if spl[2] in [ 'N', 'C', 'CA', 'O' ]: # backbone atom \n",
    "                        new_line = line[:17] + new3 + line[20:] \n",
    "                        fn.write( new_line ) \n",
    "                    else: # not a backbone atom \n",
    "                        pass # don't write anything \n",
    "                else: #not a pos we care about \n",
    "                    fn.write( line ) # print out untouched \n",
    "            elif spl[0] == 'HETATM':\n",
    "                fn.write( line ) # write all HETATM lines \n",
    "            else:\n",
    "                print 'Error'"
   ]
  },
  {
   "cell_type": "code",
   "execution_count": 31,
   "metadata": {
    "collapsed": false
   },
   "outputs": [],
   "source": [
    "nstruct = 10\n",
    "\n",
    "with open( 'list', 'w' ) as fn:\n",
    "    for i in range( nstruct ):\n",
    "        for mutant in mutants:\n",
    "            fn.write( '-s input_pdb/{}.pdb -parser:script_vars target={} -user_tag {} \\n'.format( mutant, mutant[1:-1], i ) )"
   ]
  },
  {
   "cell_type": "code",
   "execution_count": 32,
   "metadata": {
    "collapsed": false
   },
   "outputs": [
    {
     "name": "stdout",
     "output_type": "stream",
     "text": [
      "-s input_pdb/A192S.pdb -parser:script_vars target=192 -user_tag 0 \r\n",
      "-s input_pdb/A227W.pdb -parser:script_vars target=227 -user_tag 0 \r\n",
      "-s input_pdb/A236E.pdb -parser:script_vars target=236 -user_tag 0 \r\n",
      "-s input_pdb/A249E.pdb -parser:script_vars target=249 -user_tag 0 \r\n",
      "-s input_pdb/C167A.pdb -parser:script_vars target=167 -user_tag 0 \r\n",
      "-s input_pdb/C167Q.pdb -parser:script_vars target=167 -user_tag 0 \r\n",
      "-s input_pdb/C167S.pdb -parser:script_vars target=167 -user_tag 0 \r\n",
      "-s input_pdb/D121F.pdb -parser:script_vars target=121 -user_tag 0 \r\n",
      "-s input_pdb/D322A.pdb -parser:script_vars target=322 -user_tag 0 \r\n",
      "-s input_pdb/D403A.pdb -parser:script_vars target=403 -user_tag 0 \r\n"
     ]
    }
   ],
   "source": [
    "! head list"
   ]
  },
  {
   "cell_type": "markdown",
   "metadata": {},
   "source": [
    "## Run the simulations on Cabernet with SLURM "
   ]
  },
  {
   "cell_type": "code",
   "execution_count": 36,
   "metadata": {
    "collapsed": false,
    "scrolled": true
   },
   "outputs": [
    {
     "name": "stdout",
     "output_type": "stream",
     "text": [
      "1560 runs\n",
      "Submitted batch job 613452\n"
     ]
    }
   ],
   "source": [
    "%%bash\n",
    "# run the simulations on Cabernet w/ SLURM \n",
    " \n",
    "runs=$( wc -l list | cut -d' ' -f1 )\n",
    "echo $runs runs \n",
    "sbatch --array=1-$runs sub.sh"
   ]
  },
  {
   "cell_type": "code",
   "execution_count": 37,
   "metadata": {
    "collapsed": false,
    "scrolled": false
   },
   "outputs": [
    {
     "name": "stdout",
     "output_type": "stream",
     "text": [
      "             JOBID PARTITION     NAME     USER ST       TIME  NODES NODELIST(REASON)\r\n",
      " 613452_[102-1560]        gc     bglb   carlin PD       0:00      1 (None)\r\n",
      "         613452_52        gc     bglb   carlin  R       0:02      1 c6-14.hpc.genomecenter.ucdavis.edu\r\n",
      "         613452_53        gc     bglb   carlin  R       0:02      1 c6-14.hpc.genomecenter.ucdavis.edu\r\n",
      "         613452_54        gc     bglb   carlin  R       0:02      1 c6-14.hpc.genomecenter.ucdavis.edu\r\n",
      "         613452_55        gc     bglb   carlin  R       0:02      1 c6-14.hpc.genomecenter.ucdavis.edu\r\n",
      "         613452_56        gc     bglb   carlin  R       0:02      1 c6-14.hpc.genomecenter.ucdavis.edu\r\n",
      "         613452_57        gc     bglb   carlin  R       0:02      1 c6-14.hpc.genomecenter.ucdavis.edu\r\n",
      "         613452_58        gc     bglb   carlin  R       0:02      1 c7-6.hpc.genomecenter.ucdavis.edu\r\n",
      "         613452_59        gc     bglb   carlin  R       0:02      1 c7-6.hpc.genomecenter.ucdavis.edu\r\n"
     ]
    }
   ],
   "source": [
    "! squeue -u carlin | head "
   ]
  },
  {
   "cell_type": "code",
   "execution_count": 35,
   "metadata": {
    "collapsed": false
   },
   "outputs": [
    {
     "name": "stdout",
     "output_type": "stream",
     "text": [
      "protocols.rosetta_scripts.ParsedProtocol: ParsedProtocol mover with the following movers and filters\r\n",
      "protocols.rosetta_scripts.ParsedProtocol: added mover \"predock\" with filter \"true_filter\"\r\n",
      "protocols.rosetta_scripts.ParsedProtocol: added mover \"cst_opt\" with filter \"true_filter\"\r\n",
      "protocols.rosetta_scripts.ParsedProtocol: added mover \"repack_wbb\" with filter \"true_filter\"\r\n",
      "protocols.rosetta_scripts.RosettaScriptsParser: Defined mover named \"iterate\" of type ParsedProtocol\r\n",
      "protocols.rosetta_scripts.RosettaScriptsParser: Defined mover named \"monte_repack\" of type GenericMonteCarlo\r\n",
      "protocols.rosetta_scripts.ParsedProtocol: ParsedProtocol mover with the following movers and filters\r\n",
      "protocols.rosetta_scripts.ParsedProtocol: added mover \"cstadd\" with filter \"true_filter\"\r\n",
      "Error: ERROR: Exception caught by rosetta_scripts application:Mover mutate not found in map\r\n",
      "Error: \r\n"
     ]
    }
   ],
   "source": [
    "! tail log.txt"
   ]
  },
  {
   "cell_type": "markdown",
   "metadata": {},
   "source": [
    "## Results "
   ]
  },
  {
   "cell_type": "code",
   "execution_count": 13,
   "metadata": {
    "collapsed": false,
    "scrolled": false
   },
   "outputs": [
    {
     "name": "stdout",
     "output_type": "stream",
     "text": [
      "1139\n"
     ]
    }
   ],
   "source": [
    "from glob import glob \n",
    "import pandas\n",
    "\n",
    "dfs = [ pandas.read_csv( i, sep='\\s+' ) for i in glob( 'out/*sc' ) ]\n",
    "df = pandas.concat( dfs )\n",
    "\n",
    "def low_10( df ):\n",
    "    return df.sort( 'total_score' ).head( 10 )\n",
    "\n",
    "names = [ i.split('_')[1] for i in df.description ] #extract mutant names from strings\n",
    "df['name'] = names\n",
    "\n",
    "df = df.groupby( 'name' ).apply( low_10 )\n",
    "print len( df )"
   ]
  },
  {
   "cell_type": "code",
   "execution_count": 25,
   "metadata": {
    "collapsed": false,
    "scrolled": false
   },
   "outputs": [
    {
     "name": "stdout",
     "output_type": "stream",
     "text": [
      "101 mutants with experimental data\n",
      "76 kcat\n",
      "76 km\n",
      "87 kcat/km\n"
     ]
    }
   ],
   "source": [
    "# experimental data \n",
    "experimental = pandas.read_csv( '../bagel-data/clean_data/clean_for_pandas.csv', index_col='name' )\n",
    "\n",
    "# log and relative to wt \n",
    "wt = experimental.loc[ 'BglB' ]\n",
    "experimental.drop( [ 'BglB' ] )\n",
    "log_diff = log( experimental / wt )\n",
    "print len( log_diff ), 'mutants with experimental data'\n",
    "print len( log_diff.kcat.dropna() ), 'kcat'\n",
    "print len( log_diff.km.dropna() ), 'km'\n",
    "print len( log_diff.kcatkm.dropna() ), 'kcat/km'"
   ]
  },
  {
   "cell_type": "code",
   "execution_count": 33,
   "metadata": {
    "collapsed": false
   },
   "outputs": [
    {
     "ename": "NameError",
     "evalue": "name 'df' is not defined",
     "output_type": "error",
     "traceback": [
      "\u001b[0;31m---------------------------------------------------------------------------\u001b[0m",
      "\u001b[0;31mNameError\u001b[0m                                 Traceback (most recent call last)",
      "\u001b[0;32m<ipython-input-33-636a7ad1c600>\u001b[0m in \u001b[0;36m<module>\u001b[0;34m()\u001b[0m\n\u001b[1;32m      1\u001b[0m \u001b[0;31m# join with models\u001b[0m\u001b[0;34m\u001b[0m\u001b[0;34m\u001b[0m\u001b[0m\n\u001b[0;32m----> 2\u001b[0;31m \u001b[0mjoined\u001b[0m \u001b[0;34m=\u001b[0m \u001b[0mdf\u001b[0m\u001b[0;34m.\u001b[0m\u001b[0mjoin\u001b[0m\u001b[0;34m(\u001b[0m \u001b[0mlog_diff\u001b[0m \u001b[0;34m)\u001b[0m\u001b[0;34m\u001b[0m\u001b[0m\n\u001b[0m\u001b[1;32m      3\u001b[0m \u001b[0;32mprint\u001b[0m \u001b[0mlen\u001b[0m\u001b[0;34m(\u001b[0m \u001b[0mjoined\u001b[0m \u001b[0;34m)\u001b[0m\u001b[0;34m,\u001b[0m \u001b[0;34m'joined total'\u001b[0m\u001b[0;34m\u001b[0m\u001b[0m\n\u001b[1;32m      4\u001b[0m \u001b[0;34m\u001b[0m\u001b[0m\n\u001b[1;32m      5\u001b[0m \u001b[0;31m# make a list of what we don't have data for\u001b[0m\u001b[0;34m\u001b[0m\u001b[0;34m\u001b[0m\u001b[0m\n",
      "\u001b[0;31mNameError\u001b[0m: name 'df' is not defined"
     ]
    }
   ],
   "source": [
    "# join with models \n",
    "joined = df.join( log_diff )\n",
    "print len( joined ), 'joined total'\n",
    "\n",
    "# make a list of what we don't have data for \n",
    "# predict that list \n",
    "joined"
   ]
  },
  {
   "cell_type": "markdown",
   "metadata": {},
   "source": [
    "So now we have 10 models (the lowest 10 by total_energy out of 100 simulations) of each protein, joined with experimental data. We don't have all pieces of experimental data for each protein, so there are some NaNs in the above dataframe, which scikit-learn doesn't deal very well with. We will clean up the data. "
   ]
  },
  {
   "cell_type": "code",
   "execution_count": 30,
   "metadata": {
    "collapsed": true
   },
   "outputs": [],
   "source": [
    "constants = [ 'kcat', 'km', 'kcatkm' ]\n",
    "\n",
    "# clean up data for sklearn\n",
    "x_cols = [ u'total_score', u'fa_rep', u'hbond_sc', u'tot_pstat_pm',\n",
    "       u'tot_nlpstat_pm', u'tot_burunsat_pm', u'tot_hbond_pm',\n",
    "       u'tot_NLconts_pm', u'tot_nlsurfaceE_pm', u'tot_total_charge',\n",
    "       u'tot_total_pos_charges', u'tot_total_neg_charges', u'tot_seq_recovery',\n",
    "       u'SR_1_total_score', u'SR_1_fa_rep', u'SR_1_hbond_sc',\n",
    "       u'SR_1_hbond_pm', u'SR_1_burunsat_pm',\n",
    "       u'SR_1_pstat_pm', u'SR_1_nlpstat_pm', u'SR_2_total_score',\n",
    "       u'SR_2_fa_rep', u'SR_2_hbond_sc', u'SR_2_all_cst', u'SR_2_hbond_pm',\n",
    "       u'SR_2_burunsat_pm', u'SR_2_pstat_pm', u'SR_2_nlpstat_pm',\n",
    "       u'SR_3_total_score', u'SR_3_fa_rep', u'SR_3_hbond_sc', \n",
    "       u'SR_3_hbond_pm', u'SR_3_burunsat_pm', u'SR_3_pstat_pm',\n",
    "       u'SR_3_nlpstat_pm', u'SR_4_total_score', u'SR_4_fa_rep',\n",
    "       u'SR_4_hbond_sc', u'SR_4_hbond_pm',\n",
    "       u'SR_4_burunsat_pm', u'SR_4_pstat_pm', u'SR_4_nlpstat_pm',\n",
    "       u'SR_5_total_score', u'SR_5_fa_rep', u'SR_5_hbond_sc', u'SR_5_all_cst',\n",
    "       u'SR_5_interf_E_1_2', u'SR_5_dsasa_1_2', u'SR_5_hbond_pm',\n",
    "       u'SR_5_burunsat_pm', ]\n",
    "\n",
    "for constant in constants:\n",
    "    work = joined[ x_cols + [ constant ] ]\n",
    "    work = work.replace( [ inf, -inf ], nan )\n",
    "    work = work.dropna()\n",
    "    work.to_csv( '{}.csv'.format( constant ) )\n",
    "    # now we have 3 clean CSVs, one for each constant"
   ]
  },
  {
   "cell_type": "code",
   "execution_count": 36,
   "metadata": {
    "collapsed": false,
    "scrolled": false
   },
   "outputs": [
    {
     "name": "stdout",
     "output_type": "stream",
     "text": [
      "              feature        weight\n",
      "38      SR_4_hbond_sc  1.989248e+00\n",
      "44        SR_5_fa_rep  1.177598e+00\n",
      "9   tot_nlsurfaceE_pm  1.174988e+00\n",
      "20    SR_1_nlpstat_pm  8.945843e-01\n",
      "49      SR_5_hbond_pm  6.924022e-01\n",
      "37        SR_4_fa_rep  6.730638e-01\n",
      "36   SR_4_total_score  6.438531e-01\n",
      "45      SR_5_hbond_sc  3.494855e-01\n",
      "19      SR_1_pstat_pm  3.327779e-01\n",
      "25      SR_2_hbond_pm  3.309566e-01\n",
      "6     tot_burunsat_pm  2.463831e-01\n",
      "23      SR_2_hbond_sc  2.218379e-01\n",
      "7        tot_hbond_pm  1.508067e-01\n",
      "34      SR_3_pstat_pm  1.451450e-01\n",
      "50   SR_5_burunsat_pm  1.188809e-01\n",
      "3            hbond_sc  1.033373e-01\n",
      "2              fa_rep  4.712933e-02\n",
      "8      tot_NLconts_pm  4.043398e-02\n",
      "1         total_score  3.646485e-02\n",
      "18   SR_1_burunsat_pm  5.677538e-15\n",
      "Constant kcat\n",
      "PCC=0.73\n"
     ]
    },
    {
     "data": {
      "image/png": "[encoded data removed]",
      "text/plain": [
       "<matplotlib.figure.Figure at 0x7f0c75a9b850>"
      ]
     },
     "metadata": {},
     "output_type": "display_data"
    },
    {
     "name": "stdout",
     "output_type": "stream",
     "text": [
      "              feature    weight\n",
      "37        SR_4_fa_rep  0.928250\n",
      "40   SR_4_burunsat_pm  0.553363\n",
      "47  SR_5_interf_E_1_2  0.458939\n",
      "42    SR_4_nlpstat_pm  0.304745\n",
      "17      SR_1_hbond_pm  0.284848\n",
      "21   SR_2_total_score  0.257389\n",
      "41      SR_4_pstat_pm  0.113231\n",
      "32      SR_3_hbond_pm  0.036022\n",
      "45      SR_5_hbond_sc  0.020329\n",
      "1         total_score  0.007615\n",
      "6     tot_burunsat_pm  0.001457\n",
      "Constant km\n",
      "PCC=0.69\n"
     ]
    },
    {
     "data": {
      "image/png": "[encoded data removed]",
      "text/plain": [
       "<matplotlib.figure.Figure at 0x7f0c5c3f0c10>"
      ]
     },
     "metadata": {},
     "output_type": "display_data"
    },
    {
     "name": "stdout",
     "output_type": "stream",
     "text": [
      "              feature    weight\n",
      "44        SR_5_fa_rep  3.617493\n",
      "22        SR_2_fa_rep  2.668318\n",
      "23      SR_2_hbond_sc  2.567043\n",
      "38      SR_4_hbond_sc  2.016806\n",
      "36   SR_4_total_score  1.904378\n",
      "49      SR_5_hbond_pm  1.720598\n",
      "30        SR_3_fa_rep  1.631374\n",
      "15        SR_1_fa_rep  1.631015\n",
      "27      SR_2_pstat_pm  1.526721\n",
      "9   tot_nlsurfaceE_pm  0.951697\n",
      "28    SR_2_nlpstat_pm  0.819369\n",
      "46       SR_5_all_cst  0.813763\n",
      "0          Unnamed: 1  0.807030\n",
      "50   SR_5_burunsat_pm  0.752426\n",
      "18   SR_1_burunsat_pm  0.627073\n",
      "33   SR_3_burunsat_pm  0.626847\n",
      "24       SR_2_all_cst  0.620438\n",
      "25      SR_2_hbond_pm  0.554884\n",
      "35    SR_3_nlpstat_pm  0.511067\n",
      "20    SR_1_nlpstat_pm  0.510777\n",
      "7        tot_hbond_pm  0.364169\n",
      "6     tot_burunsat_pm  0.357757\n",
      "3            hbond_sc  0.302678\n",
      "8      tot_NLconts_pm  0.264191\n",
      "2              fa_rep  0.134353\n",
      "1         total_score  0.016950\n",
      "Constant kcatkm\n",
      "PCC=0.83\n"
     ]
    },
    {
     "data": {
      "image/png": "[encoded data removed]",
      "text/plain": [
       "<matplotlib.figure.Figure at 0x7f0c751a9590>"
      ]
     },
     "metadata": {},
     "output_type": "display_data"
    }
   ],
   "source": [
    "for constant in constants:\n",
    "    df = pandas.read_csv( '{}.csv'.format( constant ), index_col='name' )    \n",
    "    y = df[ constant ]\n",
    "    X = df.drop( constant, axis=1 )\n",
    "        \n",
    "    params = { 'l1_ratio': [ .1, .25, .5, .7, .9, .95, .99, 1, ] }\n",
    "    net = ElasticNetCV()\n",
    "    grid = GridSearchCV( net, params )\n",
    "    bag = BaggingRegressor( grid, n_estimators=10 )\n",
    "    bag.fit( X, y )\n",
    "\n",
    "    weights = pandas.DataFrame( zip( X.columns, bag.estimators_[0].best_estimator_.coef_ ), columns=['feature', 'weight'] )\n",
    "    preds = bag.predict( X )\n",
    "\n",
    "    print weights[ ( weights.weight > 0 )].sort( 'weight', ascending=False )\n",
    "    print 'Constant', constant\n",
    "    print 'PCC={:2.2f}'.format( pearsonr( preds, y )[0] )\n",
    "\n",
    "    plt.figure( figsize=(4,4) )\n",
    "    plt.scatter( preds, y, alpha=0.3, marker='.', color='k' )\n",
    "    plt.xlabel( 'Predicted' )\n",
    "    plt.ylabel( 'Actual' )\n",
    "    plt.show()"
   ]
  },
  {
   "cell_type": "markdown",
   "metadata": {},
   "source": [
    "## An attempt at running the machine learning in parallel \n",
    "\n",
    "Would be really cool to run the machine learning ensembles in parallel. Possible?"
   ]
  },
  {
   "cell_type": "code",
   "execution_count": 67,
   "metadata": {
    "collapsed": true
   },
   "outputs": [],
   "source": [
    "%matplotlib inline\n",
    "import os\n",
    "import ipyparallel as ipp\n",
    "\n",
    "rc = ipp.Client()\n",
    "ar = rc[:].apply_async(os.getpid)\n",
    "pid_map = ar.get_dict()\n",
    "dview = rc[:]\n",
    "\n",
    "@dview.parallel( block=True )\n",
    "def fit_elastic_net_model( iterable ):\n",
    "    import matplotlib.pyplot as plt\n",
    "    from numpy import log, nan, inf\n",
    "    from sklearn.linear_model import ElasticNetCV\n",
    "    from sklearn.ensemble import BaggingRegressor\n",
    "    from sklearn.grid_search import GridSearchCV\n",
    "    from scipy.stats.stats import pearsonr\n",
    "    import pandas \n",
    "    from glob import glob \n",
    "    import os\n",
    "\n",
    "    constant = iterable[0]\n",
    "    df = pandas.read_csv( 'xiaokang2/{}.csv'.format( constant ), index_col='name' )    \n",
    "    y = df[ constant ]\n",
    "    X = df.drop( constant, axis=1 )\n",
    "        \n",
    "    params = { 'l1_ratio': [ .1, .5, .7, .9, .95, .99, 1, ] }\n",
    "    net = ElasticNetCV( cv=10, max_iter=10000 )\n",
    "    grid = GridSearchCV( net, params )\n",
    "    bag = BaggingRegressor( grid, n_estimators=1, n_jobs=8 )\n",
    "    bag.fit( X, y )\n",
    "\n",
    "    # 10 feature weights  \n",
    "    weights = pandas.DataFrame( zip( X.columns, bag.estimators_[0].best_estimator_.coef_ ), columns=['feature', 'weight'] )\n",
    "    print weights[ ( weights.weight > 0 )].sort( 'weight', ascending=False )\n",
    "\n",
    "    # predictions and calculate Pearson's R\n",
    "    preds = bag.predict( X )\n",
    "    print 'Constant', constant\n",
    "    print 'PCC={:2.2f}'.format( pearsonr( preds, y )[0] )\n",
    "\n",
    "    # plot results \n",
    "#     plt.figure( figsize=(4,4) )\n",
    "#     plt.scatter( preds, y, alpha=0.3, marker='.', color='k' )\n",
    "#     plt.xlabel( 'Predicted' )\n",
    "#     plt.ylabel( 'Actual' )\n",
    "#     plt.show()\n",
    "    \n",
    "    return 'PCC={:2.2f}'.format( pearsonr( preds, y )[0] )\n"
   ]
  },
  {
   "cell_type": "code",
   "execution_count": 68,
   "metadata": {
    "collapsed": false,
    "scrolled": false
   },
   "outputs": [
    {
     "data": {
      "text/plain": [
       "['PCC=0.71', 'PCC=0.68', 'PCC=0.82']"
      ]
     },
     "execution_count": 68,
     "metadata": {},
     "output_type": "execute_result"
    }
   ],
   "source": [
    "fit_elastic_net_model( constants )"
   ]
  }
 ],
 "metadata": {
  "kernelspec": {
   "display_name": "Python 2",
   "language": "python",
   "name": "python2"
  },
  "language_info": {
   "codemirror_mode": {
    "name": "ipython",
    "version": 2
   },
   "file_extension": ".py",
   "mimetype": "text/x-python",
   "name": "python",
   "nbconvert_exporter": "python",
   "pygments_lexer": "ipython2",
   "version": "2.7.10"
  }
 },
 "nbformat": 4,
 "nbformat_minor": 0
}
