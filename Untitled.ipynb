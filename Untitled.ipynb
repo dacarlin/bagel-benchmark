{
 "cells": [
  {
   "cell_type": "markdown",
   "metadata": {},
   "source": [
    "# How to train a constrained statistical learning algorithm on experimental enzyme kinetic data to predict the functional effect of mutations \n",
    "\n",
    "## Prep input files \n",
    "\n",
    "First, we'll make models of all of the enzymes using Rosetta. All we need is a wild type PDB structure, `bglb.pdb`, and a list of mutations that we have kinetic data for, `mutant_list`. "
   ]
  },
  {
   "cell_type": "code",
   "execution_count": 52,
   "metadata": {
    "collapsed": false
   },
   "outputs": [
    {
     "name": "stdout",
     "output_type": "stream",
     "text": [
      "bglb.pdb  logs\t       pNPG.conf.pdb\tprotocol   training_sets\r\n",
      "flags\t  mutant_list  pNPG.enzdes.cst\tREADME.md  Untitled.ipynb\r\n",
      "list\t  out\t       pNPG.params\tsub.sh\r\n"
     ]
    }
   ],
   "source": [
    "! ls "
   ]
  },
  {
   "cell_type": "markdown",
   "metadata": {},
   "source": [
    "### Munging the PDBs "
   ]
  },
  {
   "cell_type": "code",
   "execution_count": null,
   "metadata": {
    "collapsed": false
   },
   "outputs": [],
   "source": [
    "from Bio.SeqUtils import IUPACData\n",
    "nstruct = 100\n",
    "\n",
    "with open( 'mutant_list' ) as fn:\n",
    "    mutants = [ i.strip() for i in fn.readlines() if len( i ) > 1 ] \n",
    "    print len( mutants ), 'mutants'\n",
    "\n",
    "with open( 'bglb.pdb', 'r' ) as wt:\n",
    "    lines = wt.readlines()\n",
    "    \n",
    "for mutant in mutants:\n",
    "    new3 = IUPACData.protein_letters_1to3[ mutant[ -1 ] ].upper()\n",
    "    pos = mutant[ 1:-1 ]\n",
    "    with open( 'input_pdb/{}.pdb'.format( mutant ), 'w' ) as fn:\n",
    "        for line in lines:\n",
    "            spl = line.split() \n",
    "            if spl[0] == 'REMARK':\n",
    "                if spl[11] == pos:\n",
    "                    pass # don't write this remark line\n",
    "                else:\n",
    "                    fn.write( line ) \n",
    "            elif spl[0] == 'ATOM':\n",
    "                if spl[5] == pos: \n",
    "                    if spl[2] in [ 'N', 'C', 'CA', 'O' ]: # backbone atom \n",
    "                        new_line = line[:17] + new3 + line[20:] \n",
    "                        fn.write( new_line ) \n",
    "                    else: # not a backbone atom \n",
    "                        pass # don't write anything \n",
    "                else: #not a pos we care about \n",
    "                    fn.write( line ) # print out untouched \n",
    "            elif spl[0] == 'HETATM':\n",
    "                fn.write( line ) # write all HETATM lines \n",
    "            else:\n",
    "                print 'Error'"
   ]
  },
  {
   "cell_type": "code",
   "execution_count": null,
   "metadata": {
    "collapsed": false
   },
   "outputs": [],
   "source": [
    "# this one for munged PDBs \n",
    "nstruct = 100\n",
    "\n",
    "with open( 'list', 'w' ) as fn:\n",
    "    for i in range( nstruct ):\n",
    "        for mutant in mutants:\n",
    "            fn.write( '-s input_pdb/{}.pdb -parser:script_vars target={} -suffix _{} \\n'.format( mutant, mutant[1:-1], i ) )"
   ]
  },
  {
   "cell_type": "markdown",
   "metadata": {},
   "source": [
    "### Using MutateResidue mover "
   ]
  },
  {
   "cell_type": "code",
   "execution_count": 54,
   "metadata": {
    "collapsed": false
   },
   "outputs": [
    {
     "name": "stdout",
     "output_type": "stream",
     "text": [
      "156 mutants\n",
      "15600 list\n",
      "-parser:script_vars target=192 new_res=SER -suffix _A192S_0000\n",
      "-parser:script_vars target=227 new_res=TRP -suffix _A227W_0000\n"
     ]
    }
   ],
   "source": [
    "# this one for MutateResidue \n",
    "\n",
    "from Bio.SeqUtils import IUPACData\n",
    "nstruct = 100\n",
    "\n",
    "with open( 'mutant_list' ) as fn:\n",
    "    mutants = [ i.strip() for i in fn.readlines() if len( i ) > 1 ] \n",
    "    print len( mutants ), 'mutants'\n",
    "\n",
    "nstruct = 100\n",
    "\n",
    "runs = [\n",
    "    # '-s input_pdb/{}.pdb -parser:script_vars target={} -suffix _{} \\n'.format( mutant, mutant[1:-1], i ) )\n",
    "    '-parser:script_vars target={} new_res={} -suffix _{}_{:04d}\\n'.format( m[1:-1], IUPACData.protein_letters_1to3[ m[-1] ].upper(), m, i )\n",
    "    for i in range( nstruct )\n",
    "    for m in mutants \n",
    "]\n",
    "\n",
    "with open( 'list', 'w' ) as fn:\n",
    "    fn.write( ''.join( runs ) )\n",
    "    \n",
    "! wc -l list \n",
    "! head -2 list "
   ]
  },
  {
   "cell_type": "markdown",
   "metadata": {},
   "source": [
    "## Run the simulations on Cabernet with SLURM "
   ]
  },
  {
   "cell_type": "code",
   "execution_count": 61,
   "metadata": {
    "collapsed": false,
    "scrolled": true
   },
   "outputs": [
    {
     "name": "stdout",
     "output_type": "stream",
     "text": [
      "15600 runs\n",
      "sbatch --array=1-15600 sub.sh\n",
      "Submitted batch job 741140\n"
     ]
    }
   ],
   "source": [
    "%%bash\n",
    "# run the simulations on Cabernet w/ SLURM \n",
    " \n",
    "runs=$( wc -l list | cut -d' ' -f1 )\n",
    "echo $runs runs \n",
    "echo sbatch --array=1-$runs sub.sh\n",
    "sbatch --array=1-156 sub.sh"
   ]
  },
  {
   "cell_type": "code",
   "execution_count": 62,
   "metadata": {
    "collapsed": false
   },
   "outputs": [
    {
     "name": "stdout",
     "output_type": "stream",
     "text": [
      "107\n",
      "107\n"
     ]
    }
   ],
   "source": [
    "! ls out/*pdb | wc -l \n",
    "! ls out/*sc | wc -l "
   ]
  },
  {
   "cell_type": "markdown",
   "metadata": {},
   "source": [
    "## Results "
   ]
  },
  {
   "cell_type": "code",
   "execution_count": 63,
   "metadata": {
    "collapsed": false,
    "scrolled": false
   },
   "outputs": [
    {
     "name": "stdout",
     "output_type": "stream",
     "text": [
      "107 models in scorefile\n"
     ]
    }
   ],
   "source": [
    "from glob import glob \n",
    "import pandas\n",
    "\n",
    "sfs = [ pandas.read_csv( i, sep='\\s+' ) for i in glob( 'out/*sc' ) ]\n",
    "sf = pandas.concat( sfs )\n",
    "sf['name'] = sf.description.str.split( '_' ).str[ 1 ]\n",
    "\n",
    "def low_10( df ):\n",
    "    return df.sort( 'total_score' ).head( 10 )\n",
    "\n",
    "grouped = sf.groupby( 'name' )\n",
    "low10 = grouped.apply( low_10 )\n",
    "low10.index = low10.name \n",
    "\n",
    "print len( low10 ), 'models in scorefile'"
   ]
  },
  {
   "cell_type": "code",
   "execution_count": 48,
   "metadata": {
    "collapsed": false,
    "scrolled": false
   },
   "outputs": [
    {
     "name": "stdout",
     "output_type": "stream",
     "text": [
      "76 kcat\n",
      "76 km\n",
      "87 kcat/km\n"
     ]
    }
   ],
   "source": [
    "from numpy import log, inf, nan\n",
    "\n",
    "# experimental data \n",
    "experimental = pandas.read_csv( '../bagel-data/clean_data/clean_for_pandas.csv', index_col='name' )\n",
    "\n",
    "# log and relative to wt \n",
    "wt = experimental.loc[ 'BglB' ]\n",
    "experimental.drop( [ 'BglB' ] )\n",
    "log_diff = log( experimental / wt )\n",
    "\n",
    "print len( log_diff.kcat.dropna() ), 'kcat'\n",
    "print len( log_diff.km.dropna() ), 'km'\n",
    "print len( log_diff.kcatkm.dropna() ), 'kcat/km'"
   ]
  },
  {
   "cell_type": "code",
   "execution_count": 49,
   "metadata": {
    "collapsed": false
   },
   "outputs": [
    {
     "name": "stdout",
     "output_type": "stream",
     "text": [
      "83 joined total\n"
     ]
    }
   ],
   "source": [
    "# join with models \n",
    "joined = low10.join( log_diff )\n",
    "print len( joined ), 'joined total'\n",
    "\n",
    "# make a list of what we don't have data for \n",
    "# predict that list "
   ]
  },
  {
   "cell_type": "markdown",
   "metadata": {},
   "source": [
    "So now we have 10 models (the lowest 10 by total_energy out of 100 simulations) of each protein, joined with experimental data. We don't have all pieces of experimental data for each protein, so there are some NaNs in the above dataframe, which scikit-learn doesn't deal very well with. We will clean up the data. "
   ]
  },
  {
   "cell_type": "code",
   "execution_count": 50,
   "metadata": {
    "collapsed": false
   },
   "outputs": [],
   "source": [
    "constants = [ 'kcat', 'km', 'kcatkm' ]\n",
    "\n",
    "# clean up data for sklearn\n",
    "x_cols = [ u'total_score', u'fa_rep', u'hbond_sc', u'tot_pstat_pm',\n",
    "       u'tot_nlpstat_pm', u'tot_burunsat_pm', u'tot_hbond_pm',\n",
    "       u'tot_NLconts_pm', u'tot_nlsurfaceE_pm', u'tot_total_charge',\n",
    "       u'tot_total_pos_charges', u'tot_total_neg_charges', u'tot_seq_recovery',\n",
    "       u'SR_1_total_score', u'SR_1_fa_rep', u'SR_1_hbond_sc',\n",
    "       u'SR_1_hbond_pm', u'SR_1_burunsat_pm',\n",
    "       u'SR_1_pstat_pm', u'SR_1_nlpstat_pm', u'SR_2_total_score',\n",
    "       u'SR_2_fa_rep', u'SR_2_hbond_sc', u'SR_2_all_cst', u'SR_2_hbond_pm',\n",
    "       u'SR_2_burunsat_pm', u'SR_2_pstat_pm', u'SR_2_nlpstat_pm',\n",
    "       u'SR_3_total_score', u'SR_3_fa_rep', u'SR_3_hbond_sc', \n",
    "       u'SR_3_hbond_pm', u'SR_3_burunsat_pm', u'SR_3_pstat_pm',\n",
    "       u'SR_3_nlpstat_pm', u'SR_4_total_score', u'SR_4_fa_rep',\n",
    "       u'SR_4_hbond_sc', u'SR_4_hbond_pm',\n",
    "       u'SR_4_burunsat_pm', u'SR_4_pstat_pm', u'SR_4_nlpstat_pm',\n",
    "       u'SR_5_total_score', u'SR_5_fa_rep', u'SR_5_hbond_sc', u'SR_5_all_cst',\n",
    "       u'SR_5_interf_E_1_2', u'SR_5_dsasa_1_2', u'SR_5_hbond_pm',\n",
    "       u'SR_5_burunsat_pm', ]\n",
    "\n",
    "for constant in constants:\n",
    "    work = joined[ x_cols + [ constant ] ]\n",
    "    work = work.replace( [ inf, -inf ], nan )\n",
    "    work = work.dropna()\n",
    "    work.to_csv( 'training_sets/{}.csv'.format( constant ) )\n",
    "    # now we have 3 clean CSVs, one for each constant"
   ]
  },
  {
   "cell_type": "code",
   "execution_count": 51,
   "metadata": {
    "collapsed": false,
    "scrolled": false
   },
   "outputs": [
    {
     "name": "stdout",
     "output_type": "stream",
     "text": [
      "43 models for constant kcat\n",
      "                  feature    weight\n",
      "43            SR_5_fa_rep  6.918136\n",
      "40          SR_4_pstat_pm  2.793868\n",
      "35       SR_4_total_score  2.748292\n",
      "8       tot_nlsurfaceE_pm  2.686207\n",
      "13       SR_1_total_score  1.936771\n",
      "28       SR_3_total_score  1.935961\n",
      "24          SR_2_hbond_pm  1.589246\n",
      "2                hbond_sc  1.509798\n",
      "44          SR_5_hbond_sc  0.976853\n",
      "7          tot_NLconts_pm  0.703828\n",
      "6            tot_hbond_pm  0.456776\n",
      "11  tot_total_neg_charges  0.404148\n",
      "49       SR_5_burunsat_pm  0.203325\n",
      "5         tot_burunsat_pm  0.142347\n",
      "1                  fa_rep  0.115885\n",
      "Constant kcat\n",
      "PCC=0.03\n"
     ]
    },
    {
     "name": "stderr",
     "output_type": "stream",
     "text": [
      "/home/carlin/bin/anaconda/lib/python2.7/site-packages/sklearn/linear_model/coordinate_descent.py:444: ConvergenceWarning: Objective did not converge. You might want to increase the number of iterations\n",
      "  ConvergenceWarning)\n"
     ]
    },
    {
     "data": {
      "image/png": "[encoded data removed]",
      "text/plain": [
       "<matplotlib.figure.Figure at 0x7f08f4bcc2d0>"
      ]
     },
     "metadata": {},
     "output_type": "display_data"
    },
    {
     "name": "stdout",
     "output_type": "stream",
     "text": [
      "44 models for constant km\n",
      "                  feature    weight\n",
      "49       SR_5_burunsat_pm  0.879254\n",
      "24          SR_2_hbond_pm  0.809551\n",
      "44          SR_5_hbond_sc  0.791569\n",
      "46      SR_5_interf_E_1_2  0.496033\n",
      "48          SR_5_hbond_pm  0.204296\n",
      "10  tot_total_pos_charges  0.104657\n",
      "11  tot_total_neg_charges  0.086259\n",
      "42       SR_5_total_score  0.069216\n",
      "39       SR_4_burunsat_pm  0.051002\n",
      "Constant km\n",
      "PCC=0.05\n"
     ]
    },
    {
     "data": {
      "image/png": "[encoded data removed]",
      "text/plain": [
       "<matplotlib.figure.Figure at 0x7f092c11df90>"
      ]
     },
     "metadata": {},
     "output_type": "display_data"
    },
    {
     "name": "stdout",
     "output_type": "stream",
     "text": [
      "49 models for constant kcatkm\n",
      "             feature    weight\n",
      "35  SR_4_total_score  5.777491\n",
      "1             fa_rep  1.269271\n",
      "2           hbond_sc  1.241469\n",
      "5    tot_burunsat_pm  0.330329\n",
      "7     tot_NLconts_pm  0.267127\n",
      "6       tot_hbond_pm  0.224329\n",
      "Constant kcatkm\n",
      "PCC=0.27\n"
     ]
    },
    {
     "data": {
      "image/png": "[encoded data removed]",
      "text/plain": [
       "<matplotlib.figure.Figure at 0x7f08e67b4bd0>"
      ]
     },
     "metadata": {},
     "output_type": "display_data"
    }
   ],
   "source": [
    "%matplotlib inline\n",
    "import matplotlib.pyplot as plt\n",
    "\n",
    "from sklearn.linear_model import ElasticNetCV\n",
    "from sklearn.ensemble import BaggingRegressor\n",
    "from sklearn.grid_search import GridSearchCV\n",
    "from scipy.stats.stats import pearsonr\n",
    "\n",
    "for constant in constants:\n",
    "    df = pandas.read_csv( 'training_sets/{}.csv'.format( constant ), index_col='name' )\n",
    "    print len( df ), 'models for constant', constant\n",
    "    y = df[ constant ]\n",
    "    X = df.drop( constant, axis=1 )\n",
    "        \n",
    "    params = { 'l1_ratio': [ .1, .25, .5, .7, .9, .95, .99, 1, ] }\n",
    "    net = ElasticNetCV()\n",
    "    grid = GridSearchCV( net, params )\n",
    "    bag = BaggingRegressor( grid, n_estimators=1 )\n",
    "    bag.fit( X, y )\n",
    "\n",
    "    weights = pandas.DataFrame( zip( X.columns, bag.estimators_[0].best_estimator_.coef_ ), columns=['feature', 'weight'] )\n",
    "    preds = bag.predict( X )\n",
    "\n",
    "    print weights[ ( weights.weight > 0 )].sort( 'weight', ascending=False )\n",
    "    print 'Constant', constant\n",
    "    print 'PCC={:2.2f}'.format( pearsonr( preds, y )[0] )\n",
    "\n",
    "    plt.figure( figsize=(4,4) )\n",
    "    plt.scatter( preds, y, marker='.', color='k' )\n",
    "    plt.xlabel( 'Predicted' )\n",
    "    plt.ylabel( 'Actual' )\n",
    "    plt.show()"
   ]
  },
  {
   "cell_type": "code",
   "execution_count": null,
   "metadata": {
    "collapsed": true
   },
   "outputs": [],
   "source": []
  }
 ],
 "metadata": {
  "kernelspec": {
   "display_name": "Python 2",
   "language": "python",
   "name": "python2"
  },
  "language_info": {
   "codemirror_mode": {
    "name": "ipython",
    "version": 2
   },
   "file_extension": ".py",
   "mimetype": "text/x-python",
   "name": "python",
   "nbconvert_exporter": "python",
   "pygments_lexer": "ipython2",
   "version": "2.7.10"
  }
 },
 "nbformat": 4,
 "nbformat_minor": 0
}
