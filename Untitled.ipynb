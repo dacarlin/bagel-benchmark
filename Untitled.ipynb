{
 "cells": [
  {
   "cell_type": "markdown",
   "metadata": {},
   "source": [
    "# How to train a constrained statistical learning algorithm on experimental enzyme kinetic data to predict the functional effect of mutations \n",
    "\n",
    "## Prep input files \n",
    "\n",
    "First, we'll make models of all of the enzymes using Rosetta. All we need is a wild type PDB structure, `bglb.pdb`, and a list of mutations that we have kinetic data for, `mutant_list`. "
   ]
  },
  {
   "cell_type": "code",
   "execution_count": 38,
   "metadata": {
    "collapsed": false
   },
   "outputs": [
    {
     "name": "stdout",
     "output_type": "stream",
     "text": [
      "bglb.pdb  mutant_list\t pNPG.enzdes.cst  README.md   training_sets\r\n",
      "flags\t  out\t\t pNPG.params\t  repack.xml  Untitled.ipynb\r\n",
      "list\t  pNPG.conf.pdb  protocol\t  sub.sh\r\n"
     ]
    }
   ],
   "source": [
    "! ls "
   ]
  },
  {
   "cell_type": "markdown",
   "metadata": {},
   "source": [
    "First, we have to munge a bunch of PDBs. Here's a go at this! Seems like a very stupid way to go about it."
   ]
  },
  {
   "cell_type": "code",
   "execution_count": 20,
   "metadata": {
    "collapsed": false
   },
   "outputs": [
    {
     "name": "stdout",
     "output_type": "stream",
     "text": [
      "156 mutants\n"
     ]
    }
   ],
   "source": [
    "from Bio.SeqUtils import IUPACData\n",
    "nstruct = 100\n",
    "\n",
    "with open( 'mutant_list' ) as fn:\n",
    "    mutants = [ i.strip() for i in fn.readlines() if len( i ) > 1 ] \n",
    "    print len( mutants ), 'mutants'\n",
    "\n",
    "with open( 'bglb.pdb', 'r' ) as wt:\n",
    "    lines = wt.readlines()\n",
    "    \n",
    "for mutant in mutants:\n",
    "    new3 = IUPACData.protein_letters_1to3[ mutant[ -1 ] ].upper()\n",
    "    pos = mutant[ 1:-1 ]\n",
    "    with open( 'input_pdb/{}.pdb'.format( mutant ), 'w' ) as fn:\n",
    "        for line in lines:\n",
    "            spl = line.split() \n",
    "            if spl[0] == 'REMARK':\n",
    "                if spl[11] == pos:\n",
    "                    pass # don't write this remark line\n",
    "                else:\n",
    "                    fn.write( line ) \n",
    "            elif spl[0] == 'ATOM':\n",
    "                if spl[5] == pos: \n",
    "                    if spl[2] in [ 'N', 'C', 'CA', 'O' ]: # backbone atom \n",
    "                        new_line = line[:17] + new3 + line[20:] \n",
    "                        fn.write( new_line ) \n",
    "                    else: # not a backbone atom \n",
    "                        pass # don't write anything \n",
    "                else: #not a pos we care about \n",
    "                    fn.write( line ) # print out untouched \n",
    "            elif spl[0] == 'HETATM':\n",
    "                fn.write( line ) # write all HETATM lines \n",
    "            else:\n",
    "                print 'Error'"
   ]
  },
  {
   "cell_type": "code",
   "execution_count": 21,
   "metadata": {
    "collapsed": false
   },
   "outputs": [],
   "source": [
    "# this one for munged PDBs \n",
    "nstruct = 100\n",
    "\n",
    "with open( 'list', 'w' ) as fn:\n",
    "    for i in range( nstruct ):\n",
    "        for mutant in mutants:\n",
    "            fn.write( '-s input_pdb/{}.pdb -parser:script_vars target={} -suffix _{} \\n'.format( mutant, mutant[1:-1], i ) )"
   ]
  },
  {
   "cell_type": "code",
   "execution_count": 41,
   "metadata": {
    "collapsed": false
   },
   "outputs": [
    {
     "name": "stdout",
     "output_type": "stream",
     "text": [
      "156 mutants\n",
      "15600 list\n",
      "-parser:script_vars target=192 new_res=SER -suffix _A192S_0000\n",
      "-parser:script_vars target=227 new_res=TRP -suffix _A227W_0000\n",
      "-parser:script_vars target=236 new_res=GLU -suffix _A236E_0000\n",
      "-parser:script_vars target=249 new_res=GLU -suffix _A249E_0000\n",
      "-parser:script_vars target=167 new_res=ALA -suffix _C167A_0000\n",
      "-parser:script_vars target=167 new_res=GLN -suffix _C167Q_0000\n",
      "-parser:script_vars target=167 new_res=SER -suffix _C167S_0000\n",
      "-parser:script_vars target=121 new_res=PHE -suffix _D121F_0000\n",
      "-parser:script_vars target=322 new_res=ALA -suffix _D322A_0000\n",
      "-parser:script_vars target=403 new_res=ALA -suffix _D403A_0000\n",
      "-parser:script_vars target=166 new_res=GLU -suffix _Y166E_0099\n",
      "-parser:script_vars target=166 new_res=PHE -suffix _Y166F_0099\n",
      "-parser:script_vars target=166 new_res=PRO -suffix _Y166P_0099\n",
      "-parser:script_vars target=18 new_res=ALA -suffix _Y18A_0099\n",
      "-parser:script_vars target=294 new_res=ALA -suffix _Y294A_0099\n",
      "-parser:script_vars target=294 new_res=PHE -suffix _Y294F_0099\n",
      "-parser:script_vars target=294 new_res=HIS -suffix _Y294H_0099\n",
      "-parser:script_vars target=294 new_res=LEU -suffix _Y294L_0099\n",
      "-parser:script_vars target=295 new_res=ALA -suffix _Y295A_0099\n",
      "-parser:script_vars target=295 new_res=GLY -suffix _Y295G_0099\n"
     ]
    }
   ],
   "source": [
    "# this one for MutateResidue \n",
    "\n",
    "from Bio.SeqUtils import IUPACData\n",
    "nstruct = 100\n",
    "\n",
    "with open( 'mutant_list' ) as fn:\n",
    "    mutants = [ i.strip() for i in fn.readlines() if len( i ) > 1 ] \n",
    "    print len( mutants ), 'mutants'\n",
    "\n",
    "nstruct = 100\n",
    "\n",
    "runs = [\n",
    "    # '-s input_pdb/{}.pdb -parser:script_vars target={} -suffix _{} \\n'.format( mutant, mutant[1:-1], i ) )\n",
    "    '-parser:script_vars target={} new_res={} -suffix _{}_{:04d}\\n'.format( m[1:-1], IUPACData.protein_letters_1to3[ m[-1] ].upper(), m, i )\n",
    "    for i in range( nstruct )\n",
    "    for m in mutants \n",
    "]\n",
    "\n",
    "with open( 'list', 'w' ) as fn:\n",
    "    fn.write( ''.join( runs ) )\n",
    "    \n",
    "! wc -l list \n",
    "! head list \n",
    "! tail list "
   ]
  },
  {
   "cell_type": "markdown",
   "metadata": {},
   "source": [
    "## Run the simulations on Cabernet with SLURM "
   ]
  },
  {
   "cell_type": "code",
   "execution_count": 42,
   "metadata": {
    "collapsed": false,
    "scrolled": true
   },
   "outputs": [
    {
     "name": "stdout",
     "output_type": "stream",
     "text": [
      "15600 runs\n",
      "sbatch --array=1-15600 sub.sh\n"
     ]
    }
   ],
   "source": [
    "%%bash\n",
    "# run the simulations on Cabernet w/ SLURM \n",
    " \n",
    "runs=$( wc -l list | cut -d' ' -f1 )\n",
    "echo $runs runs \n",
    "echo sbatch --array=1-$runs sub.sh"
   ]
  },
  {
   "cell_type": "markdown",
   "metadata": {},
   "source": [
    "## Results "
   ]
  },
  {
   "cell_type": "code",
   "execution_count": 38,
   "metadata": {
    "collapsed": false,
    "scrolled": false
   },
   "outputs": [],
   "source": [
    "from glob import glob \n",
    "import pandas\n",
    "\n",
    "sfs = [ pandas.read_csv( i, sep='\\s+' ) for i in glob( 'out/*sc' ) ]\n",
    "sf = pandas.concat( sfs )\n",
    "sf['name'] = sf.description.str.split( '_' ).str[0]\n",
    "\n",
    "grouped = sf.groupby( 'name' )\n",
    "\n",
    "# for i, df in grouped:\n",
    "#     print i, len( df )\n",
    "\n",
    "out = set([ i for i, df in grouped ])\n",
    "muts = set(mutants)\n",
    "\n",
    "    \n",
    "# sf.head()\n",
    "# print 'Scorefile is', len( sf ), 'lines long'\n",
    "\n",
    "# def low_10( df ):\n",
    "#     return df.sort( 'total_score' ).head( 10 )\n",
    "\n",
    "# grouped = sf.groupby( 'name' ).apply( low_10 )\n",
    "# print '\"Low_10\" is', len( grouped ), 'lines long'"
   ]
  },
  {
   "cell_type": "code",
   "execution_count": 42,
   "metadata": {
    "collapsed": false
   },
   "outputs": [
    {
     "name": "stdout",
     "output_type": "stream",
     "text": [
      "set(['K341A', 'Q284R', 'I91E', 'V147S', 'H101R', 'G153A', 'E154D', 'Y295G', 'L272N', 'Y295A', 'A227W', 'L108N', 'E164D', 'E388C', 'E353F', 'E353A', 'E281H', 'E423S', 'E164A'])\n",
      "137\n",
      "156\n"
     ]
    }
   ],
   "source": [
    "print muts.difference( out )\n",
    "print len( out )\n",
    "print len( muts )"
   ]
  },
  {
   "cell_type": "code",
   "execution_count": null,
   "metadata": {
    "collapsed": true
   },
   "outputs": [],
   "source": [
    "! ls log.txt"
   ]
  },
  {
   "cell_type": "code",
   "execution_count": 17,
   "metadata": {
    "collapsed": false
   },
   "outputs": [
    {
     "name": "stdout",
     "output_type": "stream",
     "text": [
      "ERROR: The passed in vector doesn't have a single element set to true.\n",
      "ERROR:: Exit from: src/protocols/enzdes/enzdes_util.cc line: 224\n",
      "[ERROR] Exception caught by JobDistributor for job Q284R_99_0001\n",
      "[ERROR] EXCN_utility_exit has been thrown from: src/protocols/enzdes/enzdes_util.cc line: 224\n",
      "ERROR: The passed in vector doesn't have a single element set to true.\n",
      "Error: ERROR: Exception caught by rosetta_scripts application:1 jobs failed; check output for error messages\n",
      "Error: \n",
      "ERROR: The passed in vector doesn't have a single element set to true.\n",
      "ERROR:: Exit from: src/protocols/enzdes/enzdes_util.cc line: 224\n",
      "[ERROR] Exception caught by JobDistributor for job V147S_99_0001\n",
      "[ERROR] EXCN_utility_exit has been thrown from: src/protocols/enzdes/enzdes_util.cc line: 224\n",
      "ERROR: The passed in vector doesn't have a single element set to true.\n",
      "Error: ERROR: Exception caught by rosetta_scripts application:1 jobs failed; check output for error messages\n",
      "Error: \n"
     ]
    }
   ],
   "source": [
    "! grep -i error log.txt "
   ]
  },
  {
   "cell_type": "code",
   "execution_count": 10,
   "metadata": {
    "collapsed": false,
    "scrolled": false
   },
   "outputs": [
    {
     "name": "stdout",
     "output_type": "stream",
     "text": [
      "101 mutants with experimental data\n",
      "76 kcat\n",
      "76 km\n",
      "87 kcat/km\n"
     ]
    }
   ],
   "source": [
    "from numpy import log, inf, nan\n",
    "\n",
    "# experimental data \n",
    "experimental = pandas.read_csv( '../bagel-data/clean_data/clean_for_pandas.csv', index_col='name' )\n",
    "\n",
    "# log and relative to wt \n",
    "wt = experimental.loc[ 'BglB' ]\n",
    "experimental.drop( [ 'BglB' ] )\n",
    "log_diff = log( experimental / wt )\n",
    "print len( log_diff ), 'mutants with experimental data'\n",
    "print len( log_diff.kcat.dropna() ), 'kcat'\n",
    "print len( log_diff.km.dropna() ), 'km'\n",
    "print len( log_diff.kcatkm.dropna() ), 'kcat/km'"
   ]
  },
  {
   "cell_type": "code",
   "execution_count": 11,
   "metadata": {
    "collapsed": false
   },
   "outputs": [
    {
     "name": "stdout",
     "output_type": "stream",
     "text": [
      "890 joined total\n"
     ]
    }
   ],
   "source": [
    "# join with models \n",
    "joined = grouped.join( log_diff )\n",
    "print len( joined ), 'joined total'\n",
    "\n",
    "# make a list of what we don't have data for \n",
    "# predict that list "
   ]
  },
  {
   "cell_type": "markdown",
   "metadata": {},
   "source": [
    "So now we have 10 models (the lowest 10 by total_energy out of 100 simulations) of each protein, joined with experimental data. We don't have all pieces of experimental data for each protein, so there are some NaNs in the above dataframe, which scikit-learn doesn't deal very well with. We will clean up the data. "
   ]
  },
  {
   "cell_type": "code",
   "execution_count": 12,
   "metadata": {
    "collapsed": false
   },
   "outputs": [
    {
     "name": "stdout",
     "output_type": "stream",
     "text": [
      "mkdir: cannot create directory ‘training_sets’: File exists\r\n"
     ]
    }
   ],
   "source": [
    "constants = [ 'kcat', 'km', 'kcatkm' ]\n",
    "\n",
    "# clean up data for sklearn\n",
    "x_cols = [ u'total_score', u'fa_rep', u'hbond_sc', u'tot_pstat_pm',\n",
    "       u'tot_nlpstat_pm', u'tot_burunsat_pm', u'tot_hbond_pm',\n",
    "       u'tot_NLconts_pm', u'tot_nlsurfaceE_pm', u'tot_total_charge',\n",
    "       u'tot_total_pos_charges', u'tot_total_neg_charges', u'tot_seq_recovery',\n",
    "       u'SR_1_total_score', u'SR_1_fa_rep', u'SR_1_hbond_sc',\n",
    "       u'SR_1_hbond_pm', u'SR_1_burunsat_pm',\n",
    "       u'SR_1_pstat_pm', u'SR_1_nlpstat_pm', u'SR_2_total_score',\n",
    "       u'SR_2_fa_rep', u'SR_2_hbond_sc', u'SR_2_all_cst', u'SR_2_hbond_pm',\n",
    "       u'SR_2_burunsat_pm', u'SR_2_pstat_pm', u'SR_2_nlpstat_pm',\n",
    "       u'SR_3_total_score', u'SR_3_fa_rep', u'SR_3_hbond_sc', \n",
    "       u'SR_3_hbond_pm', u'SR_3_burunsat_pm', u'SR_3_pstat_pm',\n",
    "       u'SR_3_nlpstat_pm', u'SR_4_total_score', u'SR_4_fa_rep',\n",
    "       u'SR_4_hbond_sc', u'SR_4_hbond_pm',\n",
    "       u'SR_4_burunsat_pm', u'SR_4_pstat_pm', u'SR_4_nlpstat_pm',\n",
    "       u'SR_5_total_score', u'SR_5_fa_rep', u'SR_5_hbond_sc', u'SR_5_all_cst',\n",
    "       u'SR_5_interf_E_1_2', u'SR_5_dsasa_1_2', u'SR_5_hbond_pm',\n",
    "       u'SR_5_burunsat_pm', ]\n",
    "\n",
    "for constant in constants:\n",
    "    work = joined[ x_cols + [ constant ] ]\n",
    "    work = work.replace( [ inf, -inf ], nan )\n",
    "    work = work.dropna()\n",
    "    work.to_csv( 'training_sets/{}.csv'.format( constant ) )\n",
    "    # now we have 3 clean CSVs, one for each constant"
   ]
  },
  {
   "cell_type": "code",
   "execution_count": 15,
   "metadata": {
    "collapsed": false,
    "scrolled": false
   },
   "outputs": [
    {
     "name": "stdout",
     "output_type": "stream",
     "text": [
      "650 models for constant kcat\n",
      "            feature    weight\n",
      "49    SR_5_hbond_pm  0.722033\n",
      "6   tot_burunsat_pm  0.217930\n",
      "44      SR_5_fa_rep  0.190468\n",
      "7      tot_hbond_pm  0.176435\n",
      "2            fa_rep  0.070369\n",
      "1       total_score  0.037449\n",
      "8    tot_NLconts_pm  0.003060\n",
      "Constant kcat\n",
      "PCC=0.64\n"
     ]
    },
    {
     "data": {
      "image/png": "[encoded data removed]",
      "text/plain": [
       "<matplotlib.figure.Figure at 0x7fb043e99bd0>"
      ]
     },
     "metadata": {},
     "output_type": "display_data"
    },
    {
     "name": "stdout",
     "output_type": "stream",
     "text": [
      "670 models for constant km\n",
      "              feature    weight\n",
      "37        SR_4_fa_rep  1.178581\n",
      "47  SR_5_interf_E_1_2  0.314441\n",
      "24       SR_2_all_cst  0.311817\n",
      "17      SR_1_hbond_pm  0.242099\n",
      "40   SR_4_burunsat_pm  0.171092\n",
      "21   SR_2_total_score  0.161672\n",
      "28    SR_2_nlpstat_pm  0.111496\n",
      "1         total_score  0.008497\n",
      "0          Unnamed: 1  0.001844\n",
      "32      SR_3_hbond_pm  0.000068\n",
      "Constant km\n",
      "PCC=0.65\n"
     ]
    },
    {
     "data": {
      "image/png": "[encoded data removed]",
      "text/plain": [
       "<matplotlib.figure.Figure at 0x7fb043c28b10>"
      ]
     },
     "metadata": {},
     "output_type": "display_data"
    },
    {
     "name": "stdout",
     "output_type": "stream",
     "text": [
      "750 models for constant kcatkm\n",
      "             feature    weight\n",
      "38     SR_4_hbond_sc  5.506268\n",
      "15       SR_1_fa_rep  2.153603\n",
      "44       SR_5_fa_rep  2.151452\n",
      "36  SR_4_total_score  1.199913\n",
      "49     SR_5_hbond_pm  0.761630\n",
      "46      SR_5_all_cst  0.569172\n",
      "6    tot_burunsat_pm  0.563433\n",
      "7       tot_hbond_pm  0.406858\n",
      "30       SR_3_fa_rep  0.284116\n",
      "8     tot_NLconts_pm  0.157807\n",
      "3           hbond_sc  0.124308\n",
      "2             fa_rep  0.098297\n",
      "1        total_score  0.013879\n",
      "Constant kcatkm\n",
      "PCC=0.72\n"
     ]
    },
    {
     "data": {
      "image/png": "[encoded data removed]",
      "text/plain": [
       "<matplotlib.figure.Figure at 0x7fb043c5f290>"
      ]
     },
     "metadata": {},
     "output_type": "display_data"
    }
   ],
   "source": [
    "%matplotlib inline\n",
    "import matplotlib.pyplot as plt\n",
    "\n",
    "from sklearn.linear_model import ElasticNetCV\n",
    "from sklearn.ensemble import BaggingRegressor\n",
    "from sklearn.grid_search import GridSearchCV\n",
    "from scipy.stats.stats import pearsonr\n",
    "\n",
    "for constant in constants:\n",
    "    df = pandas.read_csv( 'training_sets/{}.csv'.format( constant ), index_col='name' )\n",
    "    print len( df ), 'models for constant', constant\n",
    "    y = df[ constant ]\n",
    "    X = df.drop( constant, axis=1 )\n",
    "        \n",
    "    params = { 'l1_ratio': [ .1, .25, .5, .7, .9, .95, .99, 1, ] }\n",
    "    net = ElasticNetCV()\n",
    "    grid = GridSearchCV( net, params )\n",
    "    bag = BaggingRegressor( grid, n_estimators=1 )\n",
    "    bag.fit( X, y )\n",
    "\n",
    "    weights = pandas.DataFrame( zip( X.columns, bag.estimators_[0].best_estimator_.coef_ ), columns=['feature', 'weight'] )\n",
    "    preds = bag.predict( X )\n",
    "\n",
    "    print weights[ ( weights.weight > 0 )].sort( 'weight', ascending=False )\n",
    "    print 'Constant', constant\n",
    "    print 'PCC={:2.2f}'.format( pearsonr( preds, y )[0] )\n",
    "\n",
    "    plt.figure( figsize=(4,4) )\n",
    "    plt.scatter( preds, y, alpha=0.3, marker='.', color='k' )\n",
    "    plt.xlabel( 'Predicted' )\n",
    "    plt.ylabel( 'Actual' )\n",
    "    plt.show()"
   ]
  },
  {
   "cell_type": "markdown",
   "metadata": {},
   "source": [
    "Well, there seem to be about 10 missing models for each constant. "
   ]
  },
  {
   "cell_type": "markdown",
   "metadata": {},
   "source": [
    "## An attempt at running the machine learning in parallel \n",
    "\n",
    "Would be really cool to run the machine learning ensembles in parallel. Possible?"
   ]
  },
  {
   "cell_type": "code",
   "execution_count": 14,
   "metadata": {
    "collapsed": false
   },
   "outputs": [
    {
     "name": "stdout",
     "output_type": "stream",
     "text": [
      "Waiting for connection file: ~/.ipython/profile_default/security/ipcontroller-client.json\n"
     ]
    },
    {
     "ename": "IOError",
     "evalue": "Connection file '~/.ipython/profile_default/security/ipcontroller-client.json' not found.\nYou have attempted to connect to an IPython Cluster but no Controller could be found.\nPlease double-check your configuration and ensure that a cluster is running.",
     "output_type": "error",
     "traceback": [
      "\u001b[1;31m---------------------------------------------------------------------------\u001b[0m",
      "\u001b[1;31mIOError\u001b[0m                                   Traceback (most recent call last)",
      "\u001b[1;32m<ipython-input-14-90efbf8016e6>\u001b[0m in \u001b[0;36m<module>\u001b[1;34m()\u001b[0m\n\u001b[0;32m      3\u001b[0m \u001b[1;32mimport\u001b[0m \u001b[0mipyparallel\u001b[0m \u001b[1;32mas\u001b[0m \u001b[0mipp\u001b[0m\u001b[1;33m\u001b[0m\u001b[0m\n\u001b[0;32m      4\u001b[0m \u001b[1;33m\u001b[0m\u001b[0m\n\u001b[1;32m----> 5\u001b[1;33m \u001b[0mrc\u001b[0m \u001b[1;33m=\u001b[0m \u001b[0mipp\u001b[0m\u001b[1;33m.\u001b[0m\u001b[0mClient\u001b[0m\u001b[1;33m(\u001b[0m\u001b[1;33m)\u001b[0m\u001b[1;33m\u001b[0m\u001b[0m\n\u001b[0m\u001b[0;32m      6\u001b[0m \u001b[0mar\u001b[0m \u001b[1;33m=\u001b[0m \u001b[0mrc\u001b[0m\u001b[1;33m[\u001b[0m\u001b[1;33m:\u001b[0m\u001b[1;33m]\u001b[0m\u001b[1;33m.\u001b[0m\u001b[0mapply_async\u001b[0m\u001b[1;33m(\u001b[0m\u001b[0mos\u001b[0m\u001b[1;33m.\u001b[0m\u001b[0mgetpid\u001b[0m\u001b[1;33m)\u001b[0m\u001b[1;33m\u001b[0m\u001b[0m\n\u001b[0;32m      7\u001b[0m \u001b[0mpid_map\u001b[0m \u001b[1;33m=\u001b[0m \u001b[0mar\u001b[0m\u001b[1;33m.\u001b[0m\u001b[0mget_dict\u001b[0m\u001b[1;33m(\u001b[0m\u001b[1;33m)\u001b[0m\u001b[1;33m\u001b[0m\u001b[0m\n",
      "\u001b[1;32m/home/carlin/bin/anaconda/lib/python2.7/site-packages/ipyparallel/client/client.pyc\u001b[0m in \u001b[0;36m__init__\u001b[1;34m(self, url_file, profile, profile_dir, ipython_dir, context, debug, sshserver, sshkey, password, paramiko, timeout, cluster_id, **extra_args)\u001b[0m\n\u001b[0;32m    389\u001b[0m                         \u001b[0mno_file_msg\u001b[0m\u001b[1;33m,\u001b[0m\u001b[1;33m\u001b[0m\u001b[0m\n\u001b[0;32m    390\u001b[0m                     ])\n\u001b[1;32m--> 391\u001b[1;33m                     \u001b[1;32mraise\u001b[0m \u001b[0mIOError\u001b[0m\u001b[1;33m(\u001b[0m\u001b[0mmsg\u001b[0m\u001b[1;33m)\u001b[0m\u001b[1;33m\u001b[0m\u001b[0m\n\u001b[0m\u001b[0;32m    392\u001b[0m         \u001b[1;32mif\u001b[0m \u001b[0murl_file\u001b[0m \u001b[1;32mis\u001b[0m \u001b[0mNone\u001b[0m\u001b[1;33m:\u001b[0m\u001b[1;33m\u001b[0m\u001b[0m\n\u001b[0;32m    393\u001b[0m             \u001b[1;32mraise\u001b[0m \u001b[0mIOError\u001b[0m\u001b[1;33m(\u001b[0m\u001b[0mno_file_msg\u001b[0m\u001b[1;33m)\u001b[0m\u001b[1;33m\u001b[0m\u001b[0m\n",
      "\u001b[1;31mIOError\u001b[0m: Connection file '~/.ipython/profile_default/security/ipcontroller-client.json' not found.\nYou have attempted to connect to an IPython Cluster but no Controller could be found.\nPlease double-check your configuration and ensure that a cluster is running."
     ]
    }
   ],
   "source": [
    "%matplotlib inline\n",
    "import os\n",
    "import ipyparallel as ipp\n",
    "\n",
    "rc = ipp.Client()\n",
    "ar = rc[:].apply_async(os.getpid)\n",
    "pid_map = ar.get_dict()\n",
    "dview = rc[:]\n",
    "\n",
    "@dview.parallel( block=True )\n",
    "def fit_elastic_net_model( iterable ):\n",
    "    import matplotlib.pyplot as plt\n",
    "    from numpy import log, nan, inf\n",
    "    from sklearn.linear_model import ElasticNetCV\n",
    "    from sklearn.ensemble import BaggingRegressor\n",
    "    from sklearn.grid_search import GridSearchCV\n",
    "    from scipy.stats.stats import pearsonr\n",
    "    import pandas \n",
    "    from glob import glob \n",
    "    import os\n",
    "\n",
    "    constant = iterable[0]\n",
    "    df = pandas.read_csv( 'xiaokang2/{}.csv'.format( constant ), index_col='name' )    \n",
    "    y = df[ constant ]\n",
    "    X = df.drop( constant, axis=1 )\n",
    "        \n",
    "    params = { 'l1_ratio': [ .1, .5, .7, .9, .95, .99, 1, ] }\n",
    "    net = ElasticNetCV( cv=10, max_iter=10000 )\n",
    "    grid = GridSearchCV( net, params )\n",
    "    bag = BaggingRegressor( grid, n_estimators=1, n_jobs=8 )\n",
    "    bag.fit( X, y )\n",
    "\n",
    "    # 10 feature weights  \n",
    "    weights = pandas.DataFrame( zip( X.columns, bag.estimators_[0].best_estimator_.coef_ ), columns=['feature', 'weight'] )\n",
    "    print weights[ ( weights.weight > 0 )].sort( 'weight', ascending=False )\n",
    "\n",
    "    # predictions and calculate Pearson's R\n",
    "    preds = bag.predict( X )\n",
    "    print 'Constant', constant\n",
    "    print 'PCC={:2.2f}'.format( pearsonr( preds, y )[0] )\n",
    "\n",
    "    # plot results \n",
    "#     plt.figure( figsize=(4,4) )\n",
    "#     plt.scatter( preds, y, alpha=0.3, marker='.', color='k' )\n",
    "#     plt.xlabel( 'Predicted' )\n",
    "#     plt.ylabel( 'Actual' )\n",
    "#     plt.show()\n",
    "    \n",
    "    return 'PCC={:2.2f}'.format( pearsonr( preds, y )[0] )\n"
   ]
  },
  {
   "cell_type": "code",
   "execution_count": null,
   "metadata": {
    "collapsed": false,
    "scrolled": false
   },
   "outputs": [],
   "source": [
    "fit_elastic_net_model( constants )"
   ]
  },
  {
   "cell_type": "code",
   "execution_count": null,
   "metadata": {
    "collapsed": true
   },
   "outputs": [],
   "source": []
  }
 ],
 "metadata": {
  "kernelspec": {
   "display_name": "Python 2",
   "language": "python",
   "name": "python2"
  },
  "language_info": {
   "codemirror_mode": {
    "name": "ipython",
    "version": 2
   },
   "file_extension": ".py",
   "mimetype": "text/x-python",
   "name": "python",
   "nbconvert_exporter": "python",
   "pygments_lexer": "ipython2",
   "version": "2.7.10"
  }
 },
 "nbformat": 4,
 "nbformat_minor": 0
}
