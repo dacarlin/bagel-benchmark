{
 "cells": [
  {
   "cell_type": "markdown",
   "metadata": {},
   "source": [
    "# Constrained statistical learning plus experimental data for prediction of the functional effect conferred by mutations in a model enzyme \n",
    "\n",
    "\n",
    "\n",
    "## Rosetta models of each mutation in our data set \n",
    "\n",
    "First, we'll make models of all of the enzymes using Rosetta. All we need is a wild type PDB structure, `bglb.pdb`, and a list of mutations that we have kinetic data for, `mutant_list`. "
   ]
  },
  {
   "cell_type": "code",
   "execution_count": 26,
   "metadata": {
    "collapsed": false
   },
   "outputs": [
    {
     "name": "stdout",
     "output_type": "stream",
     "text": [
      "bglb.pdb   list\t\told_logs  pNPG.conf.pdb    protocol   sub.sh\r\n",
      "data_sets  logs\t\told_out   pNPG.enzdes.cst  README.md  training_sets\r\n",
      "flags\t   mutant_list\tout\t  pNPG.params\t   results    Untitled.ipynb\r\n"
     ]
    }
   ],
   "source": [
    "# prepare Rosetta input files (flags, protocol, native structure, constraint file, pNPG params, conformers)\n",
    "\n",
    "! ls "
   ]
  },
  {
   "cell_type": "code",
   "execution_count": 24,
   "metadata": {
    "collapsed": false
   },
   "outputs": [
    {
     "name": "stdout",
     "output_type": "stream",
     "text": [
      "200 mutants\n",
      "20000 list\n",
      "-parser:script_vars target=192 new_res=SER -suffix _A192S_0000\n",
      "-parser:script_vars target=227 new_res=TRP -suffix _A227W_0000\n"
     ]
    }
   ],
   "source": [
    "# create list for parallelization via SLURM  \n",
    "\n",
    "from Bio.SeqUtils import IUPACData\n",
    "\n",
    "with open( 'mutant_list' ) as fn:\n",
    "    mutants = [ i.strip() for i in fn.readlines() if len( i ) > 1 ] \n",
    "    print len( mutants ), 'mutants'\n",
    "\n",
    "nstruct = 100\n",
    "\n",
    "runs = [\n",
    "    '-parser:script_vars target={} new_res={} -suffix _{}_{:04d}\\n'.format( \n",
    "        m[1:-1], IUPACData.protein_letters_1to3[ m[-1] ].upper(), m, i )\n",
    "    for i in range( nstruct )\n",
    "    for m in mutants \n",
    "]\n",
    "\n",
    "with open( 'list', 'w' ) as fn:\n",
    "    fn.write( ''.join( runs ) )\n",
    "    \n",
    "! wc -l list \n",
    "! head -1 list "
   ]
  },
  {
   "cell_type": "code",
   "execution_count": 27,
   "metadata": {
    "collapsed": false,
    "scrolled": true
   },
   "outputs": [
    {
     "name": "stdout",
     "output_type": "stream",
     "text": [
      "Submitted batch job 1197294\n"
     ]
    }
   ],
   "source": [
    "%%bash\n",
    "# run the simulations on Cabernet w/ SLURM \n",
    "\n",
    "# sbatch -p gc128 --array=1-2 sub.sh\n",
    "sbatch -p gc128 --array=1-20000 sub.sh"
   ]
  },
  {
   "cell_type": "code",
   "execution_count": 95,
   "metadata": {
    "collapsed": false,
    "scrolled": false
   },
   "outputs": [],
   "source": [
    "# combine all the scorefiles together into a single DataFrame and write to disk\n",
    "\n",
    "from glob import glob \n",
    "import pandas\n",
    "\n",
    "sfs = [ pandas.read_csv( i, sep='\\s+' ) for i in glob( 'out/*sc' ) ]\n",
    "sf = pandas.concat( sfs )\n",
    "sf['name'] = sf.description.str.split( '_' ).str[ 1 ]\n",
    "\n",
    "sf.to_csv( 'data_sets/enzyme_design_features.csv' )"
   ]
  },
  {
   "cell_type": "markdown",
   "metadata": {},
   "source": [
    "## Predicting kinetic constants \n",
    "\n",
    "Using a elastic net regressor to predict $k_{cat}$, $K_M$, and $k_{cat}/K_M$ using the enzyme design feature set (recapitulates PLOS paper) "
   ]
  },
  {
   "cell_type": "code",
   "execution_count": 80,
   "metadata": {
    "collapsed": false
   },
   "outputs": [
    {
     "name": "stdout",
     "output_type": "stream",
     "text": [
      "1660 models in scorefile\n"
     ]
    }
   ],
   "source": [
    "sf = pandas.read_csv( 'data_sets/scorefile.csv', index_col='description' )\n",
    "sf.sample( 40 ) \n",
    "\n",
    "def low_10( df ):\n",
    "    return df.sort_values( by='total_score' ).head( 10 ) # .mean()\n",
    "\n",
    "grouped = sf.groupby( 'name' )\n",
    "low10 = grouped.apply( low_10 )\n",
    "low10.index = low10.name \n",
    "\n",
    "print len( low10 ), 'models in scorefile'"
   ]
  },
  {
   "cell_type": "code",
   "execution_count": 81,
   "metadata": {
    "collapsed": false,
    "scrolled": false
   },
   "outputs": [
    {
     "name": "stdout",
     "output_type": "stream",
     "text": [
      "76 kcat\n",
      "76 km\n",
      "87 kcat/km\n"
     ]
    }
   ],
   "source": [
    "from numpy import log, inf, nan\n",
    "\n",
    "# experimental data \n",
    "experimental = pandas.read_csv( '../bagel-data/clean_data/clean_for_pandas.csv', index_col='name' )\n",
    "\n",
    "# log and relative to wt \n",
    "wt = experimental.loc[ 'BglB' ]\n",
    "experimental.drop( [ 'BglB' ] )\n",
    "log_diff = log( experimental / wt )\n",
    "\n",
    "print len( log_diff.kcat.dropna() ), 'kcat'\n",
    "print len( log_diff.km.dropna() ), 'km'\n",
    "print len( log_diff.kcatkm.dropna() ), 'kcat/km'"
   ]
  },
  {
   "cell_type": "code",
   "execution_count": 82,
   "metadata": {
    "collapsed": false
   },
   "outputs": [
    {
     "name": "stdout",
     "output_type": "stream",
     "text": [
      "1660 joined total\n"
     ]
    }
   ],
   "source": [
    "# join with models \n",
    "joined = low10.join( log_diff )\n",
    "print len( joined ), 'joined total'\n",
    "\n",
    "# make a list of what we don't have data for \n",
    "# predict that list "
   ]
  },
  {
   "cell_type": "markdown",
   "metadata": {},
   "source": [
    "So now we have 10 models (the lowest 10 by total_energy out of 100 simulations) of each protein, joined with experimental data. We don't have all pieces of experimental data for each protein, so there are some NaNs in the above dataframe, which scikit-learn doesn't deal very well with. We will clean up the data. "
   ]
  },
  {
   "cell_type": "code",
   "execution_count": 83,
   "metadata": {
    "collapsed": false
   },
   "outputs": [],
   "source": [
    "constants = [ 'kcat', 'km', 'kcatkm' ]\n",
    "\n",
    "# clean up data for sklearn\n",
    "x_cols = [ u'total_score', u'fa_rep', u'hbond_sc', u'tot_pstat_pm',\n",
    "       u'tot_nlpstat_pm', u'tot_burunsat_pm', u'tot_hbond_pm',\n",
    "       u'tot_NLconts_pm', u'tot_nlsurfaceE_pm', u'tot_total_charge',\n",
    "       u'tot_total_pos_charges', u'tot_total_neg_charges', u'tot_seq_recovery',\n",
    "       u'SR_1_total_score', u'SR_1_fa_rep', u'SR_1_hbond_sc',\n",
    "       u'SR_1_hbond_pm', u'SR_1_burunsat_pm',\n",
    "       u'SR_1_pstat_pm', u'SR_1_nlpstat_pm', u'SR_2_total_score',\n",
    "       u'SR_2_fa_rep', u'SR_2_hbond_sc', u'SR_2_all_cst', u'SR_2_hbond_pm',\n",
    "       u'SR_2_burunsat_pm', u'SR_2_pstat_pm', u'SR_2_nlpstat_pm',\n",
    "       u'SR_3_total_score', u'SR_3_fa_rep', u'SR_3_hbond_sc', \n",
    "       u'SR_3_hbond_pm', u'SR_3_burunsat_pm', u'SR_3_pstat_pm',\n",
    "       u'SR_3_nlpstat_pm', u'SR_4_total_score', u'SR_4_fa_rep',\n",
    "       u'SR_4_hbond_sc', u'SR_4_hbond_pm',\n",
    "       u'SR_4_burunsat_pm', u'SR_4_pstat_pm', u'SR_4_nlpstat_pm',\n",
    "       u'SR_5_total_score', u'SR_5_fa_rep', u'SR_5_hbond_sc', u'SR_5_all_cst',\n",
    "       u'SR_5_interf_E_1_2', u'SR_5_dsasa_1_2', u'SR_5_hbond_pm',\n",
    "       u'SR_5_burunsat_pm', ]\n",
    "\n",
    "for constant in constants:\n",
    "    work = joined[ x_cols + [ constant ] ]\n",
    "    work = work.replace( [ inf, -inf ], nan )\n",
    "    work = work.dropna()\n",
    "    work.to_csv( 'training_sets/{}.csv'.format( constant ) )\n",
    "    # now we have 3 clean CSVs, one for each constant"
   ]
  },
  {
   "cell_type": "markdown",
   "metadata": {},
   "source": [
    "This completes our cleaning up the data to use in machine learning. In the next steps, we will evaluate the performance of machine learning algorithms in predicting the functional effect of each mutation, in terms of its effect on kcat, km, and kcat/km. \n",
    "\n",
    "## Elastic net regression gives PCC values of 0.7-0.8 "
   ]
  },
  {
   "cell_type": "code",
   "execution_count": 84,
   "metadata": {
    "collapsed": false,
    "scrolled": false
   },
   "outputs": [
    {
     "name": "stdout",
     "output_type": "stream",
     "text": [
      "680 models for constant kcat\n"
     ]
    },
    {
     "name": "stderr",
     "output_type": "stream",
     "text": [
      "/usr/local/bin/anaconda/lib/python2.7/site-packages/sklearn/linear_model/coordinate_descent.py:466: ConvergenceWarning: Objective did not converge. You might want to increase the number of iterations\n",
      "  ConvergenceWarning)\n",
      "/usr/local/bin/anaconda/lib/python2.7/site-packages/sklearn/linear_model/coordinate_descent.py:466: ConvergenceWarning: Objective did not converge. You might want to increase the number of iterations\n",
      "  ConvergenceWarning)\n",
      "/usr/local/bin/anaconda/lib/python2.7/site-packages/sklearn/linear_model/coordinate_descent.py:466: ConvergenceWarning: Objective did not converge. You might want to increase the number of iterations\n",
      "  ConvergenceWarning)\n",
      "/usr/local/bin/anaconda/lib/python2.7/site-packages/sklearn/linear_model/coordinate_descent.py:466: ConvergenceWarning: Objective did not converge. You might want to increase the number of iterations\n",
      "  ConvergenceWarning)\n",
      "/usr/local/bin/anaconda/lib/python2.7/site-packages/sklearn/linear_model/coordinate_descent.py:466: ConvergenceWarning: Objective did not converge. You might want to increase the number of iterations\n",
      "  ConvergenceWarning)\n",
      "/usr/local/bin/anaconda/lib/python2.7/site-packages/sklearn/linear_model/coordinate_descent.py:466: ConvergenceWarning: Objective did not converge. You might want to increase the number of iterations\n",
      "  ConvergenceWarning)\n",
      "/usr/local/bin/anaconda/lib/python2.7/site-packages/sklearn/linear_model/coordinate_descent.py:466: ConvergenceWarning: Objective did not converge. You might want to increase the number of iterations\n",
      "  ConvergenceWarning)\n",
      "/usr/local/bin/anaconda/lib/python2.7/site-packages/sklearn/linear_model/coordinate_descent.py:466: ConvergenceWarning: Objective did not converge. You might want to increase the number of iterations\n",
      "  ConvergenceWarning)\n",
      "/usr/local/bin/anaconda/lib/python2.7/site-packages/sklearn/linear_model/coordinate_descent.py:466: ConvergenceWarning: Objective did not converge. You might want to increase the number of iterations\n",
      "  ConvergenceWarning)\n",
      "/usr/local/bin/anaconda/lib/python2.7/site-packages/sklearn/linear_model/coordinate_descent.py:466: ConvergenceWarning: Objective did not converge. You might want to increase the number of iterations\n",
      "  ConvergenceWarning)\n"
     ]
    },
    {
     "name": "stdout",
     "output_type": "stream",
     "text": [
      "Constant kcat\n",
      "PCC=0.45\n"
     ]
    },
    {
     "data": {
      "image/png": "[encoded data removed]",
      "text/plain": [
       "<matplotlib.figure.Figure at 0x106ab8090>"
      ]
     },
     "metadata": {},
     "output_type": "display_data"
    },
    {
     "name": "stdout",
     "output_type": "stream",
     "text": [
      "700 models for constant km\n"
     ]
    },
    {
     "name": "stderr",
     "output_type": "stream",
     "text": [
      "/usr/local/bin/anaconda/lib/python2.7/site-packages/sklearn/linear_model/coordinate_descent.py:466: ConvergenceWarning: Objective did not converge. You might want to increase the number of iterations\n",
      "  ConvergenceWarning)\n",
      "/usr/local/bin/anaconda/lib/python2.7/site-packages/sklearn/linear_model/coordinate_descent.py:466: ConvergenceWarning: Objective did not converge. You might want to increase the number of iterations\n",
      "  ConvergenceWarning)\n",
      "/usr/local/bin/anaconda/lib/python2.7/site-packages/sklearn/linear_model/coordinate_descent.py:466: ConvergenceWarning: Objective did not converge. You might want to increase the number of iterations\n",
      "  ConvergenceWarning)\n",
      "/usr/local/bin/anaconda/lib/python2.7/site-packages/sklearn/linear_model/coordinate_descent.py:466: ConvergenceWarning: Objective did not converge. You might want to increase the number of iterations\n",
      "  ConvergenceWarning)\n",
      "/usr/local/bin/anaconda/lib/python2.7/site-packages/sklearn/linear_model/coordinate_descent.py:466: ConvergenceWarning: Objective did not converge. You might want to increase the number of iterations\n",
      "  ConvergenceWarning)\n",
      "/usr/local/bin/anaconda/lib/python2.7/site-packages/sklearn/linear_model/coordinate_descent.py:466: ConvergenceWarning: Objective did not converge. You might want to increase the number of iterations\n",
      "  ConvergenceWarning)\n",
      "/usr/local/bin/anaconda/lib/python2.7/site-packages/sklearn/linear_model/coordinate_descent.py:466: ConvergenceWarning: Objective did not converge. You might want to increase the number of iterations\n",
      "  ConvergenceWarning)\n",
      "/usr/local/bin/anaconda/lib/python2.7/site-packages/sklearn/linear_model/coordinate_descent.py:466: ConvergenceWarning: Objective did not converge. You might want to increase the number of iterations\n",
      "  ConvergenceWarning)\n",
      "/usr/local/bin/anaconda/lib/python2.7/site-packages/sklearn/linear_model/coordinate_descent.py:466: ConvergenceWarning: Objective did not converge. You might want to increase the number of iterations\n",
      "  ConvergenceWarning)\n",
      "/usr/local/bin/anaconda/lib/python2.7/site-packages/sklearn/linear_model/coordinate_descent.py:466: ConvergenceWarning: Objective did not converge. You might want to increase the number of iterations\n",
      "  ConvergenceWarning)\n"
     ]
    },
    {
     "name": "stdout",
     "output_type": "stream",
     "text": [
      "Constant km\n",
      "PCC=0.60\n"
     ]
    },
    {
     "data": {
      "image/png": "[encoded data removed]",
      "text/plain": [
       "<matplotlib.figure.Figure at 0x107249e10>"
      ]
     },
     "metadata": {},
     "output_type": "display_data"
    },
    {
     "name": "stdout",
     "output_type": "stream",
     "text": [
      "770 models for constant kcatkm\n"
     ]
    },
    {
     "name": "stderr",
     "output_type": "stream",
     "text": [
      "/usr/local/bin/anaconda/lib/python2.7/site-packages/sklearn/linear_model/coordinate_descent.py:466: ConvergenceWarning: Objective did not converge. You might want to increase the number of iterations\n",
      "  ConvergenceWarning)\n",
      "/usr/local/bin/anaconda/lib/python2.7/site-packages/sklearn/linear_model/coordinate_descent.py:466: ConvergenceWarning: Objective did not converge. You might want to increase the number of iterations\n",
      "  ConvergenceWarning)\n",
      "/usr/local/bin/anaconda/lib/python2.7/site-packages/sklearn/linear_model/coordinate_descent.py:466: ConvergenceWarning: Objective did not converge. You might want to increase the number of iterations\n",
      "  ConvergenceWarning)\n",
      "/usr/local/bin/anaconda/lib/python2.7/site-packages/sklearn/linear_model/coordinate_descent.py:466: ConvergenceWarning: Objective did not converge. You might want to increase the number of iterations\n",
      "  ConvergenceWarning)\n",
      "/usr/local/bin/anaconda/lib/python2.7/site-packages/sklearn/linear_model/coordinate_descent.py:466: ConvergenceWarning: Objective did not converge. You might want to increase the number of iterations\n",
      "  ConvergenceWarning)\n",
      "/usr/local/bin/anaconda/lib/python2.7/site-packages/sklearn/linear_model/coordinate_descent.py:466: ConvergenceWarning: Objective did not converge. You might want to increase the number of iterations\n",
      "  ConvergenceWarning)\n",
      "/usr/local/bin/anaconda/lib/python2.7/site-packages/sklearn/linear_model/coordinate_descent.py:466: ConvergenceWarning: Objective did not converge. You might want to increase the number of iterations\n",
      "  ConvergenceWarning)\n",
      "/usr/local/bin/anaconda/lib/python2.7/site-packages/sklearn/linear_model/coordinate_descent.py:466: ConvergenceWarning: Objective did not converge. You might want to increase the number of iterations\n",
      "  ConvergenceWarning)\n"
     ]
    },
    {
     "name": "stdout",
     "output_type": "stream",
     "text": [
      "Constant kcatkm\n",
      "PCC=0.73\n"
     ]
    },
    {
     "data": {
      "image/png": "[encoded data removed]",
      "text/plain": [
       "<matplotlib.figure.Figure at 0x1082d9d90>"
      ]
     },
     "metadata": {},
     "output_type": "display_data"
    }
   ],
   "source": [
    "%matplotlib inline\n",
    "import matplotlib.pyplot as plt\n",
    "\n",
    "from sklearn.linear_model import ElasticNetCV\n",
    "from sklearn.ensemble import BaggingRegressor\n",
    "from sklearn.cross_validation import StratifiedKFold\n",
    "from scipy.stats.stats import pearsonr\n",
    "\n",
    "constants = [ 'kcat', 'km', 'kcatkm' ]\n",
    "for constant in constants:\n",
    "    df = pandas.read_csv( 'training_sets/{}.csv'.format( constant ), index_col='name' )\n",
    "    print len( df ), 'models for constant', constant\n",
    "    y = df[ constant ]\n",
    "    X = df.drop( constant, axis=1 )\n",
    "        \n",
    "    import matplotlib.pyplot as plt \n",
    "    %matplotlib inline\n",
    "\n",
    "    skf = StratifiedKFold( y, 10 )\n",
    "    net = ElasticNetCV( l1_ratio=[.1, .5, .7, .9, .95, .99, 1], cv=skf )\n",
    "    bag = BaggingRegressor( net, n_estimators=10, n_jobs=10 )\n",
    "    bag.fit( X, y )\n",
    "\n",
    "    #weights = pandas.DataFrame( zip( X.columns, bag.estimators_[0].best_estimator_.coef_ ), columns=['feature', 'weight'] )\n",
    "    preds = bag.predict( X )\n",
    "\n",
    "    #print weights[ ( weights.weight > 0 )].sort( 'weight', ascending=False )\n",
    "    print 'Constant', constant\n",
    "    print 'PCC={:2.2f}'.format( pearsonr( preds, y )[0] )\n",
    "\n",
    "    plt.figure( figsize=(4,4) )\n",
    "    plt.scatter( preds, y, marker='.', color='k' )\n",
    "    plt.xlabel( 'Predicted' )\n",
    "    plt.ylabel( 'Actual' )\n",
    "    plt.show()"
   ]
  },
  {
   "cell_type": "markdown",
   "metadata": {
    "collapsed": true
   },
   "source": [
    "## Expression benchmark \n",
    "\n",
    "See if we can predict soluble expression given the set of 50 features output by Rosetta. "
   ]
  },
  {
   "cell_type": "code",
   "execution_count": 85,
   "metadata": {
    "collapsed": true
   },
   "outputs": [],
   "source": [
    "features = [ u'total_score', u'fa_rep', u'hbond_sc', \n",
    "       u'tot_pstat_pm', u'tot_nlpstat_pm', u'tot_burunsat_pm', u'tot_hbond_pm',\n",
    "       u'tot_NLconts_pm', u'tot_nlsurfaceE_pm', u'tot_total_charge',\n",
    "       u'tot_total_pos_charges', u'tot_total_neg_charges', u'tot_seq_recovery',\n",
    "       u'SR_1_total_score', u'SR_1_fa_rep', u'SR_1_hbond_sc',\n",
    "       u'SR_1_hbond_pm', u'SR_1_burunsat_pm',\n",
    "       u'SR_1_pstat_pm', u'SR_1_nlpstat_pm', u'SR_2_total_score',\n",
    "       u'SR_2_fa_rep', u'SR_2_hbond_sc', u'SR_2_all_cst', u'SR_2_hbond_pm',\n",
    "       u'SR_2_burunsat_pm', u'SR_2_pstat_pm', u'SR_2_nlpstat_pm', u'SR_3',\n",
    "       u'SR_3_total_score', u'SR_3_fa_rep', u'SR_3_hbond_sc', u'SR_3_all_cst',\n",
    "       u'SR_3_hbond_pm', u'SR_3_burunsat_pm', u'SR_3_pstat_pm',\n",
    "       u'SR_3_nlpstat_pm', u'SR_4', u'SR_4_total_score', u'SR_4_fa_rep',\n",
    "       u'SR_4_hbond_sc', u'SR_4_all_cst', u'SR_4_hbond_pm',\n",
    "       u'SR_4_burunsat_pm', u'SR_4_pstat_pm', u'SR_4_nlpstat_pm', u'SR_5',\n",
    "       u'SR_5_total_score', u'SR_5_fa_rep', u'SR_5_hbond_sc', u'SR_5_all_cst',\n",
    "       u'SR_5_interf_E_1_2', u'SR_5_dsasa_1_2', u'SR_5_hbond_pm',\n",
    "       u'SR_5_burunsat_pm', u'expression' ]"
   ]
  },
  {
   "cell_type": "code",
   "execution_count": 86,
   "metadata": {
    "collapsed": false
   },
   "outputs": [
    {
     "name": "stdout",
     "output_type": "stream",
     "text": [
      "model score (training) 0.71\n",
      "model score (test) 0.56\n"
     ]
    },
    {
     "data": {
      "image/png": "[encoded data removed]",
      "text/plain": [
       "<matplotlib.figure.Figure at 0x107f5a310>"
      ]
     },
     "metadata": {},
     "output_type": "display_data"
    }
   ],
   "source": [
    "# test-versus-train style \n",
    "\n",
    "import pandas \n",
    "from sklearn import svm\n",
    "from sklearn.ensemble import BaggingClassifier\n",
    "%matplotlib inline \n",
    "import matplotlib.pyplot as plt \n",
    "from sklearn.metrics import roc_curve\n",
    "\n",
    "def low10( df ):\n",
    "    return df.sort_values( by='total_score' ).head( 10 ) #.mean()\n",
    "\n",
    "thermo = pandas.read_csv( 'data_sets/expression_data.csv', index_col='name' ) \n",
    "blind_data = pandas.read_csv( 'data_sets/expression_spring_2016.csv', index_col='name' )\n",
    "sf = pandas.read_csv( 'data_sets/scorefile.csv' ) \n",
    "sf['name'] = sf.description.str.split( '_' ).str[ 1 ]\n",
    "\n",
    "grouped = sf.groupby( 'name' )\n",
    "low10 = grouped.apply( low10 )\n",
    "low10.index = low10.name \n",
    "\n",
    "joined_blind = low10.join( blind_data ).dropna() \n",
    "\n",
    "x = low10.join( thermo ).dropna()\n",
    "x = x[ features ] \n",
    "\n",
    "y = x.expression.round()\n",
    "X = x.drop( u'expression', axis=1 )\n",
    "\n",
    "#y = x.expression * 2 # for multi-class\n",
    "\n",
    "little_x = joined_blind[ features ]  \n",
    "X_test = little_x.drop( 'expression', axis=1 ) \n",
    "y_test = joined_blind.expression.astype( bool ) \n",
    "\n",
    "clf = svm.SVC( kernel='linear', C=1 )\n",
    "clf.fit( X, y ) \n",
    "\n",
    "print 'model score (training)', clf.score( X, y ).round( 2 )  \n",
    "print 'model score (test)', clf.score( X_test, y_test ).round( 2 ) \n",
    "\n",
    "preds = clf.predict( X ) \n",
    "scores = clf.decision_function( X ) \n",
    "\n",
    "test_predictions = clf.predict( X_test ) \n",
    "test_scores = clf.decision_function( X_test ) \n",
    "\n",
    "fpr_train, tpr_train, __ = roc_curve( y, scores ) \n",
    "fpr_test, tpr_test, __ = roc_curve( y_test, test_scores ) \n",
    "\n",
    "plt.figure( figsize=(4,4) )\n",
    "plt.plot( fpr_train, tpr_train ) \n",
    "plt.plot( fpr_test, tpr_test, color='r' ) \n",
    "plt.plot([0, 1], [0, 1], 'k--')\n",
    "plt.xlim([-0.02, 1.02])\n",
    "plt.ylim([-0.02, 1.02])\n",
    "plt.xlabel('False Positive Rate')\n",
    "plt.ylabel('True Positive Rate')\n",
    "plt.title('SVM results')\n",
    "plt.legend( [ 'Training set (PLOS)', 'Test set (unpublished)' ], loc='lower right' )\n",
    "plt.show()"
   ]
  },
  {
   "cell_type": "code",
   "execution_count": 88,
   "metadata": {
    "collapsed": false
   },
   "outputs": [
    {
     "name": "stdout",
     "output_type": "stream",
     "text": [
      "[ 0.65648855  0.49618321  0.51908397  0.67938931  0.55725191  0.6259542\n",
      "  0.5648855   0.61068702  0.51145038  0.49618321]\n"
     ]
    },
    {
     "name": "stderr",
     "output_type": "stream",
     "text": [
      "/usr/local/bin/anaconda/lib/python2.7/site-packages/sklearn/ensemble/bagging.py:337: UserWarning: Multiprocessing-backed parallel loops cannot be nested, setting n_jobs=1\n",
      "  for i in range(n_jobs))\n",
      "/usr/local/bin/anaconda/lib/python2.7/site-packages/sklearn/ensemble/bagging.py:337: UserWarning: Multiprocessing-backed parallel loops cannot be nested, setting n_jobs=1\n",
      "  for i in range(n_jobs))\n",
      "/usr/local/bin/anaconda/lib/python2.7/site-packages/sklearn/ensemble/bagging.py:337: UserWarning: Multiprocessing-backed parallel loops cannot be nested, setting n_jobs=1\n",
      "  for i in range(n_jobs))\n",
      "/usr/local/bin/anaconda/lib/python2.7/site-packages/sklearn/ensemble/bagging.py:337: UserWarning: Multiprocessing-backed parallel loops cannot be nested, setting n_jobs=1\n",
      "  for i in range(n_jobs))\n",
      "/usr/local/bin/anaconda/lib/python2.7/site-packages/sklearn/ensemble/bagging.py:621: UserWarning: Multiprocessing-backed parallel loops cannot be nested, setting n_jobs=1\n",
      "  for i in range(n_jobs))\n",
      "/usr/local/bin/anaconda/lib/python2.7/site-packages/sklearn/ensemble/bagging.py:621: UserWarning: Multiprocessing-backed parallel loops cannot be nested, setting n_jobs=1\n",
      "  for i in range(n_jobs))\n",
      "/usr/local/bin/anaconda/lib/python2.7/site-packages/sklearn/ensemble/bagging.py:621: UserWarning: Multiprocessing-backed parallel loops cannot be nested, setting n_jobs=1\n",
      "  for i in range(n_jobs))\n",
      "/usr/local/bin/anaconda/lib/python2.7/site-packages/sklearn/ensemble/bagging.py:621: UserWarning: Multiprocessing-backed parallel loops cannot be nested, setting n_jobs=1\n",
      "  for i in range(n_jobs))\n"
     ]
    }
   ],
   "source": [
    "# stratified cross-validation style \n",
    "\n",
    "%matplotlib inline \n",
    "import matplotlib.pyplot as plt \n",
    "from sklearn.metrics import roc_curve\n",
    "from sklearn import cross_validation, svm\n",
    "from sklearn.ensemble import BaggingClassifier\n",
    "import pandas \n",
    "\n",
    "def low10( df ):\n",
    "    return df.sort_values( by='total_score' ).head( 2 ) #.mean()\n",
    "\n",
    "thermo = pandas.read_csv( 'data_sets/expression_cat.csv', index_col='name' ) \n",
    "sf = pandas.read_csv( 'data_sets/scorefile.csv' ) \n",
    "sf['name'] = sf.description.str.split( '_' ).str[ 1 ]\n",
    "\n",
    "grouped = sf.groupby( 'name' )\n",
    "low10 = grouped.apply( low10 )\n",
    "low10.index = low10.name \n",
    "\n",
    "x = low10.join( thermo ).dropna()\n",
    "x = x[ features ] \n",
    "\n",
    "y = x.expression.round().as_matrix()\n",
    "X = x.drop( u'expression', axis=1 ).as_matrix()\n",
    "\n",
    "clf = svm.SVC( kernel='linear', C=1 )\n",
    "skf = cross_validation.StratifiedKFold( y, n_folds=10 )\n",
    "bag = BaggingClassifier( clf, n_estimators=1, n_jobs=-1 ) \n",
    "\n",
    "#print [ clf.fit( X[train], y[train] ).score( X[test], y[test] ) for train, test in skf ]\n",
    "#print cross_validation.cross_val_score( bag, X, y, cv=skf, n_jobs=-1)\n",
    "\n",
    "for train, test in skf: \n",
    "    bag.fit( X[train], y[train] ) \n",
    "\n",
    "# print 'model score (training)', clf.score( X, y ).round( 2 )  \n",
    "# print 'model score (test)', clf.score( X_test, y_test ).round( 2 ) \n",
    "\n",
    "# preds = clf.predict( X ) \n",
    "# scores = clf.decision_function( X ) \n",
    "\n",
    "# test_predictions = clf.predict( X_test ) \n",
    "# test_scores = clf.decision_function( X_test ) \n",
    "\n",
    "# fpr_train, tpr_train, __ = roc_curve( y, scores ) \n",
    "# fpr_test, tpr_test, __ = roc_curve( y_test, test_scores ) \n",
    "\n",
    "# plt.figure( figsize=(4,4) )\n",
    "# plt.plot( fpr_train, tpr_train ) \n",
    "# plt.plot( fpr_test, tpr_test, color='r' ) \n",
    "# plt.plot([0, 1], [0, 1], 'k--')\n",
    "# plt.xlim([-0.02, 1.02])\n",
    "# plt.ylim([-0.02, 1.02])\n",
    "# plt.xlabel('False Positive Rate')\n",
    "# plt.ylabel('True Positive Rate')\n",
    "# plt.title('SVM results')\n",
    "# plt.legend( [ 'Training set (PLOS)', 'Test set (unpublished)' ], loc='lower right' )\n",
    "# plt.show()"
   ]
  },
  {
   "cell_type": "code",
   "execution_count": 89,
   "metadata": {
    "collapsed": false
   },
   "outputs": [
    {
     "name": "stdout",
     "output_type": "stream",
     "text": [
      "model score 0.83\n"
     ]
    },
    {
     "data": {
      "image/png": "[encoded data removed]",
      "text/plain": [
       "<matplotlib.figure.Figure at 0x10a050d50>"
      ]
     },
     "metadata": {},
     "output_type": "display_data"
    }
   ],
   "source": [
    "# using ddg predictions as features instead of enzdes features \n",
    "\n",
    "import pandas \n",
    "from sklearn import svm\n",
    "from sklearn.ensemble import BaggingClassifier\n",
    "%matplotlib inline \n",
    "import matplotlib.pyplot as plt \n",
    "from sklearn.metrics import roc_curve\n",
    "\n",
    "def low10( df ):\n",
    "    return df.sort_values( by='total_score' ).head( 10 ) #.mean()\n",
    "\n",
    "expr = pandas.read_csv( 'data_sets/expression_cat.csv', index_col='name' ) \n",
    "sf = pandas.read_csv( '~/Documents/bagel-thermostability/protocols/ddg/ddg_preds.csv', index_col='description' ) \n",
    "\n",
    "ddg_features = [ u'total', u'fa_atr', u'fa_rep', u'fa_sol',\n",
    "       u'fa_intra_rep', u'fa_elec', u'pro_close', u'hbond_sr_bb',\n",
    "       u'hbond_lr_bb', u'hbond_bb_sc', u'hbond_sc', u'dslf_fa13',\n",
    "       u'coordinate_constraint', u'angle_constraint', u'dihedral_constraint',\n",
    "       u'rama', u'omega', u'fa_dun', u'p_aa_pp', u'ref', u'chainbreak',\n",
    "       u'res_type_constraint' ]\n",
    "\n",
    "x = expr.join( sf ).dropna() \n",
    "X = x[ ddg_features ] \n",
    "y = x.expression.round()\n",
    "\n",
    "clf = svm.SVC( kernel='linear', C=1 )\n",
    "clf.fit( X, y ) \n",
    "\n",
    "print 'model score', clf.score( X, y ).round( 2 )  \n",
    "\n",
    "preds = clf.predict( X ) \n",
    "scores = clf.decision_function( X ) \n",
    "\n",
    "fpr_train, tpr_train, __ = roc_curve( y, scores ) \n",
    "\n",
    "plt.figure( figsize=(4,4) )\n",
    "plt.plot( fpr_train, tpr_train ) \n",
    "plt.plot([0, 1], [0, 1], 'k--')\n",
    "plt.xlim([-0.02, 1.02])\n",
    "plt.ylim([-0.02, 1.02])\n",
    "plt.xlabel('False Positive Rate')\n",
    "plt.ylabel('True Positive Rate')\n",
    "plt.title('SVM results')\n",
    "plt.legend( [ 'ddg_monomer' ], loc='lower right' )\n",
    "plt.show()"
   ]
  },
  {
   "cell_type": "code",
   "execution_count": 96,
   "metadata": {
    "collapsed": false
   },
   "outputs": [
    {
     "name": "stdout",
     "output_type": "stream",
     "text": [
      "model score (training) 0.69\n"
     ]
    },
    {
     "data": {
      "image/png": "[encoded data removed]",
      "text/plain": [
       "<matplotlib.figure.Figure at 0x10a050250>"
      ]
     },
     "metadata": {},
     "output_type": "display_data"
    }
   ],
   "source": [
    "# plain SVM on all expression data we have \n",
    "\n",
    "# test-versus-train style \n",
    "\n",
    "import pandas \n",
    "from sklearn import svm\n",
    "from sklearn.ensemble import BaggingClassifier\n",
    "%matplotlib inline \n",
    "import matplotlib.pyplot as plt \n",
    "from sklearn.metrics import roc_curve\n",
    "\n",
    "def low10( df ):\n",
    "    return df.sort_values( by='total_score' ).head( 10 ) #.mean()\n",
    "\n",
    "thermo = pandas.read_csv( 'data_sets/expression_cat.csv', index_col='name' ) \n",
    "sf = pandas.read_csv( 'data_sets/scorefile.csv' ) \n",
    "sf['name'] = sf.description.str.split( '_' ).str[ 1 ]\n",
    "\n",
    "grouped = sf.groupby( 'name' )\n",
    "low10 = grouped.apply( low10 )\n",
    "low10.index = low10.name \n",
    "\n",
    "joined_blind = low10.join( blind_data ).dropna() \n",
    "\n",
    "x = low10.join( thermo ).dropna()\n",
    "x = x[ features ] \n",
    "\n",
    "y = x.expression.round()\n",
    "X = x.drop( u'expression', axis=1 )\n",
    "\n",
    "clf = svm.SVC( kernel='linear', C=1 )\n",
    "clf.fit( X, y ) \n",
    "\n",
    "print 'model score', clf.score( X, y ).round( 2 )  \n",
    "\n",
    "preds = clf.predict( X ) \n",
    "scores = clf.decision_function( X ) \n",
    "\n",
    "fpr_train, tpr_train, __ = roc_curve( y, scores ) \n",
    "\n",
    "plt.figure( figsize=(4,4) )\n",
    "plt.plot( fpr_train, tpr_train ) \n",
    "plt.plot([0, 1], [0, 1], 'k--')\n",
    "plt.xlim([-0.02, 1.02])\n",
    "plt.ylim([-0.02, 1.02])\n",
    "plt.xlabel('False Positive Rate')\n",
    "plt.ylabel('True Positive Rate')\n",
    "plt.title('SVM results')\n",
    "plt.legend( [ 'All expression data' ], loc='lower right' )\n",
    "plt.show()"
   ]
  }
 ],
 "metadata": {
  "kernelspec": {
   "display_name": "Python 2",
   "language": "python",
   "name": "python2"
  },
  "language_info": {
   "codemirror_mode": {
    "name": "ipython",
    "version": 2
   },
   "file_extension": ".py",
   "mimetype": "text/x-python",
   "name": "python",
   "nbconvert_exporter": "python",
   "pygments_lexer": "ipython2",
   "version": "2.7.10"
  }
 },
 "nbformat": 4,
 "nbformat_minor": 0
}
