{
 "cells": [
  {
   "cell_type": "markdown",
   "metadata": {
    "slideshow": {
     "slide_type": "slide"
    }
   },
   "source": [
    "In this notebook, we use the FoldX feature set (13 features) to predict soluble expression (0=no, 1=yes) for 128 samples. Three classifiers are tried: logistic regression, SVM, and random forest "
   ]
  },
  {
   "cell_type": "code",
   "execution_count": 127,
   "metadata": {
    "collapsed": false
   },
   "outputs": [],
   "source": [
    "%matplotlib inline \n",
    "import matplotlib.pyplot as plt \n",
    "\n",
    "import pandas \n",
    "from pandas.tools.plotting import scatter_matrix\n",
    "\n",
    "from sklearn import preprocessing, cross_validation, ensemble, pipeline, svm, decomposition\n",
    "from sklearn.grid_search import GridSearchCV\n",
    "from sklearn.metrics import classification_report, roc_curve, roc_auc_score\n",
    "from sklearn.metrics import precision_recall_curve, average_precision_score\n",
    "from sklearn.linear_model import LogisticRegressionCV"
   ]
  },
  {
   "cell_type": "code",
   "execution_count": 128,
   "metadata": {
    "collapsed": false
   },
   "outputs": [],
   "source": [
    "df = pandas.read_csv( 'feature_sets/expression_foldx.csv', index_col=0 ) "
   ]
  },
  {
   "cell_type": "code",
   "execution_count": 129,
   "metadata": {
    "collapsed": false
   },
   "outputs": [
    {
     "data": {
      "text/plain": [
       "Index([u'total energy', u'Backbone Hbond', u'Sidechain Hbond',\n",
       "       u'Van der Waals', u'Electrostatics', u'Solvation Polar',\n",
       "       u'Solvation Hydrophobic', u'Van der Waals clashes',\n",
       "       u'entropy sidechain', u'entropy mainchain', u'torsional clash',\n",
       "       u'backbone clash', u'helix dipole', u'electrostatic kon',\n",
       "       u'energy Ionisation', u'expression'],\n",
       "      dtype='object')"
      ]
     },
     "execution_count": 129,
     "metadata": {},
     "output_type": "execute_result"
    }
   ],
   "source": [
    "df.columns"
   ]
  },
  {
   "cell_type": "code",
   "execution_count": 130,
   "metadata": {
    "collapsed": false
   },
   "outputs": [
    {
     "data": {
      "image/png": "[encoded data removed]",
      "text/plain": [
       "<matplotlib.figure.Figure at 0x11b3a0d50>"
      ]
     },
     "metadata": {},
     "output_type": "display_data"
    }
   ],
   "source": [
    "# investigate different scaling methods \n",
    "\n",
    "scalers = [ \n",
    "    ( 'robust', preprocessing.RobustScaler() ), \n",
    "    ( 'minmax', preprocessing.MinMaxScaler() ), \n",
    "    ( 'standard', preprocessing.StandardScaler() ), \n",
    "    ( 'maxabs', preprocessing.MaxAbsScaler() ), \n",
    "]\n",
    "\n",
    "plt.figure( figsize=(12, 4) )\n",
    "for i, ( scaler_name, scaler ) in enumerate( scalers ):\n",
    "    plt.subplot( 1, len( scalers ), i + 1 )\n",
    "    plt.title( scaler_name ) \n",
    "    plt.boxplot( scaler.fit_transform( df.ix[:,:-1] ) )\n",
    "    plt.xticks( rotation=90 ) \n",
    "plt.tight_layout()    "
   ]
  },
  {
   "cell_type": "code",
   "execution_count": 131,
   "metadata": {
    "collapsed": false
   },
   "outputs": [
    {
     "name": "stdout",
     "output_type": "stream",
     "text": [
      "(128, 15)\n",
      "(128,)\n"
     ]
    }
   ],
   "source": [
    "# scale features and separate into predictors\n",
    "\n",
    "scl = preprocessing.MaxAbsScaler()\n",
    "X = scl.fit_transform( df.ix[:,:-1] )\n",
    "y = df.ix[:,-1].ravel()\n",
    "\n",
    "print X.shape\n",
    "print y.shape"
   ]
  },
  {
   "cell_type": "code",
   "execution_count": 132,
   "metadata": {
    "collapsed": false,
    "scrolled": false
   },
   "outputs": [],
   "source": [
    "# # %matplotlib inline \n",
    "# # import matplotlib.pyplot as plt \n",
    "\n",
    "# plt.figure( figsize=( 14, 14 ) ) \n",
    "\n",
    "# for i, feature in enumerate( df.columns ):\n",
    "#     plt.subplot( 4, 4, i + 1 ) \n",
    "#     plt.scatter( df.expression, df[ feature ], c='k', alpha=0.1 ) #, c=df.expression, cmap='Blues', vmin=-0.5 ) \n",
    "#     plt.title( feature ) \n",
    "#     plt.xticks( [ 0, 1 ], [ 0, 1 ] ) \n",
    "\n",
    "# plt.show()"
   ]
  },
  {
   "cell_type": "markdown",
   "metadata": {},
   "source": [
    "**FoldX feature set**: individual feature versus expression (yes/no)"
   ]
  },
  {
   "cell_type": "code",
   "execution_count": 133,
   "metadata": {
    "collapsed": false,
    "scrolled": false
   },
   "outputs": [],
   "source": [
    "#scatter_matrix(df, alpha=0.2, figsize=(14, 14) ) #, diagonal='kde')"
   ]
  },
  {
   "cell_type": "code",
   "execution_count": 134,
   "metadata": {
    "collapsed": false,
    "slideshow": {
     "slide_type": "slide"
    }
   },
   "outputs": [],
   "source": [
    "# sequence-based view of features \n",
    "#df.plot(subplots=True, style='.', figsize=(14,14))"
   ]
  },
  {
   "cell_type": "code",
   "execution_count": 135,
   "metadata": {
    "collapsed": false
   },
   "outputs": [
    {
     "data": {
      "text/plain": [
       "total energy            -0.416102\n",
       "Solvation Polar         -0.189585\n",
       "entropy sidechain       -0.166086\n",
       "Van der Waals clashes   -0.161382\n",
       "energy Ionisation       -0.114983\n",
       "helix dipole            -0.068879\n",
       "torsional clash         -0.035589\n",
       "electrostatic kon       -0.033061\n",
       "backbone clash          -0.032456\n",
       "Solvation Hydrophobic   -0.029770\n",
       "entropy mainchain       -0.002462\n",
       "Van der Waals            0.015892\n",
       "Backbone Hbond           0.029102\n",
       "Electrostatics           0.122887\n",
       "Sidechain Hbond          0.190301\n",
       "Name: expression, dtype: float64"
      ]
     },
     "execution_count": 135,
     "metadata": {},
     "output_type": "execute_result"
    }
   ],
   "source": [
    "df.corr(method='spearman')['expression'].drop( 'expression' ).sort_values()"
   ]
  },
  {
   "cell_type": "code",
   "execution_count": 136,
   "metadata": {
    "collapsed": false
   },
   "outputs": [
    {
     "name": "stdout",
     "output_type": "stream",
     "text": [
      "43 samples of class 0\n",
      "85 samples of class 1\n"
     ]
    }
   ],
   "source": [
    "# unbalanced classes \n",
    "my_list = list( y ) \n",
    "print my_list.count( 0 ), 'samples of class 0'\n",
    "print my_list.count( 1 ), 'samples of class 1'"
   ]
  },
  {
   "cell_type": "code",
   "execution_count": 137,
   "metadata": {
    "collapsed": false,
    "slideshow": {
     "slide_type": "slide"
    }
   },
   "outputs": [
    {
     "data": {
      "text/plain": [
       "<matplotlib.text.Text at 0x11adef350>"
      ]
     },
     "execution_count": 137,
     "metadata": {},
     "output_type": "execute_result"
    },
    {
     "data": {
      "image/png": "[encoded data removed]",
      "text/plain": [
       "<matplotlib.figure.Figure at 0x11abf6dd0>"
      ]
     },
     "metadata": {},
     "output_type": "display_data"
    }
   ],
   "source": [
    "plt.figure( figsize=( 2,2 ) ) \n",
    "plt.hist( y, bins=2, color='k', rwidth=0.4 )\n",
    "plt.xticks( [ .25, .75 ], [ '0', '1' ] ) \n",
    "plt.title( 'Expression\\n(0=no, 1=yes)' ) "
   ]
  },
  {
   "cell_type": "code",
   "execution_count": 138,
   "metadata": {
    "collapsed": true
   },
   "outputs": [],
   "source": [
    "# Split the dataset in two equal parts to be used to train and test 3 classifiers below \n",
    "X_train, X_test, y_train, y_test = cross_validation.train_test_split(X, y, test_size=0.5)"
   ]
  },
  {
   "cell_type": "code",
   "execution_count": 139,
   "metadata": {
    "collapsed": false
   },
   "outputs": [
    {
     "name": "stdout",
     "output_type": "stream",
     "text": [
      "[[ 8 15]\n",
      " [ 3 38]]\n",
      "             precision    recall  f1-score   support\n",
      "\n",
      "          0       0.73      0.35      0.47        23\n",
      "          1       0.72      0.93      0.81        41\n",
      "\n",
      "avg / total       0.72      0.72      0.69        64\n",
      "\n"
     ]
    },
    {
     "data": {
      "image/png": "[encoded data removed]",
      "text/plain": [
       "<matplotlib.figure.Figure at 0x114a80cd0>"
      ]
     },
     "metadata": {},
     "output_type": "display_data"
    },
    {
     "data": {
      "image/png": "[encoded data removed]",
      "text/plain": [
       "<matplotlib.figure.Figure at 0x11c127450>"
      ]
     },
     "metadata": {},
     "output_type": "display_data"
    }
   ],
   "source": [
    "# random forest\n",
    "\n",
    "from sklearn.naive_bayes import GaussianNB\n",
    "\n",
    "param_grid = [{}]\n",
    "  \n",
    "pln = pipeline.Pipeline([\n",
    "    ( 'nb', GaussianNB() ),\n",
    "])\n",
    "\n",
    "# fit the model \n",
    "clf = GridSearchCV( pln, param_grid, cv=10 )\n",
    "clf.fit( X_train, y_train )\n",
    "\n",
    "# predict class labels in test set \n",
    "y_true, y_pred = y_test, clf.predict(X_test)\n",
    "\n",
    "# print(\"Best parameters found on training set\")\n",
    "# print(clf.best_params_)\n",
    "\n",
    "# print(\"Grid scores on training set\")\n",
    "# for params, mean_score, scores in clf.grid_scores_:\n",
    "#     print(\"%0.3f (±%0.03f) for %r\" % (mean_score, scores.std() * 2, params))\n",
    "\n",
    "#print(\"Detailed classification report\")\n",
    "\n",
    "print confusion_matrix( y_true, y_pred )\n",
    "print classification_report( y_true, y_pred )\n",
    "\n",
    "y_desc = clf.predict_proba( X_test )\n",
    "y_prob = [ i[j] for i, j in zip( y_desc, y_true ) ] # the probability for the given class label\n",
    "\n",
    "# ROC curve \n",
    "tpr, fpr, __ = roc_curve( y_true, y_prob ) \n",
    "my_auc = roc_auc_score( y_true, y_prob ) \n",
    "plt.figure( figsize=( 3,3 ) ) \n",
    "plt.plot( tpr, fpr ) \n",
    "plt.xlabel( 'True positive rate' )\n",
    "plt.ylabel( 'False positive rate' )\n",
    "plt.title( 'ROC AUC={0:.2f}'.format( my_auc ) ) \n",
    "plt.show()\n",
    "\n",
    "# Precision-recall curve \n",
    "precision, recall, __ = precision_recall_curve( y_true, y_prob ) \n",
    "my_auc = average_precision_score( y_true, y_prob ) \n",
    "plt.figure( figsize=( 3,3 ) ) \n",
    "plt.plot( recall, precision ) \n",
    "plt.xlabel( 'Recall' )\n",
    "plt.ylabel( 'Precision' )\n",
    "plt.title( 'Precision-recall AUC={0:.2f}'.format( my_auc ) ) \n",
    "plt.show()\n",
    "\n",
    "# Feature importance \n",
    "# feat_import = clf.best_estimator_.named_steps['rf'].feature_importances_\n",
    "# w = pandas.DataFrame( zip( df.columns[:-1], feat_import ), columns=['feature','importance'] )\n",
    "# w.set_index( 'feature', inplace=True ) \n",
    "# w.sort_values( by='importance', ascending=False )"
   ]
  },
  {
   "cell_type": "code",
   "execution_count": 145,
   "metadata": {
    "collapsed": false
   },
   "outputs": [
    {
     "name": "stdout",
     "output_type": "stream",
     "text": [
      "[0 0 0 0 0 0 0 0 0 0 0 0 0 0 0 0 0 0 0 0 0 0 0 0 0 0 0 0 0 0 0 0 0 0 0 0 0\n",
      " 0 0 0 0 0 0 0 0 0 0 0 0 0 0 0 0 0 0 0 0 0 0 0 0 0 0 0 0 0 0 0 0 0 0 0 0 0\n",
      " 0 0 0 0 0 0 0 0 0 0 0 0 0 0 0 0 0 0 0 0 0 0 0 0 0 0 0 0 1 0 0 0 0 0 0 0 1\n",
      " 0 0 0 0 0 0 0 0 0 0 0 0 0 0 0 0 0]\n",
      "[[43  0]\n",
      " [83  2]]\n",
      "             precision    recall  f1-score   support\n",
      "\n",
      "          0       0.34      1.00      0.51        43\n",
      "          1       1.00      0.02      0.05        85\n",
      "\n",
      "avg / total       0.78      0.35      0.20       128\n",
      "\n"
     ]
    }
   ],
   "source": [
    "from sklearn.naive_bayes import GaussianNB\n",
    "\n",
    "param_grid = [{}]\n",
    "  \n",
    "pln = pipeline.Pipeline([\n",
    "    ( 'nb', GaussianNB() ),\n",
    "])\n",
    "\n",
    "# fit the model \n",
    "clf = GridSearchCV( pln, param_grid, cv=10 )\n",
    "clf.fit( X, y )\n",
    "preds = clf.predict( X )\n",
    "prob = clf.predict_proba( X ) \n",
    "\n",
    "print preds\n",
    "\n",
    "print confusion_matrix( y, preds )\n",
    "print classification_report( y, preds ) "
   ]
  },
  {
   "cell_type": "code",
   "execution_count": 74,
   "metadata": {
    "collapsed": false,
    "scrolled": false,
    "slideshow": {
     "slide_type": "slide"
    }
   },
   "outputs": [],
   "source": [
    "# random forest\n",
    "\n",
    "param_grid = [\n",
    "    { \n",
    "        'rf__criterion': [ 'entropy', 'gini' ], \n",
    "        'rf__n_estimators': [ 10, 50 ], \n",
    "        'rf__max_features': [ 1, 2, 'sqrt', None ], \n",
    "        'rf__max_depth': [ 2, 3, 6 ], \n",
    "        'rf__class_weight': [ 'balanced_subsample' ], \n",
    "    },\n",
    "]\n",
    "  \n",
    "pln = pipeline.Pipeline([\n",
    "    ( 'rf', ensemble.RandomForestClassifier() ),\n",
    "])"
   ]
  },
  {
   "cell_type": "code",
   "execution_count": 76,
   "metadata": {
    "collapsed": false
   },
   "outputs": [
    {
     "data": {
      "text/plain": [
       "(0.61002886002886003,\n",
       " array([ 0.63239538,  0.46861472,  0.61796537,  0.57792208,  0.58369408,\n",
       "         0.56890332,  0.53860029,  0.59415584,  0.55519481,  0.56132756,\n",
       "         0.56493506,  0.53138528,  0.47438672,  0.55555556,  0.57034632,\n",
       "         0.62409812,  0.59343434,  0.52994228,  0.5       ,  0.56277056,\n",
       "         0.49422799,  0.5952381 ,  0.5465368 ,  0.53823954,  0.52344877,\n",
       "         0.53823954,  0.6482684 ,  0.51731602,  0.49134199,  0.49170274,\n",
       "         0.56385281,  0.5       ,  0.62698413,  0.57142857,  0.61038961,\n",
       "         0.57864358,  0.6010101 ,  0.56998557,  0.60137085,  0.50757576,\n",
       "         0.64790765,  0.55339105,  0.53318903,  0.62518038,  0.57034632,\n",
       "         0.54689755,  0.51515152,  0.56277056,  0.58513709,  0.50108225,\n",
       "         0.56349206,  0.54004329,  0.5465368 ,  0.57900433,  0.57720058,\n",
       "         0.59379509,  0.58621934,  0.50829726,  0.59343434,  0.63095238,\n",
       "         0.55483405,  0.53860029,  0.53860029,  0.55627706,  0.51587302,\n",
       "         0.56926407,  0.56962482,  0.46103896,  0.55663781,  0.55483405,\n",
       "         0.55483405,  0.63961039,  0.61832612,  0.43759019,  0.46861472,\n",
       "         0.55591631,  0.5465368 ,  0.55411255,  0.52344877,  0.63997114,\n",
       "         0.49242424,  0.5465368 ,  0.58477633,  0.59271284,  0.53138528,\n",
       "         0.6024531 ,  0.53896104,  0.53138528,  0.56349206,  0.56926407,\n",
       "         0.54761905,  0.53138528,  0.55483405,  0.57106782,  0.56168831,\n",
       "         0.5472583 ,  0.55483405,  0.5465368 ,  0.64069264,  0.57792208]),\n",
       " 0.13861386138613863)"
      ]
     },
     "execution_count": 76,
     "metadata": {},
     "output_type": "execute_result"
    }
   ],
   "source": []
  },
  {
   "cell_type": "code",
   "execution_count": 85,
   "metadata": {
    "collapsed": false
   },
   "outputs": [
    {
     "name": "stdout",
     "output_type": "stream",
     "text": [
      "precision=0.68, p=0.02\n"
     ]
    },
    {
     "data": {
      "text/plain": [
       "<matplotlib.axes._subplots.AxesSubplot at 0x1191eb790>"
      ]
     },
     "execution_count": 85,
     "metadata": {},
     "output_type": "execute_result"
    },
    {
     "data": {
      "image/png": "[encoded data removed]",
      "text/plain": [
       "<matplotlib.figure.Figure at 0x118de4c10>"
      ]
     },
     "metadata": {},
     "output_type": "display_data"
    }
   ],
   "source": [
    "skf = cross_validation.StratifiedKFold( y, 10 ) \n",
    "rf = ensemble.RandomForestClassifier( class_weight='balanced_subsample' )\n",
    "\n",
    "average_score, scores, p_value = cross_validation.permutation_test_score( rf, X, y, cv=skf, scoring='accuracy' ) \n",
    "\n",
    "print 'precision={0:2.2f}, p={1:2.2f}'.format( average_score, p_value ) \n",
    "\n",
    "plt.figure( figsize=( 9, 3 ) )\n",
    "plt.subplot( 1, 2, 1 ) \n",
    "plt.plot( range( len( scores ) ), scores, color='k' )\n",
    "plt.xlabel( 'Iteration' ) \n",
    "plt.ylabel( 'Model precision' ) \n",
    "plt.title( 'Stability across permutations' ) \n",
    "\n",
    "plt.subplot( 1, 2, 2 ) \n"
   ]
  },
  {
   "cell_type": "code",
   "execution_count": 161,
   "metadata": {
    "collapsed": false,
    "slideshow": {
     "slide_type": "slide"
    }
   },
   "outputs": [
    {
     "name": "stdout",
     "output_type": "stream",
     "text": [
      "             precision    recall  f1-score   support\n",
      "\n",
      "          0       0.61      0.48      0.54        23\n",
      "          1       0.74      0.83      0.78        41\n",
      "\n",
      "avg / total       0.69      0.70      0.69        64\n",
      "\n",
      "[[11 12]\n",
      " [ 7 34]]\n"
     ]
    },
    {
     "data": {
      "image/png": "[encoded data removed]",
      "text/plain": [
       "<matplotlib.figure.Figure at 0x11a6cd5d0>"
      ]
     },
     "metadata": {},
     "output_type": "display_data"
    },
    {
     "data": {
      "image/png": "[encoded data removed]",
      "text/plain": [
       "<matplotlib.figure.Figure at 0x11b064dd0>"
      ]
     },
     "metadata": {},
     "output_type": "display_data"
    },
    {
     "ename": "KeyError",
     "evalue": "'rf'",
     "output_type": "error",
     "traceback": [
      "\u001b[0;31m---------------------------------------------------------------------------\u001b[0m",
      "\u001b[0;31mKeyError\u001b[0m                                  Traceback (most recent call last)",
      "\u001b[0;32m<ipython-input-161-c41785d19fb1>\u001b[0m in \u001b[0;36m<module>\u001b[0;34m()\u001b[0m\n\u001b[1;32m     48\u001b[0m \u001b[0;34m\u001b[0m\u001b[0m\n\u001b[1;32m     49\u001b[0m \u001b[0;31m# Feature importance\u001b[0m\u001b[0;34m\u001b[0m\u001b[0;34m\u001b[0m\u001b[0m\n\u001b[0;32m---> 50\u001b[0;31m \u001b[0mfeat_import\u001b[0m \u001b[0;34m=\u001b[0m \u001b[0mclf\u001b[0m\u001b[0;34m.\u001b[0m\u001b[0mbest_estimator_\u001b[0m\u001b[0;34m.\u001b[0m\u001b[0mnamed_steps\u001b[0m\u001b[0;34m[\u001b[0m\u001b[0;34m'rf'\u001b[0m\u001b[0;34m]\u001b[0m\u001b[0;34m.\u001b[0m\u001b[0mfeature_importances_\u001b[0m\u001b[0;34m\u001b[0m\u001b[0m\n\u001b[0m\u001b[1;32m     51\u001b[0m \u001b[0mw\u001b[0m \u001b[0;34m=\u001b[0m \u001b[0mpandas\u001b[0m\u001b[0;34m.\u001b[0m\u001b[0mDataFrame\u001b[0m\u001b[0;34m(\u001b[0m \u001b[0mzip\u001b[0m\u001b[0;34m(\u001b[0m \u001b[0mdf\u001b[0m\u001b[0;34m.\u001b[0m\u001b[0mcolumns\u001b[0m\u001b[0;34m[\u001b[0m\u001b[0;34m:\u001b[0m\u001b[0;34m-\u001b[0m\u001b[0;36m1\u001b[0m\u001b[0;34m]\u001b[0m\u001b[0;34m,\u001b[0m \u001b[0mfeat_import\u001b[0m \u001b[0;34m)\u001b[0m\u001b[0;34m,\u001b[0m \u001b[0mcolumns\u001b[0m\u001b[0;34m=\u001b[0m\u001b[0;34m[\u001b[0m\u001b[0;34m'feature'\u001b[0m\u001b[0;34m,\u001b[0m\u001b[0;34m'importance'\u001b[0m\u001b[0;34m]\u001b[0m \u001b[0;34m)\u001b[0m\u001b[0;34m\u001b[0m\u001b[0m\n\u001b[1;32m     52\u001b[0m \u001b[0mw\u001b[0m\u001b[0;34m.\u001b[0m\u001b[0mset_index\u001b[0m\u001b[0;34m(\u001b[0m \u001b[0;34m'feature'\u001b[0m\u001b[0;34m,\u001b[0m \u001b[0minplace\u001b[0m\u001b[0;34m=\u001b[0m\u001b[0mTrue\u001b[0m \u001b[0;34m)\u001b[0m\u001b[0;34m\u001b[0m\u001b[0m\n",
      "\u001b[0;31mKeyError\u001b[0m: 'rf'"
     ]
    }
   ],
   "source": [
    "# fit the model \n",
    "clf = GridSearchCV( pln, param_grid, cv=10 )\n",
    "clf.fit( X_train, y_train )\n",
    "\n",
    "# predict class labels in test set \n",
    "y_true, y_pred = y_test, clf.predict(X_test)\n",
    "\n",
    "# print(\"Best parameters found on training set\")\n",
    "# print(clf.best_params_)\n",
    "\n",
    "# print(\"Grid scores on training set\")\n",
    "# for params, mean_score, scores in clf.grid_scores_:\n",
    "#     print(\"%0.3f (±%0.03f) for %r\" % (mean_score, scores.std() * 2, params))\n",
    "\n",
    "#print(\"Detailed classification report\")\n",
    "\n",
    "from sklearn.metrics import confusion_matrix\n",
    "\n",
    "print classification_report( y_true, y_pred )\n",
    "print confusion_matrix( y_true, y_pred ) \n",
    "\n",
    "y_desc = clf.predict_proba( X_test )\n",
    "y_prob = y_desc[:,1] #[ i[j] for i, j in zip( y_desc, y_true ) ] # the probability for the given class label\n",
    "\n",
    "# ROC curve \n",
    "tpr, fpr, __ = roc_curve( y_true, y_prob ) \n",
    "my_auc = roc_auc_score( y_true, y_prob ) \n",
    "plt.figure( figsize=( 3,3 ) ) \n",
    "plt.plot( tpr, fpr ) \n",
    "plt.xlabel( 'True positive rate' )\n",
    "plt.ylabel( 'False positive rate' )\n",
    "plt.title( 'ROC AUC={0:.2f}'.format( my_auc ) ) \n",
    "plt.xlim( -0.05, 1.05 ) \n",
    "plt.ylim( -0.05, 1.05 ) \n",
    "plt.show()\n",
    "\n",
    "# Precision-recall curve \n",
    "precision, recall, __ = precision_recall_curve( y_true, y_prob ) \n",
    "my_auc = average_precision_score( y_true, y_prob ) \n",
    "plt.figure( figsize=( 3,3 ) ) \n",
    "plt.plot( recall, precision ) \n",
    "plt.xlabel( 'Recall' )\n",
    "plt.ylabel( 'Precision' )\n",
    "plt.title( 'Precision-recall AUC={0:.2f}'.format( my_auc ) ) \n",
    "plt.xlim( -0.05, 1.05 ) \n",
    "plt.ylim( -0.05, 1.05 ) \n",
    "plt.show()\n",
    "\n",
    "# Feature importance \n",
    "feat_import = clf.best_estimator_.named_steps['rf'].feature_importances_\n",
    "w = pandas.DataFrame( zip( df.columns[:-1], feat_import ), columns=['feature','importance'] )\n",
    "w.set_index( 'feature', inplace=True ) \n",
    "w.sort_values( by='importance', ascending=False )"
   ]
  },
  {
   "cell_type": "code",
   "execution_count": null,
   "metadata": {
    "collapsed": false,
    "scrolled": false
   },
   "outputs": [],
   "source": [
    "# SVM with PCA \n",
    "param_grid = [\n",
    "    { \n",
    "        'svm__kernel': [ 'rbf', 'linear' ], \n",
    "        'svm__gamma': [ 1e-3, 1e-4 ],\n",
    "        'svm__C': [ .1, .3, 3, 30 ],  \n",
    "        'svm__class_weight': [ 'balanced' ],\n",
    "        'pca__n_components': [ 2, 5, 10 ], \n",
    "        'pca__whiten': [ True ], \n",
    "    },\n",
    "]\n",
    "\n",
    "scores = ['precision', 'recall']\n",
    "\n",
    "for score in scores:\n",
    "    print(\"# Tuning hyper-parameters for %s\" % score)\n",
    "        \n",
    "    pln = pipeline.Pipeline([\n",
    "        ( 'pca', decomposition.PCA() ), \n",
    "        ( 'svm', svm.SVC() ),\n",
    "    ])\n",
    "\n",
    "    clf = GridSearchCV(pln, param_grid, cv=10, scoring='%s_weighted' % score)\n",
    "    clf.fit(X_train, y_train)\n",
    "\n",
    "    print(\"Best parameters set found on development set:\")\n",
    "\n",
    "    print(clf.best_params_)\n",
    "    print \n",
    "    print(\"Grid scores on development set:\")\n",
    "    print \n",
    "    for params, mean_score, scores in clf.grid_scores_:\n",
    "        print(\"%0.3f (+/-%0.03f) for %r\"\n",
    "              % (mean_score, scores.std() * 2, params))\n",
    "    print \n",
    "\n",
    "    print(\"Detailed classification report:\")\n",
    "    print \n",
    "    print(\"The model is trained on the full development set.\")\n",
    "    print(\"The scores are computed on the full evaluation set.\")\n",
    "    print \n",
    "    y_true, y_pred = y_test, clf.predict(X_test)\n",
    "    print(classification_report(y_true, y_pred))\n",
    "    y_desc = clf.decision_function(X_test) \n",
    "    tpr, fpr, __ = roc_curve( y_true, y_desc ) \n",
    "    my_auc = roc_auc_score( y_true, y_desc ) \n",
    "    plt.figure( figsize=( 3,3 ) ) \n",
    "    plt.plot( tpr, fpr ) \n",
    "    plt.title( 'AUC={}'.format( my_auc ) ) \n",
    "    plt.show()"
   ]
  },
  {
   "cell_type": "code",
   "execution_count": 159,
   "metadata": {
    "collapsed": false
   },
   "outputs": [
    {
     "name": "stdout",
     "output_type": "stream",
     "text": [
      "[1 1 0 1 0 0 0 0 0 1 0 1 1 1 1 1 1 1 1 1 1 1 1 1 1 1 0 0 1 0 1 0 0 0 0 0 0\n",
      " 0 0 0 0 0 1 0 1 0 0 0 1 1 0 0 0 0 0 0 0 1 0 1 1 1 1 0 1 1 1 1 1 1 1 1 0 1\n",
      " 1 1 1 1 1 1 1 1 1 1 1 0 1 1 1 1 1 0 1 1 1 1 1 0 1 0 1 1 1 1 1 1 0 1 1 1 1\n",
      " 0 0 0 1 1 1 1 0 1 1 0 0 0 0 1 0 0]\n",
      "[[33 10]\n",
      " [17 68]]\n",
      "             precision    recall  f1-score   support\n",
      "\n",
      "          0       0.66      0.77      0.71        43\n",
      "          1       0.87      0.80      0.83        85\n",
      "\n",
      "avg / total       0.80      0.79      0.79       128\n",
      "\n"
     ]
    },
    {
     "data": {
      "image/png": "[encoded data removed]",
      "text/plain": [
       "<matplotlib.figure.Figure at 0x11928a850>"
      ]
     },
     "metadata": {},
     "output_type": "display_data"
    },
    {
     "data": {
      "text/html": [
       "<div>\n",
       "<table border=\"1\" class=\"dataframe\">\n",
       "  <thead>\n",
       "    <tr style=\"text-align: right;\">\n",
       "      <th></th>\n",
       "      <th>importance</th>\n",
       "    </tr>\n",
       "    <tr>\n",
       "      <th>feature</th>\n",
       "      <th></th>\n",
       "    </tr>\n",
       "  </thead>\n",
       "  <tbody>\n",
       "    <tr>\n",
       "      <th>Solvation Hydrophobic</th>\n",
       "      <td>4.392592</td>\n",
       "    </tr>\n",
       "    <tr>\n",
       "      <th>backbone clash</th>\n",
       "      <td>3.210454</td>\n",
       "    </tr>\n",
       "    <tr>\n",
       "      <th>Sidechain Hbond</th>\n",
       "      <td>2.908461</td>\n",
       "    </tr>\n",
       "    <tr>\n",
       "      <th>torsional clash</th>\n",
       "      <td>1.714557</td>\n",
       "    </tr>\n",
       "    <tr>\n",
       "      <th>energy Ionisation</th>\n",
       "      <td>0.238191</td>\n",
       "    </tr>\n",
       "    <tr>\n",
       "      <th>Electrostatics</th>\n",
       "      <td>-0.900726</td>\n",
       "    </tr>\n",
       "    <tr>\n",
       "      <th>Solvation Polar</th>\n",
       "      <td>-1.103699</td>\n",
       "    </tr>\n",
       "    <tr>\n",
       "      <th>entropy mainchain</th>\n",
       "      <td>-1.504572</td>\n",
       "    </tr>\n",
       "    <tr>\n",
       "      <th>Backbone Hbond</th>\n",
       "      <td>-1.794767</td>\n",
       "    </tr>\n",
       "    <tr>\n",
       "      <th>entropy sidechain</th>\n",
       "      <td>-2.656212</td>\n",
       "    </tr>\n",
       "    <tr>\n",
       "      <th>helix dipole</th>\n",
       "      <td>-3.209701</td>\n",
       "    </tr>\n",
       "    <tr>\n",
       "      <th>electrostatic kon</th>\n",
       "      <td>-4.029873</td>\n",
       "    </tr>\n",
       "    <tr>\n",
       "      <th>Van der Waals</th>\n",
       "      <td>-6.763384</td>\n",
       "    </tr>\n",
       "    <tr>\n",
       "      <th>Van der Waals clashes</th>\n",
       "      <td>-8.820838</td>\n",
       "    </tr>\n",
       "    <tr>\n",
       "      <th>total energy</th>\n",
       "      <td>-9.183690</td>\n",
       "    </tr>\n",
       "  </tbody>\n",
       "</table>\n",
       "</div>"
      ],
      "text/plain": [
       "                       importance\n",
       "feature                          \n",
       "Solvation Hydrophobic    4.392592\n",
       "backbone clash           3.210454\n",
       "Sidechain Hbond          2.908461\n",
       "torsional clash          1.714557\n",
       "energy Ionisation        0.238191\n",
       "Electrostatics          -0.900726\n",
       "Solvation Polar         -1.103699\n",
       "entropy mainchain       -1.504572\n",
       "Backbone Hbond          -1.794767\n",
       "entropy sidechain       -2.656212\n",
       "helix dipole            -3.209701\n",
       "electrostatic kon       -4.029873\n",
       "Van der Waals           -6.763384\n",
       "Van der Waals clashes   -8.820838\n",
       "total energy            -9.183690"
      ]
     },
     "execution_count": 159,
     "metadata": {},
     "output_type": "execute_result"
    }
   ],
   "source": [
    "# logistic regression \n",
    "\n",
    "# Set the parameters by cross-validation\n",
    "param_grid = [\n",
    "    { \n",
    "        'logit__class_weight': [ 'balanced', None ], \n",
    "    },\n",
    "]\n",
    "  \n",
    "pln = pipeline.Pipeline([\n",
    "    ( 'logit', LogisticRegressionCV() ),\n",
    "])\n",
    "\n",
    "clf = GridSearchCV( pln, param_grid, cv=10 )\n",
    "clf.fit( X, y )\n",
    "preds = clf.predict( X )\n",
    "prob = clf.predict_proba( X )[:,1]\n",
    "print preds\n",
    "\n",
    "print confusion_matrix( y, preds )\n",
    "print classification_report( y, preds ) \n",
    "\n",
    "tpr, fpr, __ = roc_curve( y, prob ) \n",
    "my_auc = roc_auc_score( y, prob ) \n",
    "plt.figure( figsize=( 3,3 ) ) \n",
    "plt.plot( tpr, fpr ) \n",
    "plt.xlabel( 'True positive rate' )\n",
    "plt.ylabel( 'False positive rate' )\n",
    "plt.plot( [0,1], [0,1] ) \n",
    "plt.title( 'AUC={0:.2f}'.format( my_auc ) )\n",
    "plt.xlim( -0.05, 1.05 )\n",
    "plt.ylim( -0.05, 1.05 )\n",
    "plt.show()\n",
    "\n",
    "feat_import = clf.best_estimator_.named_steps['logit'].coef_[0]\n",
    "w = pandas.DataFrame( zip( df.columns[:-1], feat_import ), columns=['feature','importance'] )\n",
    "w.set_index( 'feature', inplace=True ) \n",
    "w.sort_values( by='importance', ascending=False )"
   ]
  },
  {
   "cell_type": "code",
   "execution_count": 160,
   "metadata": {
    "collapsed": false
   },
   "outputs": [
    {
     "name": "stdout",
     "output_type": "stream",
     "text": [
      "Best parameters found on training set\n",
      "{'logit__class_weight': None}\n",
      "Grid scores on training set\n",
      "0.625 (±0.234) for {'logit__class_weight': 'balanced'}\n",
      "0.656 (±0.130) for {'logit__class_weight': None}\n",
      "Detailed classification report\n",
      "             precision    recall  f1-score   support\n",
      "\n",
      "          0       0.61      0.48      0.54        23\n",
      "          1       0.74      0.83      0.78        41\n",
      "\n",
      "avg / total       0.69      0.70      0.69        64\n",
      "\n"
     ]
    },
    {
     "data": {
      "image/png": "[encoded data removed]",
      "text/plain": [
       "<matplotlib.figure.Figure at 0x11a816e10>"
      ]
     },
     "metadata": {},
     "output_type": "display_data"
    },
    {
     "data": {
      "text/html": [
       "<div>\n",
       "<table border=\"1\" class=\"dataframe\">\n",
       "  <thead>\n",
       "    <tr style=\"text-align: right;\">\n",
       "      <th></th>\n",
       "      <th>importance</th>\n",
       "    </tr>\n",
       "    <tr>\n",
       "      <th>feature</th>\n",
       "      <th></th>\n",
       "    </tr>\n",
       "  </thead>\n",
       "  <tbody>\n",
       "    <tr>\n",
       "      <th>Solvation Hydrophobic</th>\n",
       "      <td>7.790288e+00</td>\n",
       "    </tr>\n",
       "    <tr>\n",
       "      <th>Sidechain Hbond</th>\n",
       "      <td>5.659010e+00</td>\n",
       "    </tr>\n",
       "    <tr>\n",
       "      <th>backbone clash</th>\n",
       "      <td>4.305304e+00</td>\n",
       "    </tr>\n",
       "    <tr>\n",
       "      <th>Solvation Polar</th>\n",
       "      <td>9.122644e-01</td>\n",
       "    </tr>\n",
       "    <tr>\n",
       "      <th>electrostatic kon</th>\n",
       "      <td>1.378353e-09</td>\n",
       "    </tr>\n",
       "    <tr>\n",
       "      <th>Backbone Hbond</th>\n",
       "      <td>-3.855692e-01</td>\n",
       "    </tr>\n",
       "    <tr>\n",
       "      <th>entropy mainchain</th>\n",
       "      <td>-2.357306e+00</td>\n",
       "    </tr>\n",
       "    <tr>\n",
       "      <th>Electrostatics</th>\n",
       "      <td>-2.874644e+00</td>\n",
       "    </tr>\n",
       "    <tr>\n",
       "      <th>energy Ionisation</th>\n",
       "      <td>-3.291004e+00</td>\n",
       "    </tr>\n",
       "    <tr>\n",
       "      <th>torsional clash</th>\n",
       "      <td>-3.291247e+00</td>\n",
       "    </tr>\n",
       "    <tr>\n",
       "      <th>entropy sidechain</th>\n",
       "      <td>-4.136304e+00</td>\n",
       "    </tr>\n",
       "    <tr>\n",
       "      <th>helix dipole</th>\n",
       "      <td>-6.812849e+00</td>\n",
       "    </tr>\n",
       "    <tr>\n",
       "      <th>Van der Waals</th>\n",
       "      <td>-8.730727e+00</td>\n",
       "    </tr>\n",
       "    <tr>\n",
       "      <th>Van der Waals clashes</th>\n",
       "      <td>-1.087669e+01</td>\n",
       "    </tr>\n",
       "    <tr>\n",
       "      <th>total energy</th>\n",
       "      <td>-1.089706e+01</td>\n",
       "    </tr>\n",
       "  </tbody>\n",
       "</table>\n",
       "</div>"
      ],
      "text/plain": [
       "                         importance\n",
       "feature                            \n",
       "Solvation Hydrophobic  7.790288e+00\n",
       "Sidechain Hbond        5.659010e+00\n",
       "backbone clash         4.305304e+00\n",
       "Solvation Polar        9.122644e-01\n",
       "electrostatic kon      1.378353e-09\n",
       "Backbone Hbond        -3.855692e-01\n",
       "entropy mainchain     -2.357306e+00\n",
       "Electrostatics        -2.874644e+00\n",
       "energy Ionisation     -3.291004e+00\n",
       "torsional clash       -3.291247e+00\n",
       "entropy sidechain     -4.136304e+00\n",
       "helix dipole          -6.812849e+00\n",
       "Van der Waals         -8.730727e+00\n",
       "Van der Waals clashes -1.087669e+01\n",
       "total energy          -1.089706e+01"
      ]
     },
     "execution_count": 160,
     "metadata": {},
     "output_type": "execute_result"
    }
   ],
   "source": [
    "clf = GridSearchCV( pln, param_grid, cv=10 )\n",
    "clf.fit( X_train, y_train )\n",
    "\n",
    "print(\"Best parameters found on training set\")\n",
    "print(clf.best_params_)\n",
    "\n",
    "print(\"Grid scores on training set\")\n",
    "for params, mean_score, scores in clf.grid_scores_:\n",
    "    print(\"%0.3f (±%0.03f) for %r\" % (mean_score, scores.std() * 2, params))\n",
    "\n",
    "print(\"Detailed classification report\")\n",
    "y_true, y_pred = y_test, clf.predict(X_test)\n",
    "print(classification_report(y_true, y_pred))\n",
    "\n",
    "y_desc = clf.predict_proba( X_test )\n",
    "# gives a pair p(0), p(1) where p is probability and [0,1] are class labels \n",
    "# sum to 1 \n",
    "y_prob = y_desc[:,1] # = [ i[j] for i, j in zip( y_desc, y_true ) ] # the probability for the given class label\n",
    "\n",
    "tpr, fpr, __ = roc_curve( y_true, y_prob ) \n",
    "my_auc = roc_auc_score( y_true, y_prob ) \n",
    "plt.figure( figsize=( 3,3 ) ) \n",
    "plt.plot( tpr, fpr ) \n",
    "plt.xlabel( 'True positive rate' )\n",
    "plt.ylabel( 'False positive rate' )\n",
    "plt.title( 'AUC={0:.2f}'.format( my_auc ) ) \n",
    "plt.show()\n",
    "\n",
    "feat_import = clf.best_estimator_.named_steps['logit'].coef_[0]\n",
    "w = pandas.DataFrame( zip( df.columns[:-1], feat_import ), columns=['feature','importance'] )\n",
    "w.set_index( 'feature', inplace=True ) \n",
    "w.sort_values( by='importance', ascending=False )"
   ]
  },
  {
   "cell_type": "code",
   "execution_count": null,
   "metadata": {
    "collapsed": true
   },
   "outputs": [],
   "source": []
  }
 ],
 "metadata": {
  "celltoolbar": "Slideshow",
  "kernelspec": {
   "display_name": "Python 2",
   "language": "python",
   "name": "python2"
  },
  "language_info": {
   "codemirror_mode": {
    "name": "ipython",
    "version": 2
   },
   "file_extension": ".py",
   "mimetype": "text/x-python",
   "name": "python",
   "nbconvert_exporter": "python",
   "pygments_lexer": "ipython2",
   "version": "2.7.11"
  }
 },
 "nbformat": 4,
 "nbformat_minor": 0
}
