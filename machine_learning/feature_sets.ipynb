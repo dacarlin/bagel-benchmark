{
 "cells": [
  {
   "cell_type": "code",
   "execution_count": 182,
   "metadata": {
    "collapsed": false
   },
   "outputs": [],
   "source": [
    "%matplotlib inline\n",
    "import matplotlib.pyplot as plt \n",
    "plt.style.use( 'ggplot' ) "
   ]
  },
  {
   "cell_type": "code",
   "execution_count": 183,
   "metadata": {
    "collapsed": true
   },
   "outputs": [],
   "source": [
    "import pandas \n",
    "from sklearn.preprocessing import MinMaxScaler\n",
    "import numpy as np \n",
    "import pickle"
   ]
  },
  {
   "cell_type": "code",
   "execution_count": 184,
   "metadata": {
    "collapsed": true
   },
   "outputs": [],
   "source": [
    "paths = [ \n",
    "    '../rosetta_runs/benchmark/feature_set.csv', \n",
    "    '../rosetta_runs/shells/feature_set.csv',\n",
    "    '../rosetta_runs/ddg_monomer/feature_set.csv', \n",
    "    '../rosetta_runs/new_protocol/feature_set.csv', \n",
    "    '../foldx_runs/pssm/feature_set.csv', \n",
    "    # '../rosetta_runs/homology_models/feature_set.csv', \n",
    "]"
   ]
  },
  {
   "cell_type": "code",
   "execution_count": 185,
   "metadata": {
    "collapsed": false
   },
   "outputs": [],
   "source": [
    "dat = pandas.read_csv( '../data_sets/experimental/plos_2016.csv', index_col=0 )\n",
    "dat.kcat = np.log10( dat.kcat / 880 )\n",
    "dat.km = np.log10( dat.km / 5.5 )\n",
    "dat.kcatkm = np.log10( dat.kcatkm / 174000 )\n",
    "dat = dat.replace( [ np.inf, -np.inf ], -5 )"
   ]
  },
  {
   "cell_type": "code",
   "execution_count": 186,
   "metadata": {
    "collapsed": false
   },
   "outputs": [],
   "source": [
    "targets = [ 'kcat', 'km', 'kcatkm' ] "
   ]
  },
  {
   "cell_type": "code",
   "execution_count": 187,
   "metadata": {
    "collapsed": false,
    "scrolled": false
   },
   "outputs": [],
   "source": [
    "combos = []\n",
    "for feature_set in paths:\n",
    "    feats = pandas.read_csv( feature_set, index_col=0 )\n",
    "    nm = feature_set.split( '/' )[2]\n",
    "    for target in targets:\n",
    "        J = dat[[ target ]].join( feats ).dropna()\n",
    "        scaler = MinMaxScaler()\n",
    "        X = scaler.fit_transform( J )\n",
    "        y = J.ix[ : , 0 ].ravel()\n",
    "        X = X[ : , 1: ] \n",
    "        combos.append( ( nm, target, X, y, J.columns[ 1: ] ) )"
   ]
  },
  {
   "cell_type": "code",
   "execution_count": 188,
   "metadata": {
    "collapsed": false
   },
   "outputs": [],
   "source": [
    "with open( 'combos.pkl', 'wb' ) as fn:\n",
    "    pickle.dump( combos, fn ) "
   ]
  },
  {
   "cell_type": "code",
   "execution_count": null,
   "metadata": {
    "collapsed": true
   },
   "outputs": [],
   "source": []
  }
 ],
 "metadata": {
  "anaconda-cloud": {},
  "kernelspec": {
   "display_name": "Python [conda root]",
   "language": "python",
   "name": "conda-root-py"
  },
  "language_info": {
   "codemirror_mode": {
    "name": "ipython",
    "version": 3
   },
   "file_extension": ".py",
   "mimetype": "text/x-python",
   "name": "python",
   "nbconvert_exporter": "python",
   "pygments_lexer": "ipython3",
   "version": "3.5.2"
  }
 },
 "nbformat": 4,
 "nbformat_minor": 1
}
