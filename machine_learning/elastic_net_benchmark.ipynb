{
 "cells": [
  {
   "cell_type": "markdown",
   "metadata": {},
   "source": [
    "In this notebook, we will use elastic net to predict the kinetic constant $k_{cat}$ from 59 features generated from Rosetta models "
   ]
  },
  {
   "cell_type": "code",
   "execution_count": 44,
   "metadata": {
    "collapsed": true
   },
   "outputs": [],
   "source": [
    "import pandas \n",
    "import numpy as np\n",
    "\n",
    "from sklearn.preprocessing import StandardScaler, MinMaxScaler\n",
    "from sklearn.linear_model import ElasticNetCV\n",
    "from sklearn.cross_validation import cross_val_predict\n",
    "\n",
    "from scipy.stats import pearsonr\n",
    "\n",
    "%matplotlib inline\n",
    "import matplotlib.pyplot as plt \n",
    "plt.style.use( 'ggplot' )"
   ]
  },
  {
   "cell_type": "code",
   "execution_count": 45,
   "metadata": {
    "collapsed": true
   },
   "outputs": [],
   "source": [
    "params = [ 'kcat', 'km', 'kcatkm', 'tm' ] "
   ]
  },
  {
   "cell_type": "markdown",
   "metadata": {},
   "source": [
    "First, we will select the lowest 10% of `total_energy` Rosetta models, and then average the features "
   ]
  },
  {
   "cell_type": "code",
   "execution_count": 46,
   "metadata": {
    "collapsed": false
   },
   "outputs": [],
   "source": [
    "f_set = pandas.read_csv( '../rosetta_runs/benchmark/benchmark_feature_set.csv' )\n",
    "f_set = f_set.groupby( 'description' ).apply( lambda x: x.sort_values( by='total_score' ).head( 10 ).mean() )\n",
    "#scl = StandardScaler()\n",
    "scl = MinMaxScaler()\n",
    "f_set = pandas.DataFrame( scl.fit_transform( f_set ), columns=f_set.columns, index=f_set.index )"
   ]
  },
  {
   "cell_type": "markdown",
   "metadata": {},
   "source": [
    "Next, we normalize the data set to the wild type value of 800 min$^{-1}$"
   ]
  },
  {
   "cell_type": "code",
   "execution_count": 47,
   "metadata": {
    "collapsed": false
   },
   "outputs": [],
   "source": [
    "df = pandas.read_csv( '/Users/alex/Documents/bagel-thermal/data_sets/experimental_data/data_set.csv', index_col=0, na_values='?' )\n",
    "df.kcat = np.log10( df.kcat / 888 )\n",
    "df.km = np.log10( df.km / 5 )\n",
    "df.kcatkm = np.log10( df.kcatkm / 174000 )\n",
    "df.tm = df.tm - 39.93 "
   ]
  },
  {
   "cell_type": "markdown",
   "metadata": {},
   "source": [
    "Make sure we're not missing features!"
   ]
  },
  {
   "cell_type": "code",
   "execution_count": 48,
   "metadata": {
    "collapsed": false
   },
   "outputs": [
    {
     "data": {
      "text/plain": [
       "Index(['BglB', 'E164G', 'E353A', 'E423S'], dtype='object')"
      ]
     },
     "execution_count": 48,
     "metadata": {},
     "output_type": "execute_result"
    }
   ],
   "source": [
    "df.index.difference( f_set.index ) "
   ]
  },
  {
   "cell_type": "markdown",
   "metadata": {},
   "source": [
    "Join the features to the experimental data "
   ]
  },
  {
   "cell_type": "code",
   "execution_count": 49,
   "metadata": {
    "collapsed": false
   },
   "outputs": [],
   "source": [
    "df = df.join( f_set )"
   ]
  },
  {
   "cell_type": "code",
   "execution_count": 50,
   "metadata": {
    "collapsed": false
   },
   "outputs": [
    {
     "name": "stdout",
     "output_type": "stream",
     "text": [
      "kcat (77, 59) (77,)\n",
      "km (77, 59) (77,)\n",
      "kcatkm (88, 59) (88,)\n",
      "tm (70, 59) (70,)\n"
     ]
    }
   ],
   "source": [
    "my_features = []\n",
    "\n",
    "for param in params:\n",
    "    my_df = df[ [ param ] + list( f_set.columns ) ].dropna()\n",
    "    X = my_df.ix[ : , 1: ]\n",
    "    y = my_df.ix[ : , 0 ]\n",
    "\n",
    "    print( param, X.shape, y.shape )\n",
    "    my_features.append( ( param, X, y ) ) "
   ]
  },
  {
   "cell_type": "markdown",
   "metadata": {
    "collapsed": true
   },
   "source": [
    "Last, we will use nested cross validation to find the best model for each of the params"
   ]
  },
  {
   "cell_type": "code",
   "execution_count": 53,
   "metadata": {
    "collapsed": false
   },
   "outputs": [
    {
     "data": {
      "text/plain": [
       "<matplotlib.legend.Legend at 0x1163e7da0>"
      ]
     },
     "execution_count": 53,
     "metadata": {},
     "output_type": "execute_result"
    },
    {
     "data": {
      "image/png": "[encoded data removed]",
      "text/plain": [
       "<matplotlib.figure.Figure at 0x1163e7e80>"
      ]
     },
     "metadata": {},
     "output_type": "display_data"
    }
   ],
   "source": [
    "clf = ElasticNetCV( cv=2, max_iter=1e4, eps=1e-1 )\n",
    "preds = cross_val_predict( clf, X, y, cv=4 ) \n",
    "plt.scatter( preds, y, c='k', lw=0, alpha=0.7 )\n",
    "plt.ylabel( 'Measured value' )\n",
    "plt.xlabel( 'Predicted value' ) \n",
    "plt.legend( [ 'PCC {}'.format( pearsonr( preds, y )[0].round( 2 ) ) ] )"
   ]
  }
 ],
 "metadata": {
  "anaconda-cloud": {},
  "kernelspec": {
   "display_name": "Python [conda root]",
   "language": "python",
   "name": "conda-root-py"
  },
  "language_info": {
   "codemirror_mode": {
    "name": "ipython",
    "version": 3
   },
   "file_extension": ".py",
   "mimetype": "text/x-python",
   "name": "python",
   "nbconvert_exporter": "python",
   "pygments_lexer": "ipython3",
   "version": "3.5.2"
  }
 },
 "nbformat": 4,
 "nbformat_minor": 1
}
