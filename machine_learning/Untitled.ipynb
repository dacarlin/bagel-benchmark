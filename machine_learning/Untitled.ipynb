{
 "cells": [
  {
   "cell_type": "code",
   "execution_count": 34,
   "metadata": {
    "collapsed": false,
    "scrolled": false
   },
   "outputs": [],
   "source": [
    "# imports\n",
    "from sklearn.linear_model import LogisticRegression\n",
    "from sklearn.cross_validation import (StratifiedKFold, cross_val_score, cross_val_predict,\n",
    "                                      train_test_split)\n",
    "from sklearn import datasets\n",
    "\n",
    "class proba_logreg(LogisticRegression):\n",
    "    def predict(self, X):\n",
    "        return LogisticRegression.predict_proba(self, X)\n",
    "\n",
    "# setup data\n",
    "import pandas\n",
    "from sklearn import preprocessing\n",
    "\n",
    "scaler = preprocessing.StandardScaler()\n",
    "df = pandas.read_csv( '../data_sets/experimental/expr_144_mutants.csv', index_col=0 )\n",
    "f = pandas.read_csv( '../data_sets/rosetta/enzyme_design_talaris_2013.csv' )\n",
    "f = f.groupby( 'name' ).apply( lambda x: x.sort_values( 'total_score' ).head( 10 ).mean() )\n",
    "J = df.join( f ).dropna()\n",
    "\n",
    "y = J.expression\n",
    "X = J.drop( 'expression', axis=1 ) \n",
    "X = scaler.fit_transform( X ) "
   ]
  },
  {
   "cell_type": "code",
   "execution_count": 37,
   "metadata": {
    "collapsed": false,
    "scrolled": false
   },
   "outputs": [
    {
     "name": "stdout",
     "output_type": "stream",
     "text": [
      "[ 0.42857143  0.35714286  0.5         0.5         0.42857143  0.46153846\n",
      "  0.53846154  0.46153846  0.33333333  0.25      ] 0.425915750916\n"
     ]
    }
   ],
   "source": [
    "\n",
    "# setup model\n",
    "cv = StratifiedKFold(y, 10)\n",
    "logreg = LogisticRegression( class_weight='balanced' )\n",
    "\n",
    "# # cross-validation scores\n",
    "scores = cross_val_score(logreg, X, y, cv=cv)\n",
    "preds = cross_val_predict( logreg, X, y, cv=cv)\n",
    "\n",
    "# # # predict probabilities\n",
    "# # Xtrain, Xtest, ytrain, ytest = train_test_split(X, y)\n",
    "# # logreg.fit(Xtrain, ytrain)\n",
    "# # proba = logreg.predict_proba(Xtest)\n",
    "print scores, scores.mean()\n",
    "zip( y.index, preds, y ) \n",
    "\n",
    "LogisticRegression?"
   ]
  },
  {
   "cell_type": "code",
   "execution_count": 28,
   "metadata": {
    "collapsed": false
   },
   "outputs": [
    {
     "name": "stdout",
     "output_type": "stream",
     "text": [
      "(133, 60) (133,)\n"
     ]
    },
    {
     "data": {
      "text/plain": [
       "[<matplotlib.lines.Line2D at 0x10cb94690>]"
      ]
     },
     "execution_count": 28,
     "metadata": {},
     "output_type": "execute_result"
    },
    {
     "data": {
      "image/png": "[encoded data removed]",
      "text/plain": [
       "<matplotlib.figure.Figure at 0x113cf0150>"
      ]
     },
     "metadata": {},
     "output_type": "display_data"
    }
   ],
   "source": [
    "%matplotlib inline \n",
    "from sklearn import metrics \n",
    "import matplotlib.pyplot as plt \n",
    "\n",
    "print X.shape, y.shape \n",
    "\n",
    "tpr, fpr, __ = metrics.roc_curve( y, preds ) \n",
    "\n",
    "plt.plot( tpr, fpr ) "
   ]
  },
  {
   "cell_type": "code",
   "execution_count": null,
   "metadata": {
    "collapsed": true
   },
   "outputs": [],
   "source": []
  }
 ],
 "metadata": {
  "kernelspec": {
   "display_name": "Python 2",
   "language": "python",
   "name": "python2"
  },
  "language_info": {
   "codemirror_mode": {
    "name": "ipython",
    "version": 2
   },
   "file_extension": ".py",
   "mimetype": "text/x-python",
   "name": "python",
   "nbconvert_exporter": "python",
   "pygments_lexer": "ipython2",
   "version": "2.7.11"
  }
 },
 "nbformat": 4,
 "nbformat_minor": 0
}
