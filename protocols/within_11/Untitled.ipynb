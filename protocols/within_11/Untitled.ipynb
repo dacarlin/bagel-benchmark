{
 "cells": [
  {
   "cell_type": "code",
   "execution_count": 2,
   "metadata": {
    "collapsed": false
   },
   "outputs": [
    {
     "name": "stdout",
     "output_type": "stream",
     "text": [
      "840 mutants\n",
      "42 positions\n",
      "Index([u'S14C', u'S14D', u'S14E', u'S14F', u'S14G', u'S14H', u'S14I', u'S14K',\n",
      "       u'S14L'],\n",
      "      dtype='object', name=u'name')\n"
     ]
    }
   ],
   "source": [
    "import pandas \n",
    "\n",
    "df = pandas.read_csv( '../../data_sets/reference/distance_from_active_site.csv', index_col='name' ) \n",
    "done = pandas.read_csv( '../benchmark/mutant_list', header=None, names=['mutant'] )\n",
    "\n",
    "within_12 = df[ ( df.distance < 12.1 ) ].index\n",
    "\n",
    "print len( within_12 ), 'mutants' \n",
    "print len( within_12 ) / 20, 'positions' \n",
    "\n",
    "print within_12[1:10]"
   ]
  },
  {
   "cell_type": "code",
   "execution_count": 3,
   "metadata": {
    "collapsed": false
   },
   "outputs": [
    {
     "name": "stdout",
     "output_type": "stream",
     "text": [
      "724\n"
     ]
    }
   ],
   "source": [
    "print len( within_12.difference( done.mutant ) )"
   ]
  },
  {
   "cell_type": "code",
   "execution_count": 4,
   "metadata": {
    "collapsed": false
   },
   "outputs": [
    {
     "name": "stdout",
     "output_type": "stream",
     "text": [
      "Y295M\r\n",
      "Y295N\r\n",
      "Y295P\r\n",
      "Y295Q\r\n",
      "Y295R\r\n",
      "Y295S\r\n",
      "Y295T\r\n",
      "Y295V\r\n",
      "Y295W\r\n",
      "Y295Y\r\n"
     ]
    }
   ],
   "source": [
    "with open( 'my_list', 'w' ) as fn:\n",
    "    fn.write( ''.join( [ '{}\\n'.format( i ) for i in within_12.difference( done.mutant ) ] ) )\n",
    "    \n",
    "! tail my_list "
   ]
  },
  {
   "cell_type": "code",
   "execution_count": 5,
   "metadata": {
    "collapsed": false
   },
   "outputs": [
    {
     "ename": "ImportError",
     "evalue": "No module named IUPACData",
     "output_type": "error",
     "traceback": [
      "\u001b[0;31m---------------------------------------------------------------------------\u001b[0m",
      "\u001b[0;31mImportError\u001b[0m                               Traceback (most recent call last)",
      "\u001b[0;32m<ipython-input-5-26bc5828fa0e>\u001b[0m in \u001b[0;36m<module>\u001b[0;34m()\u001b[0m\n\u001b[1;32m     25\u001b[0m \u001b[0mn_struct\u001b[0m \u001b[0;34m=\u001b[0m \u001b[0;36m100\u001b[0m\u001b[0;34m\u001b[0m\u001b[0m\n\u001b[1;32m     26\u001b[0m \u001b[0;34m\u001b[0m\u001b[0m\n\u001b[0;32m---> 27\u001b[0;31m \u001b[0;32mfrom\u001b[0m \u001b[0mBio\u001b[0m\u001b[0;34m.\u001b[0m \u001b[0mIUPACData\u001b[0m \u001b[0;32mimport\u001b[0m \u001b[0mprotein_letters_1to3\u001b[0m\u001b[0;34m\u001b[0m\u001b[0m\n\u001b[0m\u001b[1;32m     28\u001b[0m \u001b[0;34m\u001b[0m\u001b[0m\n\u001b[1;32m     29\u001b[0m \u001b[0;31m# runs = [\u001b[0m\u001b[0;34m\u001b[0m\u001b[0;34m\u001b[0m\u001b[0m\n",
      "\u001b[0;31mImportError\u001b[0m: No module named IUPACData"
     ]
    }
   ],
   "source": [
    "# # this one for MutateResidue \n",
    "\n",
    "# from Bio.SeqUtils import IUPACData\n",
    "# nstruct = 100\n",
    "\n",
    "# with open( 'mutant_list' ) as fn:\n",
    "#     mutants = [ i.strip() for i in fn.readlines() if len( i ) > 1 ] \n",
    "#     print len( mutants ), 'mutants'\n",
    "\n",
    "# nstruct = 100\n",
    "\n",
    "# runs = [\n",
    "#     '-parser:script_vars target={} new_res={} -suffix _{}_{:04d}\\n'.format( \n",
    "#         m[1:-1], IUPACData.protein_letters_1to3[ m[-1] ].upper(), m, i )\n",
    "#     for i in range( nstruct )\n",
    "#     for m in mutants \n",
    "# ]\n",
    "\n",
    "# with open( 'list', 'w' ) as fn:\n",
    "#     fn.write( ''.join( runs ) )\n",
    "    \n",
    "# ! wc -l list \n",
    "# ! head -2 list \n",
    "\n",
    "n_struct = 100 \n",
    "\n",
    "from Bio. IUPACData import protein_letters_1to3\n",
    "\n",
    "# runs = [\n",
    "#     '-parser:script_vars target={} new_res={} -suffix _{}_{:04d}\\n'.format( \n",
    "#         m[1:-1], IUPACData.protein_letters_1to3[ m[-1] ].upper(), m, i )\n",
    "#     for i in range( nstruct )\n",
    "#     for m in mutants \n",
    "# ]"
   ]
  },
  {
   "cell_type": "code",
   "execution_count": 15,
   "metadata": {
    "collapsed": false
   },
   "outputs": [
    {
     "name": "stdout",
     "output_type": "stream",
     "text": [
      "D\n",
      "D\n",
      "V\n",
      "E\n",
      "T\n",
      "T\n",
      "L\n",
      "T\n",
      "G\n",
      "W\n",
      "E\n",
      "F\n",
      "Y\n",
      "P\n",
      "E\n",
      "A\n",
      "S\n",
      "A\n",
      "D\n",
      "G\n",
      "L\n",
      "R\n",
      "S\n",
      "A\n",
      "W\n",
      "E\n",
      "L\n",
      "S\n",
      "G\n",
      "G\n",
      "V\n",
      "P\n",
      "L\n",
      "M\n",
      "I\n",
      "T\n",
      "E\n",
      "N\n",
      "G\n",
      "I\n",
      "A\n",
      "T\n",
      "A\n",
      "D\n",
      "D\n",
      "S\n",
      "R\n",
      "R\n",
      "Q\n",
      "A\n",
      "Y\n",
      "T\n",
      "Q\n",
      "G\n",
      "A\n",
      "L\n",
      "E\n",
      "G\n",
      "I\n",
      "H\n",
      "R\n",
      "C\n",
      "I\n",
      "E\n",
      "D\n",
      "G\n",
      "I\n",
      "E\n",
      "V\n",
      "L\n",
      "G\n",
      "Y\n",
      "Q\n",
      "H\n",
      "W\n",
      "S\n",
      "L\n",
      "L\n",
      "D\n",
      "N\n",
      "Y\n",
      "E\n",
      "W\n",
      "A\n",
      "S\n",
      "G\n",
      "F\n",
      "R\n",
      "P\n",
      "T\n",
      "F\n",
      "G\n",
      "L\n",
      "V\n",
      "A\n",
      "W\n",
      "D\n",
      "R\n",
      "E\n",
      "T\n",
      "F\n",
      "E\n",
      "R\n",
      "T\n",
      "P\n",
      "K\n",
      "D\n",
      "S\n",
      "A\n",
      "R\n",
      "W\n",
      "Y\n",
      "G\n",
      "R\n",
      "V\n",
      "A\n",
      "Q\n",
      "A\n",
      "N\n"
     ]
    }
   ],
   "source": [
    "from skbio import Protein\n",
    "\n",
    "fn = '../../../bagel-data/alignments/PF00232_rp75_unaligned.fa'\n",
    "my_proteins = Protein.read( fn ) \n",
    "    \n",
    "bglb = my_proteins[0]\n",
    "\n",
    "for protein in my_proteins:\n",
    "    print protein"
   ]
  },
  {
   "cell_type": "code",
   "execution_count": null,
   "metadata": {
    "collapsed": true
   },
   "outputs": [],
   "source": []
  }
 ],
 "metadata": {
  "kernelspec": {
   "display_name": "Python 2",
   "language": "python",
   "name": "python2"
  }
 },
 "nbformat": 4,
 "nbformat_minor": 0
}
