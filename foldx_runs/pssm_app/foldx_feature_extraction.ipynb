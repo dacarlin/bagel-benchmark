{
 "cells": [
  {
   "cell_type": "code",
   "execution_count": 1,
   "metadata": {
    "collapsed": true
   },
   "outputs": [],
   "source": [
    "import pandas "
   ]
  },
  {
   "cell_type": "code",
   "execution_count": 3,
   "metadata": {
    "collapsed": false
   },
   "outputs": [
    {
     "name": "stdout",
     "output_type": "stream",
     "text": [
      "     1\tFoldX 4 (2011)\r\n",
      "     2\tby the FoldX Consortium \r\n",
      "     3\tJesper Borg, Frederic Rousseau, Joost Schymkowitz,\r\n",
      "     4\tLuis Serrano and Francois Stricher\r\n",
      "     5\t------------------------------------------------------\r\n",
      "     6\t\r\n",
      "     7\tPDB file analysed: batch\r\n",
      "     8\tOutput type: BuildModel\r\n",
      "     9\tPdb\ttotal energy\tBackbone Hbond\tSidechain Hbond\tVan der Waals\tElectrostatics\tSolvation Polar\tSolvation Hydrophobic\tVan der Waals clashes\tentropy sidechain\tentropy mainchain\tsloop_entropy\tmloop_entropy\tcis_bond\ttorsional clash\tbackbone clash\thelix dipole\twater bridge\tdisulfide\telectrostatic kon\tpartial covalent bonds\tenergy Ionisation\tEntropy Complex\r\n",
      "    10\t2jie_renum_1.pdb\t53.6775\t-288.487\t-154.373\t-596.868\t-35.787\t807.213\t-780.302\t51.5143\t301.521\t733.842\t0\t0\t1.12406\t21.5156\t388.77\t-8.03989\t0\t-2.72038\t0.109354\t0\t3.41451\t0\r\n"
     ]
    }
   ],
   "source": [
    "! head Raw_2jie_renum.fxout | cat -n "
   ]
  },
  {
   "cell_type": "code",
   "execution_count": 26,
   "metadata": {
    "collapsed": false
   },
   "outputs": [],
   "source": [
    "with open( 'individual_list_0_PSSM.txt' ) as fn:\n",
    "    indiv_names = [ '{}{}'.format( x[0], x[2:-1] ) for x in fn.read().split() ]\n",
    "    \n",
    "d_names = dict( enumerate( indiv_names ) )"
   ]
  },
  {
   "cell_type": "code",
   "execution_count": 36,
   "metadata": {
    "collapsed": false
   },
   "outputs": [],
   "source": [
    "df = pandas.read_csv( 'Raw_2jie_renum.fxout', sep='\\t', skiprows=8 )\n",
    "df[ 'mutant_name' ] = df.Pdb.map( lambda x: x.split( '_' )[-1].replace('.pdb','') ).astype( int ).map( d_names )"
   ]
  },
  {
   "cell_type": "code",
   "execution_count": 53,
   "metadata": {
    "collapsed": false,
    "scrolled": false
   },
   "outputs": [
    {
     "name": "stdout",
     "output_type": "stream",
     "text": [
      "             total energy  Backbone Hbond  Sidechain Hbond  Van der Waals  \\\n",
      "mutant_name                                                                 \n",
      "E164V             58.8556        -288.259         -152.133       -597.953   \n",
      "A236N             59.7291        -288.513         -155.432       -599.612   \n",
      "H373M             54.9928        -288.411         -154.554       -598.791   \n",
      "A236C             57.0418        -288.261         -155.514       -598.552   \n",
      "S400P             56.6960        -287.563         -156.186       -599.518   \n",
      "\n",
      "             Electrostatics  Solvation Polar  Solvation Hydrophobic  \\\n",
      "mutant_name                                                           \n",
      "E164V              -36.3758          808.003               -781.191   \n",
      "A236N              -35.5543          809.595               -784.243   \n",
      "H373M              -35.6995          809.019               -783.002   \n",
      "A236C              -35.6885          809.603               -781.901   \n",
      "S400P              -35.6856          812.063               -783.059   \n",
      "\n",
      "             Van der Waals clashes  entropy sidechain  entropy mainchain  \\\n",
      "mutant_name                                                                \n",
      "E164V                      54.0677            302.276            734.635   \n",
      "A236N                      58.5421            304.833            734.682   \n",
      "H373M                      54.1779            303.105            733.948   \n",
      "A236C                      54.2112            303.437            734.335   \n",
      "S400P                      53.0176            303.615            734.437   \n",
      "\n",
      "                  ...         cis_bond  torsional clash  backbone clash  \\\n",
      "mutant_name       ...                                                     \n",
      "E164V             ...          1.12406          21.6394         389.001   \n",
      "A236N             ...          1.12406          21.4955         389.308   \n",
      "H373M             ...          1.12406          21.3866         389.085   \n",
      "A236C             ...          1.12406          21.4833         388.994   \n",
      "S400P             ...          1.12406          21.6868         388.974   \n",
      "\n",
      "             helix dipole  water bridge  disulfide  electrostatic kon  \\\n",
      "mutant_name                                                             \n",
      "E164V            -7.78415             0   -2.72038           0.109354   \n",
      "A236N            -7.99475             0   -2.72038           0.109354   \n",
      "H373M            -8.04168             0   -2.72038           0.109354   \n",
      "A236C            -8.04168             0   -2.72038           0.109354   \n",
      "S400P            -8.04168             0   -2.72038           0.109354   \n",
      "\n",
      "             partial covalent bonds  energy Ionisation  Entropy Complex  \n",
      "mutant_name                                                              \n",
      "E164V                             0            3.41814                0  \n",
      "A236N                             0            3.41809                0  \n",
      "H373M                             0            3.34208                0  \n",
      "A236C                             0            3.41809                0  \n",
      "S400P                             0            3.41838                0  \n",
      "\n",
      "[5 rows x 22 columns]\n",
      "             total energy  Backbone Hbond  Sidechain Hbond  Van der Waals  \\\n",
      "mutant_name                                                                 \n",
      "E177M             56.2472        -288.522         -155.735       -598.572   \n",
      "E406T             54.5707        -288.354         -157.175       -598.705   \n",
      "T218P             57.0325        -288.261         -155.510       -598.544   \n",
      "E353M             56.9904        -288.261         -155.514       -598.569   \n",
      "E177N             56.2204        -288.539         -155.842       -598.531   \n",
      "\n",
      "             Electrostatics  Solvation Polar  Solvation Hydrophobic  \\\n",
      "mutant_name                                                           \n",
      "E177M              -35.6946          809.505               -781.997   \n",
      "E406T              -35.7930          809.750               -782.002   \n",
      "T218P              -35.6884          809.603               -781.887   \n",
      "E353M              -35.7304          809.617               -781.928   \n",
      "E177N              -35.6904          809.474               -781.915   \n",
      "\n",
      "             Van der Waals clashes  entropy sidechain  entropy mainchain  \\\n",
      "mutant_name                                                                \n",
      "E177M                      54.1436            303.398            734.336   \n",
      "E406T                      53.3158            303.730            734.414   \n",
      "T218P                      54.1776            303.437            734.335   \n",
      "E353M                      54.2087            303.453            734.336   \n",
      "E177N                      54.1071            303.420            734.323   \n",
      "\n",
      "                  ...         cis_bond  torsional clash  backbone clash  \\\n",
      "mutant_name       ...                                                     \n",
      "E177M             ...          1.12406          21.4919         389.000   \n",
      "E406T             ...          1.12406          21.4971         388.930   \n",
      "T218P             ...          1.12406          21.4808         388.994   \n",
      "E353M             ...          1.12406          21.4882         388.996   \n",
      "E177N             ...          1.12406          21.5195         388.980   \n",
      "\n",
      "             helix dipole  water bridge  disulfide  electrostatic kon  \\\n",
      "mutant_name                                                             \n",
      "E177M            -8.03974             0   -2.72038           0.109354   \n",
      "E406T            -8.03795             0   -2.72038           0.109354   \n",
      "T218P            -8.04168             0   -2.72038           0.109354   \n",
      "E353M            -8.04085             0   -2.72038           0.109354   \n",
      "E177N            -8.03727             0   -2.72038           0.109354   \n",
      "\n",
      "             partial covalent bonds  energy Ionisation  Entropy Complex  \n",
      "mutant_name                                                              \n",
      "E177M                             0            3.41808                0  \n",
      "E406T                             0            3.41809                0  \n",
      "T218P                             0            3.41809                0  \n",
      "E353M                             0            3.41809                0  \n",
      "E177N                             0            3.41813                0  \n",
      "\n",
      "[5 rows x 22 columns]\n",
      "(1340, 22)\n",
      "(1340, 22)\n"
     ]
    }
   ],
   "source": [
    "mutants = df.ix[ range( 0, len( df ), 2 ), ]\n",
    "wts = df.ix[ range( 1, len( df ), 2 ), ] \n",
    "\n",
    "mutants = mutants.drop( 'Pdb', axis=1 ).set_index( 'mutant_name', drop=True )\n",
    "wts = wts.drop( 'Pdb', axis=1 ).set_index( 'mutant_name', drop=True )\n",
    "\n",
    "mutants.to_csv( 'foldx_mutants.csv' ) \n",
    "\n",
    "print mutants.sample( 5 ) \n",
    "print wts.sample( 5 ) \n",
    "\n",
    "print mutants.shape\n",
    "print wts.shape \n",
    "\n",
    "diff_features = mutants - wts \n",
    "diff_features.to_csv( 'foldx_features_diff_from_WT.csv' )"
   ]
  },
  {
   "cell_type": "code",
   "execution_count": 52,
   "metadata": {
    "collapsed": false
   },
   "outputs": [
    {
     "name": "stdout",
     "output_type": "stream",
     "text": [
      "mutant_name,total energy,Backbone Hbond,Sidechain Hbond,Van der Waals,Electrostatics,Solvation Polar,Solvation Hydrophobic,Van der Waals clashes,entropy sidechain,entropy mainchain,sloop_entropy,mloop_entropy,cis_bond,torsional clash,backbone clash,helix dipole,water bridge,disulfide,electrostatic kon,partial covalent bonds,energy Ionisation,Entropy Complex\r\n",
      "Q19C,-0.1349,0.102,1.438,1.728,-0.0067,-2.478,1.639,-0.1152,-1.946,-0.49,0,0,0.0,-0.0039,-0.199,0.0,0,0.0,0.0,0,-0.00322,0\r\n",
      "Q19D,-0.4538,-0.47,1.486,1.027,-0.0315,-2.174,0.9,-0.556,-0.889,0.111,0,0,0.0,0.1518,-0.0860000000001,-0.000229999999998,0,0.0,0.0,0,-0.00781,0\r\n",
      "Q19E,2.3218,0.0529999999999,0.841,0.758,0.6647,0.651,0.935,-0.00519999999999,-1.273,-0.208,0,0,0.0,0.004,-0.00500000000005,-0.09349,0,0.0,0.0,0,-0.00324,0\r\n",
      "Q19F,2.3612,0.151,0.805,0.146,0.4118,2.119,0.025,-1.2726,-0.302,-0.292,0,0,0.0,0.053,-0.045,0.06855,0,0.0,0.0,0,0.44836,0\r\n",
      "Q19G,23.418,0.286,1.473,-0.635,-0.1697,-0.415,-1.79,25.1017,-0.979,0.23,0,0,0.0,0.3195,0.182,-0.000159999999999,0,0.0,0.0,0,-0.00359,0\r\n",
      "Q19H,0.3113,-0.05,1.994,2.415,0.0275,-3.15,2.743,-1.4325,-1.801,-0.141,0,0,0.0,-0.2879,-0.309,0.000300000000001,0,0.0,0.0,0,-0.0064,0\r\n",
      "Q19I,18.0388,0.333,0.994,-0.165,0.0121,0.572,-0.325,17.23,-0.937,0.166,0,0,0.0,0.0016,-0.0309999999999,0.0,0,0.0,0.0,0,0.15793,0\r\n",
      "Q19K,1.3382,-0.35,0.922,-0.238,-0.0087,-0.514,-1.693,3.3151,-0.854,0.24,0,0,0.0,0.5195,0.197,3.99999999985e-05,0,0.0,0.0,0,-0.00344,0\r\n",
      "Q19L,0.9783,0.241,-0.366,-0.337,-1.4918,2.214,-0.814,1.2677,0.411,-0.195,0,0,0.0,0.0107,-0.024,0.04165,0,0.0,0.0,0,-0.00358,0\r\n"
     ]
    }
   ],
   "source": [
    "! head foldx_features_diff_from_WT.csv"
   ]
  },
  {
   "cell_type": "code",
   "execution_count": null,
   "metadata": {
    "collapsed": true
   },
   "outputs": [],
   "source": []
  }
 ],
 "metadata": {
  "kernelspec": {
   "display_name": "Python 2",
   "language": "python",
   "name": "python2"
  },
  "language_info": {
   "codemirror_mode": {
    "name": "ipython",
    "version": 2
   },
   "file_extension": ".py",
   "mimetype": "text/x-python",
   "name": "python",
   "nbconvert_exporter": "python",
   "pygments_lexer": "ipython2",
   "version": "2.7.11"
  }
 },
 "nbformat": 4,
 "nbformat_minor": 0
}
