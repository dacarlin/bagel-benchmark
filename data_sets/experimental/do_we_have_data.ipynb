{
 "cells": [
  {
   "cell_type": "code",
   "execution_count": 9,
   "metadata": {
    "collapsed": true
   },
   "outputs": [],
   "source": [
    "import pandas "
   ]
  },
  {
   "cell_type": "code",
   "execution_count": 19,
   "metadata": {
    "collapsed": false
   },
   "outputs": [
    {
     "data": {
      "text/plain": [
       "{nan,\n",
       " 'A356A',\n",
       " 'A357A',\n",
       " 'A408A',\n",
       " 'E177S',\n",
       " 'E353F',\n",
       " 'E426S',\n",
       " 'H315A',\n",
       " 'H315Y',\n",
       " 'R76Q',\n",
       " 'W409E'}"
      ]
     },
     "execution_count": 19,
     "metadata": {},
     "output_type": "execute_result"
    }
   ],
   "source": [
    "plos = pandas.read_csv( 'plos2015.csv', index_col=0 )\n",
    "thermo = pandas.read_csv( '/Users/alex/Documents/bagel-thermal/data_sets/experimental_data/thermo_paper_data_set.csv', index_col=0 )\n",
    "roster = pandas.read_csv( '/Users/alex/Documents/bagel-main/roster/roster.csv', index_col='correct_name' )\n",
    "spring_2016 = pandas.read_csv( '/Users/alex/Downloads/production_spring_2016.csv', index_col=0 )\n",
    "\n",
    "my_muts = list( plos.index ) + list( thermo.index ) + list( spring_2016.index )\n",
    "my_set = set( my_muts ) \n",
    "roster_set = set( roster.index ) \n",
    "\n",
    "roster_set - my_set "
   ]
  },
  {
   "cell_type": "code",
   "execution_count": 13,
   "metadata": {
    "collapsed": true
   },
   "outputs": [],
   "source": []
  },
  {
   "cell_type": "code",
   "execution_count": null,
   "metadata": {
    "collapsed": true
   },
   "outputs": [],
   "source": []
  }
 ],
 "metadata": {
  "kernelspec": {
   "display_name": "Python 2",
   "language": "python",
   "name": "python2"
  },
  "language_info": {
   "codemirror_mode": {
    "name": "ipython",
    "version": 2
   },
   "file_extension": ".py",
   "mimetype": "text/x-python",
   "name": "python",
   "nbconvert_exporter": "python",
   "pygments_lexer": "ipython2",
   "version": "2.7.11"
  }
 },
 "nbformat": 4,
 "nbformat_minor": 0
}
